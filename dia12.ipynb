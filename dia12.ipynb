{
 "cells": [
  {
   "cell_type": "markdown",
   "metadata": {},
   "source": [
    "### Questão 1: Strings e Substituição\n",
    "##### Enunciado: Escreva um programa que receba uma frase como entrada e substitua todas as vogais (a, e, i, o, u) por asteriscos (*), mantendo o resto igual. Imprima a frase modificada.\n",
    "Exemplo:\n",
    "- Entrada: \"Eu gosto de Python\"\n",
    "\n",
    "- Saída: \"u gst* d* Pyth*n\"\n",
    "\n"
   ]
  },
  {
   "cell_type": "code",
   "execution_count": null,
   "metadata": {},
   "outputs": [
    {
     "name": "stdout",
     "output_type": "stream",
     "text": [
      "** g*st* d* pyth*n\n",
      "** g*st* d* pyth*n\n"
     ]
    }
   ],
   "source": [
    "vogais = [\"u\",\"o\",\"i\",\"e\",\"a\"]\n",
    "frase = input(\"Escreva uma frase: \").lower()\n",
    "for i in vogais:\n",
    "    frase = frase.replace(i,\"*\")\n",
    "print(frase)"
   ]
  },
  {
   "cell_type": "markdown",
   "metadata": {},
   "source": [
    "### Questão 2: Listas e Filtros\n",
    "##### Enunciado: Escreva uma função filtra_maiores que receba uma lista de números inteiros e um valor inteiro limite como parâmetros, e retorne uma nova lista com apenas os números maiores que limite. Use a função em um programa com uma lista fixa de 7 números e limite = 5, imprimindo o resultado.\n",
    "Exemplo:\n",
    "- Lista: [2, 7, 4, 9, 5, 8, 3], limite = 5\n",
    "\n",
    "- Saída: [7, 9, 8]\n",
    "\n"
   ]
  },
  {
   "cell_type": "code",
   "execution_count": 6,
   "metadata": {},
   "outputs": [
    {
     "name": "stdout",
     "output_type": "stream",
     "text": [
      "[7, 9, 8]\n"
     ]
    }
   ],
   "source": [
    "def filtra_maiores(numeros,k):\n",
    "    maiores = [valor for valor in numeros if k < valor]\n",
    "    return maiores\n",
    "\n",
    "nsuck =[2, 7, 4, 9, 5, 8, 3] \n",
    "limite = 5\n",
    "print(filtra_maiores(nsuck, limite))"
   ]
  },
  {
   "cell_type": "markdown",
   "metadata": {},
   "source": [
    "### Questão 3: Dicionários e Contagem\n",
    "##### Enunciado: Escreva um programa que receba 5 pares \"produto,quantidade\" (ex.: \"maçã,3\") como entrada, um por linha, e armazene em um dicionário (quantidade como inteiro). Depois, imprima o produto com a maior quantidade e o total de itens (soma das quantidades).\n",
    "Exemplo:\n",
    "- Entradas:\n",
    "\n",
    "maçã,3\n",
    "banana,5\n",
    "laranja,2\n",
    "uva,4\n",
    "pera,1\n",
    "\n",
    "- Saída:\n",
    "\n",
    "Produto com maior quantidade: banana\n",
    "Total de itens: 15\n",
    "\n"
   ]
  },
  {
   "cell_type": "code",
   "execution_count": null,
   "metadata": {},
   "outputs": [
    {
     "name": "stdout",
     "output_type": "stream",
     "text": [
      "Produto em maior quantia: b  Total de itens: 12.0\n"
     ]
    }
   ],
   "source": [
    "compras = {}\n",
    "for i in range(5):\n",
    "    produto, quantidade = input(\"\").split(\",\")\n",
    "    compras[produto] = int(quantidade)\n",
    "print(f\"Produto em maior quantia: {max(compras, key=compras.get)}\")\n",
    "print(f\"Total de itens: {sum(compras.values())}\")"
   ]
  },
  {
   "cell_type": "markdown",
   "metadata": {},
   "source": [
    "### Questão 4: Loops e Padrões\n",
    "##### Enunciado: Escreva um programa que receba um número inteiro positivo n como entrada e imprima um triângulo invertido de números, onde a primeira linha tem n números (de 1 a n), a segunda tem n-1, e assim por diante até 1.\n",
    "Exemplo:\n",
    "- Entrada: 4\n",
    "\n",
    "- Saída:\n",
    "\n",
    "1 2 3 4\n",
    "1 2 3\n",
    "1 2\n",
    "1\n",
    "\n"
   ]
  },
  {
   "cell_type": "code",
   "execution_count": 14,
   "metadata": {},
   "outputs": [
    {
     "name": "stdout",
     "output_type": "stream",
     "text": [
      "1 2 3 4\n",
      "1 2 3\n",
      "1 2\n",
      "1\n"
     ]
    }
   ],
   "source": [
    "n = int(input(\"Digite um número: \"))\n",
    "valores = [i for i in range(1, 1+n)]\n",
    "for i in range (n):\n",
    "    print(*valores)\n",
    "    valores.pop()"
   ]
  },
  {
   "cell_type": "markdown",
   "metadata": {},
   "source": [
    "### Questão 5: Funções e Matemática\n",
    "##### Enunciado: Escreva uma função fatorial que receba um número inteiro positivo como parâmetro e retorne seu fatorial (ex.: 5! = 5 × 4 × 3 × 2 × 1 = 120). Use a função em um programa que peça um número ao usuário e imprima o resultado.\n",
    "Exemplo:\n",
    "- Entrada: 5\n",
    "\n",
    "- Saída: 120\n",
    "\n"
   ]
  },
  {
   "cell_type": "code",
   "execution_count": 13,
   "metadata": {},
   "outputs": [
    {
     "name": "stdout",
     "output_type": "stream",
     "text": [
      "6\n"
     ]
    }
   ],
   "source": [
    "def fatorial(numero):\n",
    "    fator = 1\n",
    "    for i in range(numero,1,-1):\n",
    "        fator *= i\n",
    "    return fator\n",
    "\n",
    "n = int(input(\"Escreva um número: \"))\n",
    "print(fatorial(n))"
   ]
  }
 ],
 "metadata": {
  "kernelspec": {
   "display_name": "Python 3",
   "language": "python",
   "name": "python3"
  },
  "language_info": {
   "codemirror_mode": {
    "name": "ipython",
    "version": 3
   },
   "file_extension": ".py",
   "mimetype": "text/x-python",
   "name": "python",
   "nbconvert_exporter": "python",
   "pygments_lexer": "ipython3",
   "version": "3.11.4"
  }
 },
 "nbformat": 4,
 "nbformat_minor": 2
}
