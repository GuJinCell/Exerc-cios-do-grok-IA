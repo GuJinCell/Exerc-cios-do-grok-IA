{
 "cells": [
  {
   "cell_type": "markdown",
   "metadata": {},
   "source": [
    "### Questão 1: Strings e Condições Aninhadas\n",
    "##### Enunciado: Escreva um programa que receba uma palavra como entrada e verifique:\n",
    "Se ela tem mais de 5 letras E começa com uma vogal (a, e, i, o, u, ignorando maiúsculas/minúsculas), imprima \"É longa e começa com vogal!\".\n",
    "\n",
    "Caso contrário, imprima \"Não atende aos critérios!\".\n",
    "Use uma lista de vogais e condições aninhadas.\n",
    "\n",
    "Exemplo:\n",
    "- Entrada: \"elefante\" → \"É longa e começa com vogal!\" (8 letras, começa com \"e\").\n",
    "\n",
    "- Entrada: \"gato\" → \"Não atende aos critérios!\" (4 letras).\n",
    "\n"
   ]
  },
  {
   "cell_type": "code",
   "execution_count": null,
   "metadata": {},
   "outputs": [],
   "source": [
    "palavra = input()\n",
    "vogais = [\"a\", \"e\",\"i\",\"o\",\"u\"]\n",
    "palavra = palavra.lower()\n",
    "if len(palavra) > 5 and palavra[0] in vogais:\n",
    "    print(\"É longa e começa com vogal!\")\n",
    "else:\n",
    "    print(\"Não atende aos critérios!\")"
   ]
  },
  {
   "cell_type": "markdown",
   "metadata": {},
   "source": [
    "### Questão 2: Listas e Funções\n",
    "##### Enunciado: Escreva uma função maior_menor que receba uma lista de números inteiros como parâmetro e retorne uma tupla com o maior e o menor valor da lista. Use a função em um programa que crie uma lista com 5 números quaisquer e imprima o resultado.\n",
    "Exemplo:\n",
    "- Lista: [8, 3, 12, 1, 9]\n",
    "\n",
    "- Saída: (12, 1)\n",
    "\n"
   ]
  },
  {
   "cell_type": "code",
   "execution_count": null,
   "metadata": {},
   "outputs": [],
   "source": [
    "def maior_menor(numeros_int):\n",
    "    maior = numeros_int[0]\n",
    "    menor = numeros_int[0]\n",
    "    for i in numeros_int:\n",
    "        if maior < i:\n",
    "            maior = i\n",
    "        if menor > i:\n",
    "            menor = i\n",
    "    return (maior, menor)\n",
    "\n",
    "valores = [8, 3, 12, 1, 9]\n",
    "print(maior_menor(valores))"
   ]
  },
  {
   "cell_type": "markdown",
   "metadata": {},
   "source": [
    "### Questão 3: Loops e Matemática\n",
    "##### Enunciado: Escreva um programa que receba um número inteiro positivo como entrada e imprima a soma dos quadrados dos números ímpares de 1 até esse número (inclusive). Use um loop for.\n",
    "Exemplo:\n",
    "- Entrada: 5 → Saída: 35 (1² + 3² + 5² = 1 + 9 + 25 = 35)\n",
    "\n",
    "- Entrada: 4 → Saída: 10 (1² + 3² = 1 + 9 = 10)\n",
    "\n"
   ]
  },
  {
   "cell_type": "code",
   "execution_count": null,
   "metadata": {},
   "outputs": [],
   "source": [
    "valor_int = int(input(\"Digite um número inteiro positivo\"))\n",
    "soma = 0\n",
    "while valor_int < 0:\n",
    "    valor_int = int(input(\"Entrada incorreta, digite um número inteiro positivo\"))\n",
    "for i in range(1, valor_int +1):\n",
    "    if i %2 == 1:\n",
    "        soma = soma + (i*i)\n",
    "print(soma)"
   ]
  },
  {
   "cell_type": "markdown",
   "metadata": {},
   "source": [
    "### Questão 4: Funções e Listas\n",
    "##### Enunciado: Escreva uma função filtrar_pares que receba uma lista de números inteiros como parâmetro e retorne uma nova lista contendo apenas os números pares da lista original, mantendo a ordem. Use a função em um programa que peça 5 números ao usuário (um por vez), crie uma lista com eles e imprima a lista filtrada.\n",
    "Exemplo:\n",
    "- Entrada: 3, 8, 12, 7, 4\n",
    "\n",
    "- Saída: [8, 12, 4]\n",
    "\n"
   ]
  },
  {
   "cell_type": "code",
   "execution_count": null,
   "metadata": {},
   "outputs": [],
   "source": [
    "def filtrar_pares(lista):\n",
    "    pares = []\n",
    "    for i in (lista):\n",
    "        if i%2 == 0:\n",
    "            pares.append(i)\n",
    "    return pares\n",
    "\n",
    "pares_impar = []\n",
    "for i in range (5):\n",
    "    pares_impar.append(int(input()))\n",
    "#pares_impar =[3, 8, 12, 7, 4]\n",
    "print(filtrar_pares(pares_impar))"
   ]
  }
 ],
 "metadata": {
  "language_info": {
   "name": "python"
  }
 },
 "nbformat": 4,
 "nbformat_minor": 2
}
