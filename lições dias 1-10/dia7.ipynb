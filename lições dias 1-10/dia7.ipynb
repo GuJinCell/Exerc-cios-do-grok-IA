{
 "cells": [
  {
   "cell_type": "markdown",
   "metadata": {},
   "source": [
    "### Questão 1: Strings e Contagem\n",
    "##### Enunciado: Escreva um programa que receba uma frase como entrada e conte quantas palavras têm mais de 3 letras. Imprima o total.\n",
    "Exemplo:\n",
    "- Entrada: \"Eu gosto de python muito\"\n",
    "\n",
    "- Saída: 3 (\"gosto\", \"python\", \"muito\" têm mais de 3 letras)\n",
    "\n"
   ]
  },
  {
   "cell_type": "code",
   "execution_count": null,
   "metadata": {},
   "outputs": [
    {
     "name": "stdout",
     "output_type": "stream",
     "text": [
      "4\n"
     ]
    }
   ],
   "source": [
    "frase = input(\"Escreva uma frase: \")\n",
    "frase = frase.replace(\".\", \"\").replace(\",\",\"\")\n",
    "maoirque3 = []\n",
    "for i in frase.split():\n",
    "    if len(i) > 3:\n",
    "        maoirque3.append(i)\n",
    "print(len(maoirque3))"
   ]
  },
  {
   "cell_type": "markdown",
   "metadata": {},
   "source": [
    "### Questão 2: Funções e Listas Aninhadas\n",
    "##### Enunciado: Escreva uma função soma_lista que receba uma lista de listas de números inteiros como parâmetro e retorne a soma de todos os números nas sublistas. Use a função em um programa com uma lista fixa e imprima o resultado.\n",
    "Exemplo:\n",
    "- Lista: [[1, 2], [3, 4, 5], [6]]\n",
    "\n",
    "- Saída: 21 (1 + 2 + 3 + 4 + 5 + 6)\n",
    "\n"
   ]
  },
  {
   "cell_type": "code",
   "execution_count": 17,
   "metadata": {},
   "outputs": [
    {
     "name": "stdout",
     "output_type": "stream",
     "text": [
      "21\n"
     ]
    }
   ],
   "source": [
    "def soma_lista(n_inteiros):\n",
    "    soma = 0\n",
    "    for i in n_inteiros:\n",
    "        soma += sum(i)\n",
    "    return soma\n",
    "\n",
    "lista = [[1, 2], [3, 4, 5], [6]]\n",
    "print(soma_lista(lista))"
   ]
  },
  {
   "cell_type": "markdown",
   "metadata": {},
   "source": [
    "### Questão 3: Dicionários e Condições\n",
    "##### Enunciado: Escreva um programa que receba 4 pares \"produto,preço\" (ex.: \"maçã,2.5\") como entrada, um por linha, e armazene em um dicionário (preço como float). Depois, imprima o nome do produto mais caro e a média dos preços.\n",
    "Exemplo:\n",
    "- Entradas:\n",
    "\n",
    "maçã,2.5\n",
    "banana,1.8\n",
    "laranja,3.0\n",
    "uva,2.2\n",
    "\n",
    "- Saída: \n",
    "\n",
    "Produto mais caro: laranja\n",
    "Média dos preços: 2.375"
   ]
  },
  {
   "cell_type": "code",
   "execution_count": null,
   "metadata": {},
   "outputs": [],
   "source": [
    "estoque = {}\n",
    "for i in range(4):\n",
    "    produto_preço = input(\"Produto e preço:\")\n",
    "    produto, preço = produto_preço.split(\",\")\n",
    "    estoque[produto] = float(preço)\n",
    "maiscaro = max(estoque, key=estoque.get)\n",
    "media = sum(estoque.values)/len(estoque)\n",
    "print(f\"Produto mais caro: {maiscaro}\")\n",
    "print(f\"Média dos preços: {media}\")"
   ]
  },
  {
   "cell_type": "markdown",
   "metadata": {},
   "source": [
    "### Questão 4: Loops e Lógica\n",
    "##### Enunciado: Escreva um programa que receba um número inteiro positivo como entrada e imprima todos os números de 1 até esse número (inclusive) que sejam divisíveis por 3 ou 5, mas não por ambos. Use um loop for.\n",
    "Exemplo:\n",
    "- Entrada: 15\n",
    "\n",
    "- Saída:\n",
    "\n",
    "3\n",
    "5\n",
    "6\n",
    "9\n",
    "10\n",
    "12"
   ]
  },
  {
   "cell_type": "code",
   "execution_count": null,
   "metadata": {},
   "outputs": [
    {
     "name": "stdout",
     "output_type": "stream",
     "text": [
      "3\n",
      "5\n",
      "6\n",
      "9\n",
      "10\n",
      "12\n",
      "18\n",
      "20\n",
      "21\n",
      "24\n",
      "25\n",
      "27\n",
      "33\n",
      "35\n",
      "36\n",
      "39\n",
      "40\n",
      "42\n"
     ]
    }
   ],
   "source": [
    "numero = int(input(\"Número: \"))\n",
    "for i in range(1,numero +1):\n",
    "    if (i%3 == 0 or i%5 ==0) and not (i%3 ==0 and i%5 ==0):\n",
    "        print(i)"
   ]
  }
 ],
 "metadata": {
  "kernelspec": {
   "display_name": "Python 3",
   "language": "python",
   "name": "python3"
  },
  "language_info": {
   "codemirror_mode": {
    "name": "ipython",
    "version": 3
   },
   "file_extension": ".py",
   "mimetype": "text/x-python",
   "name": "python",
   "nbconvert_exporter": "python",
   "pygments_lexer": "ipython3",
   "version": "3.13.1"
  }
 },
 "nbformat": 4,
 "nbformat_minor": 2
}
