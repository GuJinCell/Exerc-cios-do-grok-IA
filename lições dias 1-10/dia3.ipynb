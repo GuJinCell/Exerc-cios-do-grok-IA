{
 "cells": [
  {
   "cell_type": "markdown",
   "metadata": {},
   "source": [
    "### Questão 1: Strings e Loops\n",
    "##### Enunciado: Escreva um programa que receba uma palavra como entrada e imprima cada letra da palavra em uma linha separada, mas apenas se a letra for uma vogal (a, e, i, o, u). Ignore maiúsculas/minúsculas.\n",
    "**Exemplo**:\n",
    "- Entrada: \"python\"\n",
    "\n",
    "- Saída: \"o\"\n",
    "\n",
    "- Entrada: \"felicidade\"\n",
    "\n",
    "- Saída:\"e\n",
    "i\n",
    "a\n",
    "e\""
   ]
  },
  {
   "cell_type": "code",
   "execution_count": 18,
   "metadata": {},
   "outputs": [
    {
     "name": "stdout",
     "output_type": "stream",
     "text": [
      "a\n",
      "i\n"
     ]
    }
   ],
   "source": [
    "vogais = [\"a\", \"e\", \"i\", \"o\", \"u\"]\n",
    "palavra = input(\"Escreva uma palavra: \")\n",
    "palavra = palavra.lower()\n",
    "for i in range(len(palavra)):\n",
    "    if palavra[i] in vogais:\n",
    "        print(palavra[i])"
   ]
  },
  {
   "cell_type": "markdown",
   "metadata": {},
   "source": [
    "### Questão 2: Listas e Condições\n",
    "##### Enunciado: Crie uma lista com 5 números inteiros quaisquer. Escreva um programa que encontre e imprima o maior número da lista, mas só se ele for ímpar. Se o maior número for par, imprima \"O maior número é par!\".\n",
    "**Exemplo**:\n",
    "- Lista: [4, 17, 8, 3, 12]\n",
    "\n",
    "- Saída: 17 (maior número é 17, que é ímpar)\n",
    "\n",
    "- Lista: [2, 10, 6, 8, 4]\n",
    "\n",
    "- Saída: \"O maior número é par!\" (maior número é 10, que é par)\n",
    "\n"
   ]
  },
  {
   "cell_type": "code",
   "execution_count": 6,
   "metadata": {},
   "outputs": [
    {
     "name": "stdout",
     "output_type": "stream",
     "text": [
      "O maior número é par\n"
     ]
    }
   ],
   "source": [
    "lista = [2, 10, 6, 8, 4]\n",
    "base = 0\n",
    "for i in lista:\n",
    "    if i > base:\n",
    "        base = i\n",
    "if base%2 == 1:\n",
    "    print (base)\n",
    "else:\n",
    "    print(\"O maior número é par\")"
   ]
  },
  {
   "cell_type": "markdown",
   "metadata": {},
   "source": [
    "### Questão 3: Loops e Operações\n",
    "##### Enunciado: Escreva um programa que receba um número inteiro positivo como entrada e calcule a soma de todos os números de 1 até esse número (inclusive), mas apenas dos números pares. Imprima o resultado.\n",
    "Exemplo:\n",
    "- Entrada: 6\n",
    "\n",
    "- Saída: 12 (números pares de 1 a 6 são 2, 4, 6 → 2 + 4 + 6 = 12)\n",
    "\n",
    "- Entrada: 5\n",
    "\n",
    "- Saída: 6 (números pares de 1 a 5 são 2, 4 → 2 + 4 = 6)\n",
    "\n"
   ]
  },
  {
   "cell_type": "code",
   "execution_count": null,
   "metadata": {},
   "outputs": [
    {
     "name": "stdout",
     "output_type": "stream",
     "text": [
      "12\n"
     ]
    }
   ],
   "source": [
    "numero = int(input(\"Digite um número\"))\n",
    "soma = 0\n",
    "for i in range(1,numero+1):\n",
    "    if i%2 ==0:\n",
    "        soma += i\n",
    "print(soma)"
   ]
  }
 ],
 "metadata": {
  "kernelspec": {
   "display_name": "base",
   "language": "python",
   "name": "python3"
  },
  "language_info": {
   "codemirror_mode": {
    "name": "ipython",
    "version": 3
   },
   "file_extension": ".py",
   "mimetype": "text/x-python",
   "name": "python",
   "nbconvert_exporter": "python",
   "pygments_lexer": "ipython3",
   "version": "3.9.12"
  }
 },
 "nbformat": 4,
 "nbformat_minor": 2
}
