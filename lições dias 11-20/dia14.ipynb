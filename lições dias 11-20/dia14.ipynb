{
 "cells": [
  {
   "cell_type": "markdown",
   "metadata": {},
   "source": [
    "### Questão 1: Strings e Transformação\n",
    "##### Enunciado: Escreva um programa que receba uma frase como entrada e imprima cada palavra com a primeira letra maiúscula e o resto minúsculo (ex.: \"eu GOSTO de PYTHON\" → \"Eu Gosto De Python\").\n",
    "Exemplo:\n",
    "- Entrada: \"eu GOSTO de PYTHON\"\n",
    "\n",
    "- Saída: \"Eu Gosto De Python\"\n",
    "\n"
   ]
  },
  {
   "cell_type": "code",
   "execution_count": null,
   "metadata": {},
   "outputs": [
    {
     "name": "stdout",
     "output_type": "stream",
     "text": [
      "Eu Gosto De Python\n"
     ]
    }
   ],
   "source": [
    "frase = input(\"Escreva uma frase\").lower()\n",
    "frase_capital =[i.capitalize()for i in frase.split()]\n",
    "print(*frase_capital)\n",
    "    "
   ]
  },
  {
   "cell_type": "markdown",
   "metadata": {},
   "source": [
    "### Questão 2: Listas e Manipulação (Duas Soluções)\n",
    "##### Enunciado: Escreva um programa que receba uma lista de números inteiros (fixa ou via input) e imprima uma nova lista onde cada elemento é a soma desse número com o próximo, exceto o último, que fica igual. Envie duas soluções diferentes para essa questão — eu corrigirei ambas, compararei eficiência, e aceitarei as duas como corretas se funcionarem.\n",
    "Exemplo:\n",
    "- Lista: [1, 2, 3, 4]\n",
    "\n",
    "- Saída: [3, 5, 7, 4]\n",
    "\n"
   ]
  },
  {
   "cell_type": "code",
   "execution_count": 5,
   "metadata": {},
   "outputs": [
    {
     "name": "stdout",
     "output_type": "stream",
     "text": [
      "[3, 5, 7, 4]\n"
     ]
    }
   ],
   "source": [
    "numeros = [1, 2, 3, 4]\n",
    "aumento =[(numeros[i]+numeros[i+1]) for i in range(len(numeros)-1)] + [numeros[-1]]\n",
    "print(aumento)"
   ]
  },
  {
   "cell_type": "code",
   "execution_count": 12,
   "metadata": {},
   "outputs": [
    {
     "name": "stdout",
     "output_type": "stream",
     "text": [
      "[3, 5, 7, 4]\n"
     ]
    }
   ],
   "source": [
    "numeros = [1, 2, 3, 4]\n",
    "maiores = []\n",
    "while len(numeros) > 1:\n",
    "    maiores.append(numeros[1]+numeros[0])\n",
    "    numeros.pop(0)\n",
    "maiores.append(numeros.pop(0))        \n",
    "print(maiores)"
   ]
  },
  {
   "cell_type": "markdown",
   "metadata": {},
   "source": [
    "### Questão 3: Dicionários e Filtros\n",
    "##### Enunciado: Escreva um programa que receba 5 pares \"nome,salário\" (ex.: \"Ana,2500\") como entrada, um por linha, e armazene em um dicionário (salário como float). Depois, imprima os nomes das pessoas com salário acima da média, em ordem alfabética, um por linha.\n",
    "Exemplo:\n",
    "- Entradas:\n",
    "\n",
    "Ana,2500\n",
    "João,3000\n",
    "Maria,2000\n",
    "Pedro,3500\n",
    "Luiza,1500\n",
    "\n",
    "- Saída:\n",
    "\n",
    "João\n",
    "Pedro\n",
    "\n"
   ]
  },
  {
   "cell_type": "code",
   "execution_count": null,
   "metadata": {},
   "outputs": [
    {
     "name": "stdout",
     "output_type": "stream",
     "text": [
      "['ana']\n",
      "{'ana': 10000.0, 'bia': 400.0} 5200.0\n"
     ]
    }
   ],
   "source": [
    "tab = {}\n",
    "for i in range(5):\n",
    "    nome,salario = input().split(\",\")\n",
    "    tab[nome]=float(salario)\n",
    "media = sum(tab.values())/len(tab)\n",
    "acima = [pessoa for pessoa in tab if tab[pessoa]>media]\n",
    "print(*sorted(acima),sep=\"\\n\")"
   ]
  },
  {
   "cell_type": "markdown",
   "metadata": {},
   "source": [
    "### Questão 4: Arquivos e Contagem\n",
    "##### Enunciado: Escreva um programa que leia um arquivo de texto chamado \"palavras.txt\" contendo palavras separadas por espaços ou quebras de linha, e imprima o número total de palavras no arquivo. (Você pode criar o arquivo manualmente para testar ou simular com input se preferir.)\n",
    "Exemplo:\n",
    "Conteúdo de \"palavras.txt\":\n",
    "\n",
    "eu gosto de programar\n",
    "python é legal\n",
    "\n",
    "-Saída: 8\n",
    "\n"
   ]
  },
  {
   "cell_type": "code",
   "execution_count": 1,
   "metadata": {},
   "outputs": [
    {
     "name": "stdout",
     "output_type": "stream",
     "text": [
      "7\n"
     ]
    }
   ],
   "source": [
    "with open(\"palavras.txt\", \"w\", encoding=\"utf-8\") as arquivo:\n",
    "    arquivo.write(\"eu gosto de programar \\npython é legal\")\n",
    "with open(\"palavras.txt\",\"r\", encoding=\"utf-8\") as arquivo:\n",
    "    palavras = (arquivo.read()).split(\" \")\n",
    "print(len(palavras))"
   ]
  },
  {
   "cell_type": "markdown",
   "metadata": {},
   "source": [
    "### Questão 5: Funções e Matemática\n",
    "##### Enunciado: Escreva uma função mdc que receba dois números inteiros positivos como parâmetros e retorne o máximo divisor comum (MDC) entre eles usando o algoritmo de Euclides (MDC(a, b) = MDC(b, a % b) até resto 0). Use a função em um programa que peça dois números ao usuário e imprima o resultado.\n",
    "Exemplo:\n",
    "- Entrada: 48, 18\n",
    "\n",
    "- Saída: 6\n",
    "\n"
   ]
  },
  {
   "cell_type": "code",
   "execution_count": null,
   "metadata": {},
   "outputs": [
    {
     "name": "stdout",
     "output_type": "stream",
     "text": [
      "4\n"
     ]
    }
   ],
   "source": [
    "def mdc (a, b):\n",
    "    while b:\n",
    "        a, b = b, a%b\n",
    "    return a\n",
    "\n",
    "print(mdc(48,18))\n"
   ]
  }
 ],
 "metadata": {
  "kernelspec": {
   "display_name": "Python 3",
   "language": "python",
   "name": "python3"
  },
  "language_info": {
   "codemirror_mode": {
    "name": "ipython",
    "version": 3
   },
   "file_extension": ".py",
   "mimetype": "text/x-python",
   "name": "python",
   "nbconvert_exporter": "python",
   "pygments_lexer": "ipython3",
   "version": "3.11.4"
  }
 },
 "nbformat": 4,
 "nbformat_minor": 2
}
