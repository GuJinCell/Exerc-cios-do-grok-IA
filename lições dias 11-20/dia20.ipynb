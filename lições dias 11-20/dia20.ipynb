{
 "cells": [
  {
   "cell_type": "markdown",
   "metadata": {},
   "source": [
    "### 1- União de Palavras Únicas\n",
    "##### Escreva uma função uniao_palavras que receba duas strings e retorne um set com todas as palavras únicas (sem repetições), ignorando maiúsculas/minúsculas. Exemplo:  \n",
    "- Entrada: \"Python é legal\", \"Eu gosto de Python\"  \n",
    "\n",
    "- Saída: {'python', 'é', 'legal', 'eu', 'gosto', 'de'}\n",
    "\n"
   ]
  },
  {
   "cell_type": "code",
   "execution_count": null,
   "metadata": {},
   "outputs": [
    {
     "name": "stdout",
     "output_type": "stream",
     "text": [
      "['de', 'eu', 'gosto', 'legal', 'python', 'é']\n"
     ]
    }
   ],
   "source": [
    "def uniao_palavras (frase_1,frase_2):\n",
    "    tudo = set(frase_1.lower().split()) | set(frase_2.lower().split())\n",
    "    return tudo\n",
    "\n",
    "ex_1 = \"Python é legal\"\n",
    "ex_2 = \"Eu gosto de Python\"\n",
    "print(uniao_palavras(ex_1,ex_2))"
   ]
  },
  {
   "cell_type": "markdown",
   "metadata": {},
   "source": [
    "### 2- Filtro de Listas com Sets\n",
    "##### Dada uma lista de números inteiros e um número k, retorne uma lista com os elementos que aparecem exatamente k vezes na lista original, usando sets de forma auxiliar. Exemplo:  \n",
    "- Entrada: [1, 2, 2, 3, 3, 3, 4], k = 2  \n",
    "\n",
    "- Saída: [2] (2 aparece 2 vezes)"
   ]
  },
  {
   "cell_type": "code",
   "execution_count": 29,
   "metadata": {},
   "outputs": [
    {
     "name": "stdout",
     "output_type": "stream",
     "text": [
      "[2]\n"
     ]
    }
   ],
   "source": [
    "def conta_repeticao (lista, k):\n",
    "    no_dupe = set(lista)\n",
    "    repetidos = [i for i in no_dupe if lista.count(i)== k]\n",
    "    return (repetidos)\n",
    "\n",
    "\n",
    "numeros = [1, 2, 2, 3, 3, 3, 4]\n",
    "k = 2\n",
    "print(conta_repeticao(numeros, k))    "
   ]
  },
  {
   "cell_type": "markdown",
   "metadata": {},
   "source": [
    "### 3- Inversão de Dicionário com Sets\n",
    "##### Dado um dicionário onde as chaves são strings e os valores são sets de números, inverta-o para que os números sejam as chaves e os valores sejam sets das strings originais. Exemplo:  \n",
    "- Entrada: {\"a\": {1, 2}, \"b\": {2, 3}, \"c\": {1, 3}}  \n",
    "\n",
    "- Saída: {1: {\"a\", \"c\"}, 2: {\"a\", \"b\"}, 3: {\"b\", \"c\"}}\n",
    "\n"
   ]
  },
  {
   "cell_type": "code",
   "execution_count": 16,
   "metadata": {},
   "outputs": [
    {
     "name": "stdout",
     "output_type": "stream",
     "text": [
      "{1: {'c', 'a'}, 2: {'a', 'b'}, 3: {'c', 'b'}}\n"
     ]
    }
   ],
   "source": [
    "letras_numeros = {\"a\": {1, 2}, \"b\": {2, 3}, \"c\": {1, 3}}\n",
    "numeros_em_letras = {}\n",
    "for letras, numeros in letras_numeros.items():\n",
    "    for numero in numeros:\n",
    "        if numero not in numeros_em_letras:\n",
    "            numeros_em_letras[numero] = set()\n",
    "        numeros_em_letras[numero].add(letras)\n",
    "print(numeros_em_letras)"
   ]
  },
  {
   "cell_type": "markdown",
   "metadata": {},
   "source": [
    "### 4- Arquivo com Palavras Reversas\n",
    "##### Escreva uma função que leia um arquivo de texto (uma palavra por linha), inverta cada palavra e grave as palavras invertidas em um novo arquivo, mantendo apenas as únicas (sem duplicatas), em ordem alfabética. Exemplo:  \n",
    "- Arquivo de entrada: palavras.txt com \"casa\\nsol\\ncasa\"  \n",
    "\n",
    "- Arquivo de saída: reversas.txt com \"alos\\nasac\""
   ]
  },
  {
   "cell_type": "code",
   "execution_count": 21,
   "metadata": {},
   "outputs": [],
   "source": [
    "def palavras_reversas(arquivo,reverso):\n",
    "    with open(arquivo,\"r\",encoding=\"utf-8\") as arquivo:\n",
    "        palavras = [i.strip() for i in arquivo]\n",
    "    reversas = set(i[::-1] for i in palavras)\n",
    "    with open(reverso,\"w\", encoding=\"utf-8\") as saida:\n",
    "        for palavra in sorted(reversas):\n",
    "            saida.write(f\"{palavra}\\n\")\n",
    "\n",
    "\n",
    "entrada = \"palavras_20.txt\"\n",
    "saida = \"reversa_20.txt\"\n",
    "with open(entrada, \"w\", encoding=\"utf-8\") as f:\n",
    "    f.write(\"casa\\nsol\\ncasa\")\n",
    "palavras_reversas(entrada, saida)"
   ]
  },
  {
   "cell_type": "markdown",
   "metadata": {},
   "source": [
    "### 5- Contagem de Pares em Tuplas\n",
    "##### Escreva uma função conta_pares que receba uma tupla de números inteiros e retorne a quantidade de pares únicos de números cuja soma seja par, usando sets para evitar duplicatas. Considere pares (a, b) onde a <= b para evitar contar (1, 2) e (2, 1). Exemplo:  \n",
    "- Entrada: (1, 2, 3, 4)  \n",
    "\n",
    "- Saída: 3 (pares: (1, 3) soma 4, (2, 4) soma 6; mas corrigindo o exemplo: pares válidos são (1, 3), (2, 4), (3, 5) não está na tupla, então reviso: pares são (1, 3), (2, 4) — erro meu, ajusto o exemplo para (1, 2, 3, 4) ter 3 pares válidos com (1, 3), (2, 4), (1, 5) não existe — vou corrigir o exemplo abaixo).\n",
    "\n"
   ]
  },
  {
   "cell_type": "code",
   "execution_count": null,
   "metadata": {},
   "outputs": [
    {
     "name": "stdout",
     "output_type": "stream",
     "text": [
      "2\n"
     ]
    }
   ],
   "source": [
    "def conta_pares(tupla):\n",
    "    pares = set()\n",
    "    for i in range(len(tupla)):\n",
    "        for j in range(i, len(tupla)):\n",
    "            if (tupla[i] + tupla[j])%2 == 0 and i != j:\n",
    "                pares.add((tupla[i],tupla[j]))\n",
    "    return len(pares)\n",
    "\n",
    "teste = (1, 2, 3, 4) \n",
    "print(conta_pares(teste))"
   ]
  }
 ],
 "metadata": {
  "kernelspec": {
   "display_name": "Python 3",
   "language": "python",
   "name": "python3"
  },
  "language_info": {
   "codemirror_mode": {
    "name": "ipython",
    "version": 3
   },
   "file_extension": ".py",
   "mimetype": "text/x-python",
   "name": "python",
   "nbconvert_exporter": "python",
   "pygments_lexer": "ipython3",
   "version": "3.13.1"
  }
 },
 "nbformat": 4,
 "nbformat_minor": 2
}
