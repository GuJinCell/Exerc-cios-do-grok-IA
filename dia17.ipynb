{
 "cells": [
  {
   "cell_type": "markdown",
   "metadata": {},
   "source": [
    "### Questão 1: Strings e Contagem\n",
    "##### Enunciado: Escreva um programa que receba uma frase como entrada e imprima o número de palavras que contêm pelo menos uma vogal (a, e, i, o, u), ignorando maiúsculas/minúsculas.\n",
    "Exemplo:\n",
    "- Entrada: \"Eu sou o sol\"\n",
    "\n",
    "- Saída: 4"
   ]
  },
  {
   "cell_type": "code",
   "execution_count": 13,
   "metadata": {},
   "outputs": [
    {
     "name": "stdout",
     "output_type": "stream",
     "text": [
      "2\n"
     ]
    }
   ],
   "source": [
    "frase = input()\n",
    "vogais = [\"a\",\"e\",\"o\",\"i\",\"u\"]\n",
    "contador = 0\n",
    "for i in frase.split():\n",
    "    for j in (vogais):\n",
    "        if j in i.lower():\n",
    "            contador +=1\n",
    "            break\n",
    "print(contador)"
   ]
  },
  {
   "cell_type": "markdown",
   "metadata": {},
   "source": [
    "### Questão 2: Listas e Remoção\n",
    "##### Enunciado: Escreva uma função remove_repetidos que receba uma lista de inteiros como parâmetro e retorne uma nova lista sem elementos repetidos, mantendo a ordem original. Use a função em um programa com uma lista fixa de 7 números e imprima o resultado.\n",
    "Exemplo:\n",
    "- Lista: [1, 2, 3, 2, 4, 1, 5]\n",
    "\n",
    "- Saída: [1, 2, 3, 4, 5]"
   ]
  },
  {
   "cell_type": "code",
   "execution_count": 4,
   "metadata": {},
   "outputs": [
    {
     "name": "stdout",
     "output_type": "stream",
     "text": [
      "[1, 2, 3, 4, 5]\n"
     ]
    }
   ],
   "source": [
    "def remove_repetidos(inteiros):\n",
    "    arruma = []\n",
    "    for i in inteiros:\n",
    "        if i not in arruma:\n",
    "            arruma.append(i)\n",
    "    return arruma\n",
    "\n",
    "lista =  [1, 2, 3, 2, 4, 1, 5]\n",
    "print(remove_repetidos(lista))"
   ]
  },
  {
   "cell_type": "markdown",
   "metadata": {},
   "source": [
    "### Questão 3: Dicionários e Atualização\n",
    "##### Enunciado: Escreva um programa que receba 5 pares \"nome,idade\" (ex.: \"Ana,25\") como entrada, um por linha, e armazene em um dicionário (idade como int). Depois, peça ao usuário um nome e um número inteiro x, e atualize a idade dessa pessoa somando x, imprimindo o dicionário atualizado.\n",
    "Exemplo:\n",
    "- Entradas:\n",
    "\n",
    "Ana,25\n",
    "João,30\n",
    "Maria,22\n",
    "Pedro,28\n",
    "Luiza,19\n",
    "\n",
    "- Entrada adicional: \"João,5\"\n",
    "\n",
    "- Saída: {'Ana': 25, 'João': 35, 'Maria': 22, 'Pedro': 28, 'Luiza': 19}"
   ]
  },
  {
   "cell_type": "code",
   "execution_count": null,
   "metadata": {},
   "outputs": [],
   "source": [
    "status = {}\n",
    "for i in range(5):\n",
    "    nome,idade = input().split(\",\")\n",
    "    status[nome]=int(idade)\n",
    "nome, exidade = input(\"atualize a idade de alguém:\").split(\",\")\n",
    "status[nome]+= int(exidade)\n",
    "print(status)\n"
   ]
  },
  {
   "cell_type": "markdown",
   "metadata": {},
   "source": [
    "### Questão 4: Arquivos e Transformação\n",
    "##### Enunciado: Escreva um programa que leia um arquivo \"frases.txt\" contendo frases (uma por linha). Se o arquivo não existir, crie-o com 3 frases de exemplo. Depois, leia o arquivo e grave um novo arquivo \"maiusculas.txt\" com todas as frases em maiúsculas. Use encoding=\"utf-8\".\n",
    "Exemplo:\n",
    "\"frases.txt\":\n",
    "\n",
    "Eu gosto de python\n",
    "\n",
    "Programar é legal\n",
    "\n",
    "Hoje é quarta\n",
    "\n",
    "\"maiusculas.txt\" (após execução):\n",
    "\n",
    "EU GOSTO DE PYTHON\n",
    "\n",
    "PROGRAMAR É LEGAL\n",
    "\n",
    "HOJE É QUARTA"
   ]
  },
  {
   "cell_type": "code",
   "execution_count": 19,
   "metadata": {},
   "outputs": [],
   "source": [
    "with open(\"frases.txt\", \"w\", encoding=\"utf-8\") as arquivo:\n",
    "    for i in range(3):\n",
    "        arquivo.write(input(\"\")+\"\\n\")\n",
    "with open(\"frases.txt\", \"r\", encoding=\"utf-8\") as arquivo:\n",
    "    with open(\"maiusculas.txt\", \"w\", encoding=\"utf-8\") as maiscula:\n",
    "        for i in arquivo:\n",
    "            maiscula.write((i.upper()).strip()+\"\\n\")"
   ]
  },
  {
   "cell_type": "markdown",
   "metadata": {},
   "source": [
    "### Questão 5: Tuplas e Soma\n",
    "##### Enunciado: Escreva uma função soma_tupla que receba uma tupla de inteiros como parâmetro e retorne a soma dos elementos nas posições ímpares (índices 1, 3, 5, ...). Use a função em um programa com uma tupla fixa de 6 números e imprima o resultado.\n",
    "Exemplo:\n",
    "- Tupla: (1, 2, 3, 4, 5, 6)\n",
    "\n",
    "- Saída: 12 (2 + 4 + 6)"
   ]
  },
  {
   "cell_type": "code",
   "execution_count": 11,
   "metadata": {},
   "outputs": [
    {
     "name": "stdout",
     "output_type": "stream",
     "text": [
      "12\n"
     ]
    }
   ],
   "source": [
    "def soma_tupla(tupla_inter):\n",
    "    soma = 0\n",
    "    for i in range (len(tupla_inter)):\n",
    "        if not i%2 == 0:\n",
    "            soma += tupla_inter[i]\n",
    "    return soma\n",
    "\n",
    "\n",
    "tupla = (1, 2, 3, 4, 5, 6)\n",
    "print(soma_tupla(tupla))"
   ]
  }
 ],
 "metadata": {
  "kernelspec": {
   "display_name": "Python 3",
   "language": "python",
   "name": "python3"
  },
  "language_info": {
   "codemirror_mode": {
    "name": "ipython",
    "version": 3
   },
   "file_extension": ".py",
   "mimetype": "text/x-python",
   "name": "python",
   "nbconvert_exporter": "python",
   "pygments_lexer": "ipython3",
   "version": "3.11.4"
  }
 },
 "nbformat": 4,
 "nbformat_minor": 2
}
