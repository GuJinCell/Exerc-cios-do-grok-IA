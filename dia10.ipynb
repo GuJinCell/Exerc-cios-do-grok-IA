{
 "cells": [
  {
   "cell_type": "markdown",
   "metadata": {},
   "source": [
    "### Questão 1: Strings e Validação\n",
    "##### Enunciado: Escreva um programa que receba uma palavra como entrada e verifique se ela é um palíndromo (lê-se igual de trás para frente, ignorando maiúsculas/minúsculas). Imprima \"Sim\" se for, e \"Não\" se não for.\n",
    "Exemplo:\n",
    "- Entrada: \"Radar\" → Saída: \"Sim\"\n",
    "\n",
    "- Entrada: \"Python\" → Saída: \"Não\""
   ]
  },
  {
   "cell_type": "code",
   "execution_count": null,
   "metadata": {},
   "outputs": [
    {
     "name": "stdout",
     "output_type": "stream",
     "text": [
      "nohtyp python\n",
      "Nâo\n"
     ]
    }
   ],
   "source": [
    "palavra = input(\"Ecreva uma palavra: \").lower()\n",
    "contra = (\"\").join(reversed(palavra))\n",
    "if palavra == contra:\n",
    "    print(\"Sim\")\n",
    "else:\n",
    "    print(\"Não\")"
   ]
  },
  {
   "cell_type": "markdown",
   "metadata": {},
   "source": [
    "### Questão 2: Listas e Funções\n",
    "##### Enunciado: Escreva uma função intercalacao que receba duas listas de números inteiros como parâmetros e retorne uma nova lista com os elementos intercalados (um de cada lista, alternadamente). Se uma lista for maior, os elementos restantes devem ir para o final. Use a função em um programa com duas listas fixas e imprima o resultado.\n",
    "Exemplo:\n",
    "- Listas: [1, 3, 5] e [2, 4, 6, 8]\n",
    "\n",
    "- Saída: [1, 2, 3, 4, 5, 6, 8]\n",
    "\n"
   ]
  },
  {
   "cell_type": "code",
   "execution_count": null,
   "metadata": {},
   "outputs": [
    {
     "name": "stdout",
     "output_type": "stream",
     "text": [
      "[1, 2, 3, 4, 5, 6, 8]\n"
     ]
    }
   ],
   "source": [
    "def intercalacao(lista_1, lista_2):\n",
    "    juncao = []\n",
    "    l1, l2 = lista_1.copy(), lista_2.copy()\n",
    "    while l1 or l2:\n",
    "        if l1:\n",
    "            juncao.append(l1.pop(0))\n",
    "        if l2:\n",
    "            juncao.append(l2.pop(0))\n",
    "    return juncao\n",
    "\n",
    "\n",
    "lista1 = [1,3,5]\n",
    "lista2 = [2, 4, 6, 8]\n",
    "print(intercalacao(lista1, lista2))"
   ]
  },
  {
   "cell_type": "markdown",
   "metadata": {},
   "source": [
    "### Questão 3: Dicionários e Filtros\n",
    "##### Enunciado: Escreva um programa que receba 5 pares \"cidade,temperatura\" (ex.: \"São Paulo,25\") como entrada, um por linha, e armazene em um dicionário (temperatura como inteiro). Depois, imprima apenas as cidades com temperatura acima de 20 graus, em ordem alfabética.\n",
    "Exemplo:\n",
    "- Entradas:\n",
    "\n",
    "São Paulo,25\n",
    "Rio de Janeiro,28\n",
    "Belo Horizonte,18\n",
    "Porto Alegre,22\n",
    "Curitiba,19\n",
    "\n",
    "- Saída:\n",
    "\n",
    "Porto Alegre\n",
    "Rio de Janeiro\n",
    "São Paulo\n",
    "\n"
   ]
  },
  {
   "cell_type": "code",
   "execution_count": null,
   "metadata": {},
   "outputs": [
    {
     "name": "stdout",
     "output_type": "stream",
     "text": [
      "['rio', 'santo']\n"
     ]
    }
   ],
   "source": [
    "clima_tempo = {}\n",
    "for i in range(5):\n",
    "    cidade, temperatura = input(\"\").split(',')\n",
    "    clima_tempo[cidade] = int(temperatura)\n",
    "quente =sorted([cidade for cidade in clima_tempo if clima_tempo[cidade] > 20])\n",
    "print(*quente, sep=\"\\n\")"
   ]
  },
  {
   "cell_type": "markdown",
   "metadata": {},
   "source": [
    "### Questão 4: Loops e Padrões\n",
    "##### Enunciado: Escreva um programa que receba um número inteiro positivo n como entrada e imprima um triângulo de asteriscos com n linhas, onde cada linha tem um número crescente de asteriscos (1 na primeira, 2 na segunda, etc.).\n",
    "Exemplo:\n",
    "- Entrada: 4\n",
    "\n",
    "- Saída:\n",
    "\n",
    "*\n",
    "**\n",
    "***\n",
    "****\n",
    "\n"
   ]
  },
  {
   "cell_type": "code",
   "execution_count": 2,
   "metadata": {},
   "outputs": [
    {
     "name": "stdout",
     "output_type": "stream",
     "text": [
      "*\n",
      "**\n",
      "***\n",
      "****\n"
     ]
    }
   ],
   "source": [
    "valor = int(input())\n",
    "for i in range(1,valor + 1):\n",
    "    print(\"*\"*i)"
   ]
  }
 ],
 "metadata": {
  "kernelspec": {
   "display_name": "Python 3",
   "language": "python",
   "name": "python3"
  },
  "language_info": {
   "codemirror_mode": {
    "name": "ipython",
    "version": 3
   },
   "file_extension": ".py",
   "mimetype": "text/x-python",
   "name": "python",
   "nbconvert_exporter": "python",
   "pygments_lexer": "ipython3",
   "version": "3.11.4"
  }
 },
 "nbformat": 4,
 "nbformat_minor": 2
}
