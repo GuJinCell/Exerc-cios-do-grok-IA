{
 "cells": [
  {
   "cell_type": "markdown",
   "metadata": {},
   "source": [
    "### Questão 1: Strings e Condições\n",
    "##### Enunciado: Escreva um programa que receba uma palavra como entrada e verifique se ela tem mais de 5 letras. Se tiver, imprima \"A palavra é longa!\". Se não, imprima \"A palavra é curta!\".\n",
    "**Exemplo**:\n",
    "- Entrada: \"python\"\n",
    "\n",
    "- Saída: \"A palavra é longa!\" (6 letras)\n",
    "\n",
    "- Entrada: \"sol\"\n",
    "\n",
    "- Saída: \"A palavra é curta!\" (3 letras)"
   ]
  },
  {
   "cell_type": "code",
   "execution_count": 3,
   "metadata": {},
   "outputs": [
    {
     "name": "stdout",
     "output_type": "stream",
     "text": [
      "A palavra é longa!\n"
     ]
    }
   ],
   "source": [
    "palavra = input(\"Escreva uma palavra qualquer: \")\n",
    "if len(palavra) > 5:\n",
    "    print(\"A palavra é longa!\")\n",
    "else:\n",
    "    print(\"A palavra é curta!\")"
   ]
  },
  {
   "cell_type": "markdown",
   "metadata": {},
   "source": [
    "### Questão 2: Listas e Loops\n",
    "##### Enunciado: Crie uma lista com 4 números inteiros quaisquer. Use um loop for para criar uma nova lista que contenha o dobro de cada número da lista original. Por fim, imprima a nova lista.\n",
    "Exemplo:\n",
    "- Lista original: [1, 3, 5, 7]\n",
    "\n",
    "- Saída: [2, 6, 10, 14]\n",
    "\n"
   ]
  },
  {
   "cell_type": "code",
   "execution_count": 4,
   "metadata": {},
   "outputs": [
    {
     "name": "stdout",
     "output_type": "stream",
     "text": [
      "[2, 6, 10, 14]\n"
     ]
    }
   ],
   "source": [
    "lista = [1, 3, 5, 7]\n",
    "dobro = []\n",
    "for i in lista:\n",
    "    dobro.append(i*2)\n",
    "print(dobro)"
   ]
  },
  {
   "cell_type": "markdown",
   "metadata": {},
   "source": [
    "### Questão 3: Matemática e Booleanos\n",
    "##### Enunciado: Escreva um programa que receba dois números inteiros como entrada e verifique se a soma deles é maior que 100 E (and) pelo menos um deles é par. Se ambas as condições forem verdadeiras, imprima \"Condições atendidas!\". Caso contrário, imprima \"Condições não atendidas!\".\n",
    "Exemplo:\n",
    "- Entrada: 60 e 50\n",
    "\n",
    "- Saída: \"Condições atendidas!\" (60 + 50 = 110 > 100, e 60 é par)\n",
    "\n",
    "- Entrada: 45 e 30\n",
    "\n",
    "- Saída: \"Condições não atendidas!\" (45 + 30 = 75 < 100, embora 30 seja par)\n",
    "\n"
   ]
  },
  {
   "cell_type": "code",
   "execution_count": 9,
   "metadata": {},
   "outputs": [
    {
     "name": "stdout",
     "output_type": "stream",
     "text": [
      "Condições atendidas!\n"
     ]
    }
   ],
   "source": [
    "a = int(input(\"Escolha um número: \"))\n",
    "b = int(input(\"Escolha outro número: \"))\n",
    "c = (a + b)\n",
    "if (c > 100) and ((a%2 == 0 or (b%2 == 0))):\n",
    "    print(\"Condições atendidas!\")\n",
    "else:\n",
    "    print(\"Condições não atendidas!\")"
   ]
  }
 ],
 "metadata": {
  "kernelspec": {
   "display_name": "base",
   "language": "python",
   "name": "python3"
  },
  "language_info": {
   "codemirror_mode": {
    "name": "ipython",
    "version": 3
   },
   "file_extension": ".py",
   "mimetype": "text/x-python",
   "name": "python",
   "nbconvert_exporter": "python",
   "pygments_lexer": "ipython3",
   "version": "3.9.12"
  }
 },
 "nbformat": 4,
 "nbformat_minor": 2
}
