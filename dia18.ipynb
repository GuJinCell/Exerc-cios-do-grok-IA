{
 "cells": [
  {
   "cell_type": "markdown",
   "metadata": {},
   "source": [
    "### 1- Interseção de Sets\n",
    "##### Escreva uma função intersecao_palavras que receba duas strings e retorne um set contendo as palavras que aparecem em ambas (ignorando maiúsculas/minúsculas). Exemplo:  \n",
    "- Entrada: \"Eu gosto de Python\", \"Gosto de programar em Python\"  \n",
    "\n",
    "- Saída: {'gosto', 'de', 'python'}"
   ]
  },
  {
   "cell_type": "code",
   "execution_count": null,
   "metadata": {},
   "outputs": [
    {
     "name": "stdout",
     "output_type": "stream",
     "text": [
      "{'de', 'gosto', 'python'}\n"
     ]
    }
   ],
   "source": [
    "def intersecao_palavras (frase_1, frase_2):\n",
    "    return set(palavra for palavra in frase_1.lower().split() if palavra in frase_2.lower().split())\n",
    "    \n",
    "\n",
    "frase_a = \"Eu gosto de Python\"\n",
    "frase_b = \"Gosto de programar em Python\"\n",
    "print(intersecao_palavras(frase_a,frase_b))"
   ]
  },
  {
   "cell_type": "markdown",
   "metadata": {},
   "source": [
    "### 2-Rotação com Condição\n",
    "##### Dada uma lista de números inteiros, rotacione os elementos para a direita apenas se a soma dos números for par. Se for ímpar, retorne a lista original. Exemplo:  \n",
    "- Entrada: [1, 2, 3, 4] (soma = 10, par) → Saída: [4, 1, 2, 3]  \n",
    "\n",
    "- Entrada: [1, 2, 3] (soma = 6, ímpar) → Saída: [1, 2, 3]\n",
    "\n"
   ]
  },
  {
   "cell_type": "code",
   "execution_count": null,
   "metadata": {},
   "outputs": [
    {
     "name": "stdout",
     "output_type": "stream",
     "text": [
      "[4, 1, 2, 3]\n"
     ]
    }
   ],
   "source": [
    "lista = [1, 2, 3, 4]\n",
    "rodada = []\n",
    "if sum(lista)%2 == 0:\n",
    "    rodada = [lista[-1]] + lista[0:-1:]\n",
    "else:\n",
    "    rodada = lista\n",
    "print (rodada)"
   ]
  },
  {
   "cell_type": "markdown",
   "metadata": {},
   "source": [
    "### 3- Filtro em Dicionário com Sets\n",
    "##### Dado um dicionário onde as chaves são nomes e os valores são listas de hobbies, retorne um dicionário contendo apenas as pessoas que têm mais de 2 hobbies em comum com uma lista de hobbies fornecida. Use sets para a comparação. Exemplo:  \n",
    "- Entrada: {\"Ana\": [\"leitura\", \"corrida\", \"natação\"], \"Beto\": [\"leitura\", \"cinema\", \"jogos\"], \"Clara\": [\"leitura\", \"corrida\", \"cinema\"]}, hobbies = [\"leitura\", \"corrida\", \"natação\", \"cinema\"]  \n",
    "\n",
    "- Saída: {\"Ana\": [\"leitura\", \"corrida\", \"natação\"], \"Clara\": [\"leitura\", \"corrida\", \"cinema\"]} (Ana tem 3 em comum, Clara tem 3)\n",
    "\n"
   ]
  },
  {
   "cell_type": "code",
   "execution_count": 16,
   "metadata": {},
   "outputs": [
    {
     "name": "stdout",
     "output_type": "stream",
     "text": [
      "{'Ana': ['leitura', 'corrida', 'natação'], 'Clara': ['leitura', 'corrida', 'cinema']}\n"
     ]
    }
   ],
   "source": [
    "turma = {\"Ana\": [\"leitura\", \"corrida\", \"natação\"], \"Beto\": [\"leitura\", \"cinema\", \"jogos\"],\n",
    "          \"Clara\": [\"leitura\", \"corrida\", \"cinema\"]}\n",
    "hobbies = [\"leitura\", \"corrida\", \"natação\", \"cinema\"]\n",
    "hobbies_set = set(hobbies)\n",
    "resultado = {}\n",
    "for nome, lista_hobbies in turma.items():\n",
    "    em_comum = set(lista_hobbies) & hobbies_set\n",
    "    if len(em_comum) > 2:\n",
    "        resultado[nome] = lista_hobbies\n",
    "print(resultado)"
   ]
  },
  {
   "cell_type": "markdown",
   "metadata": {},
   "source": [
    "### 4- Transformação de Arquivo\n",
    "##### Escreva uma função que leia um arquivo de texto contendo uma lista de palavras (uma por linha) e grave em outro arquivo apenas as palavras que têm mais de 5 caracteres, em ordem alfabética. Exemplo:  \n",
    "- Arquivo de entrada: palavras.txt com \"casa\\npython\\nsol\\nprogramação\"  \n",
    "\n",
    "- Arquivo de saída: saida.txt com \"programação\\npython\"\n",
    "\n"
   ]
  },
  {
   "cell_type": "code",
   "execution_count": null,
   "metadata": {},
   "outputs": [],
   "source": [
    "with open(\"palavras_18.txt\",\"w\", encoding=\"utf-8\") as arquivo:\n",
    "    arquivo.write(\"casa\\npython\\nsol\\nprogramação\")\n",
    "with open(\"palavras_18.txt\",\"r\", encoding=\"utf-8\") as arquivo:\n",
    "    with open(\"saida_18.txt\",\"w\", encoding=\"utf-8\") as saida:\n",
    "        for palavra_m_5 in sorted(arquivo):\n",
    "            if (len(palavra_m_5.strip())>5):\n",
    "                saida.write(f\"{palavra_m_5}\\n\")"
   ]
  },
  {
   "cell_type": "markdown",
   "metadata": {},
   "source": [
    "### 5- Soma de Tuplas Únicas\n",
    "##### Dada uma lista de tuplas contendo números, remova as tuplas duplicadas (usando sets internamente) e retorne a soma de todos os elementos das tuplas restantes. Exemplo:  \n",
    "- Entrada: [(1, 2), (3, 4), (1, 2), (5, 6)]  \n",
    "\n",
    "- Saída: 21 (tuplas únicas: (1, 2), (3, 4), (5, 6) → soma = 1 + 2 + 3 + 4 + 5 + 6 = 21)\n",
    "\n"
   ]
  },
  {
   "cell_type": "code",
   "execution_count": 1,
   "metadata": {},
   "outputs": [
    {
     "name": "stdout",
     "output_type": "stream",
     "text": [
      "21\n"
     ]
    }
   ],
   "source": [
    "exemplo = [(1, 2), (3, 4), (1, 2), (5, 6)]\n",
    "sem_dupe = set(exemplo)\n",
    "soma = 0\n",
    "for i in sem_dupe:\n",
    "    soma += sum(i)\n",
    "print(soma)\n"
   ]
  }
 ],
 "metadata": {
  "kernelspec": {
   "display_name": "Python 3",
   "language": "python",
   "name": "python3"
  },
  "language_info": {
   "codemirror_mode": {
    "name": "ipython",
    "version": 3
   },
   "file_extension": ".py",
   "mimetype": "text/x-python",
   "name": "python",
   "nbconvert_exporter": "python",
   "pygments_lexer": "ipython3",
   "version": "3.13.1"
  }
 },
 "nbformat": 4,
 "nbformat_minor": 2
}
