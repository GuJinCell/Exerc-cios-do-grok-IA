{
 "cells": [
  {
   "cell_type": "markdown",
   "metadata": {},
   "source": [
    "### 1- Interseção de Sets\n",
    "##### Escreva uma função intersecao_palavras que receba duas strings e retorne um set contendo as palavras que aparecem em ambas (ignorando maiúsculas/minúsculas). Exemplo:  \n",
    "- Entrada: \"Eu gosto de Python\", \"Gosto de programar em Python\"  \n",
    "\n",
    "- Saída: {'gosto', 'de', 'python'}"
   ]
  },
  {
   "cell_type": "code",
   "execution_count": null,
   "metadata": {
    "vscode": {
     "languageId": "plaintext"
    }
   },
   "outputs": [],
   "source": []
  },
  {
   "cell_type": "markdown",
   "metadata": {},
   "source": [
    "### 2-Rotação com Condição\n",
    "##### Dada uma lista de números inteiros, rotacione os elementos para a direita apenas se a soma dos números for par. Se for ímpar, retorne a lista original. Exemplo:  \n",
    "- Entrada: [1, 2, 3, 4] (soma = 10, par) → Saída: [4, 1, 2, 3]  \n",
    "\n",
    "- Entrada: [1, 2, 3] (soma = 6, ímpar) → Saída: [1, 2, 3]\n",
    "\n"
   ]
  },
  {
   "cell_type": "code",
   "execution_count": null,
   "metadata": {
    "vscode": {
     "languageId": "plaintext"
    }
   },
   "outputs": [],
   "source": []
  },
  {
   "cell_type": "markdown",
   "metadata": {},
   "source": [
    "### 3- Filtro em Dicionário com Sets\n",
    "##### Dado um dicionário onde as chaves são nomes e os valores são listas de hobbies, retorne um dicionário contendo apenas as pessoas que têm mais de 2 hobbies em comum com uma lista de hobbies fornecida. Use sets para a comparação. Exemplo:  \n",
    "- Entrada: {\"Ana\": [\"leitura\", \"corrida\", \"natação\"], \"Beto\": [\"leitura\", \"cinema\", \"jogos\"], \"Clara\": [\"leitura\", \"corrida\", \"cinema\"]}, hobbies = [\"leitura\", \"corrida\", \"natação\", \"cinema\"]  \n",
    "\n",
    "- Saída: {\"Ana\": [\"leitura\", \"corrida\", \"natação\"], \"Clara\": [\"leitura\", \"corrida\", \"cinema\"]} (Ana tem 3 em comum, Clara tem 3)\n",
    "\n"
   ]
  },
  {
   "cell_type": "code",
   "execution_count": null,
   "metadata": {
    "vscode": {
     "languageId": "plaintext"
    }
   },
   "outputs": [],
   "source": []
  },
  {
   "cell_type": "markdown",
   "metadata": {},
   "source": [
    "### 4- Transformação de Arquivo\n",
    "##### Escreva uma função que leia um arquivo de texto contendo uma lista de palavras (uma por linha) e grave em outro arquivo apenas as palavras que têm mais de 5 caracteres, em ordem alfabética. Exemplo:  \n",
    "- Arquivo de entrada: palavras.txt com \"casa\\npython\\nsol\\nprogramação\"  \n",
    "\n",
    "- Arquivo de saída: saida.txt com \"programação\\npython\"\n",
    "\n"
   ]
  },
  {
   "cell_type": "code",
   "execution_count": null,
   "metadata": {
    "vscode": {
     "languageId": "plaintext"
    }
   },
   "outputs": [],
   "source": []
  },
  {
   "cell_type": "markdown",
   "metadata": {},
   "source": [
    "### 5- Soma de Tuplas Únicas\n",
    "##### Dada uma lista de tuplas contendo números, remova as tuplas duplicadas (usando sets internamente) e retorne a soma de todos os elementos das tuplas restantes. Exemplo:  \n",
    "- Entrada: [(1, 2), (3, 4), (1, 2), (5, 6)]  \n",
    "\n",
    "- Saída: 21 (tuplas únicas: (1, 2), (3, 4), (5, 6) → soma = 1 + 2 + 3 + 4 + 5 + 6 = 21)\n",
    "\n"
   ]
  },
  {
   "cell_type": "code",
   "execution_count": null,
   "metadata": {
    "vscode": {
     "languageId": "plaintext"
    }
   },
   "outputs": [],
   "source": []
  }
 ],
 "metadata": {
  "language_info": {
   "name": "python"
  }
 },
 "nbformat": 4,
 "nbformat_minor": 2
}
