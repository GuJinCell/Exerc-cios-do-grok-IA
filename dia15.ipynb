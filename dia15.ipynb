{
 "cells": [
  {
   "cell_type": "markdown",
   "metadata": {},
   "source": [
    "### Questão 1: Strings e Frequência\n",
    "##### Enunciado: Escreva um programa que receba uma frase como entrada e imprima a palavra que aparece mais vezes (se houver empate, imprima qualquer uma delas). Considere palavras separadas por espaços e ignore maiúsculas/minúsculas.\n",
    "Exemplo:\n",
    "- Entrada: \"Eu gosto de python eu gosto de programar\"\n",
    "\n",
    "- Saída: \"eu\"\n",
    "\n"
   ]
  },
  {
   "cell_type": "code",
   "execution_count": 34,
   "metadata": {},
   "outputs": [
    {
     "name": "stdout",
     "output_type": "stream",
     "text": [
      "porra\n"
     ]
    }
   ],
   "source": [
    "frase = input(\"Escreva um frase: \").lower().split(\" \")\n",
    "palavra = \"\"\n",
    "repeticoes = 0\n",
    "for i in frase:\n",
    "    if frase.count(i) > repeticoes:\n",
    "        palavra = i\n",
    "        repeticoes = frase.count(i)\n",
    "print(palavra)"
   ]
  },
  {
   "cell_type": "markdown",
   "metadata": {},
   "source": [
    "### Questão 2: Listas e Rotação\n",
    "##### Enunciado: Escreva uma função rotacionar que receba uma lista de inteiros e um número inteiro k como parâmetros, e retorne uma nova lista rotacionada k posições à direita. Use a função em um programa com uma lista fixa de 5 números e k = 2, imprimindo o resultado.\n",
    "Exemplo:\n",
    "- Lista: [1, 2, 3, 4, 5], k = 2\n",
    "\n",
    "- Saída: [4, 5, 1, 2, 3]\n",
    "\n"
   ]
  },
  {
   "cell_type": "code",
   "execution_count": 35,
   "metadata": {},
   "outputs": [
    {
     "name": "stdout",
     "output_type": "stream",
     "text": [
      "[4, 5, 1, 2, 3]\n"
     ]
    }
   ],
   "source": [
    "def rotacionar(valores, k):\n",
    "    rodado = [numero for numero in valores[-k::]]+valores[:-k]\n",
    "    return rodado\n",
    "\n",
    "\n",
    "\n",
    "lista = [1, 2, 3, 4, 5]\n",
    "k = 2\n",
    "print(rotacionar(lista, k))"
   ]
  },
  {
   "cell_type": "markdown",
   "metadata": {},
   "source": [
    "### Questão 3: Dicionários e Agrupamento\n",
    "##### Enunciado: Escreva um programa que receba 5 pares \"nome,nota\" (ex.: \"Ana,8.5\") como entrada, um por linha, e armazene em um dicionário (nota como float). Depois, imprima dois grupos: nomes das pessoas com nota >= 7 e nomes com nota < 7, cada grupo em ordem alfabética, um nome por linha.\n",
    "Exemplo:\n",
    "- Entradas:\n",
    "\n",
    "Ana,8.5\n",
    "João,6.0\n",
    "Maria,9.0\n",
    "Pedro,5.5\n",
    "Luiza,7.5\n",
    "\n",
    "- Saída:\n",
    "\n",
    "Aprovados:\n",
    "Ana\n",
    "Luiza\n",
    "Maria\n",
    "Reprovados:\n",
    "João\n",
    "Pedro\n",
    "\n"
   ]
  },
  {
   "cell_type": "code",
   "execution_count": null,
   "metadata": {},
   "outputs": [
    {
     "name": "stdout",
     "output_type": "stream",
     "text": [
      "Aprovados['an', 'maria', 'luiza']\n",
      "Reprovados['joao', 'pedro']\n"
     ]
    }
   ],
   "source": [
    "turma = {}\n",
    "for i in range(5):\n",
    "    nome, nota = input(\"Formato: \\nnome, nota\").split(\",\")\n",
    "    turma[nome] = float(nota)\n",
    "aprovado = [aprob for aprob in turma if turma[aprob] >= 7]\n",
    "reprovado = [reprob for reprob in turma if turma[reprob] < 7]\n",
    "print(f\"Aprovados:\")\n",
    "print(*sorted(aprovado),sep=\"\\n\")\n",
    "print(\"Reprovados:\")\n",
    "print(*sorted(reprovado),sep=\"\\n\")\n",
    "\n"
   ]
  },
  {
   "cell_type": "markdown",
   "metadata": {},
   "source": [
    "### Questão 4: Arquivos e Processamento\n",
    "##### Enunciado: Escreva um programa que leia um arquivo \"numeros.txt\" contendo números inteiros (um por linha) e imprima a soma de todos os números. Se o arquivo não existir, crie-o com 5 números de exemplo antes de calcular. Use encoding=\"utf-8\" para consistência.\n",
    "Exemplo:\n",
    "- Conteúdo de \"numeros.txt\":\n",
    "\n",
    "10\n",
    "20\n",
    "30\n",
    "40\n",
    "50\n",
    "\n",
    "- Saída: 150\n",
    "\n"
   ]
  },
  {
   "cell_type": "code",
   "execution_count": 44,
   "metadata": {},
   "outputs": [
    {
     "name": "stdout",
     "output_type": "stream",
     "text": [
      "150\n"
     ]
    }
   ],
   "source": [
    "with open(\"numeros.txt\",\"w\", encoding=\"utf-8\") as arquivo:\n",
    "    arquivo.write(\"10\\n20\\n30\\n40\\n50\")\n",
    "with open(\"numeros.txt\",\"r\", encoding=\"utf-8\") as arquivo:\n",
    "    valores = [(numero) for numero in arquivo.read().split(\"\\n\")]\n",
    "numeros = [int(numero) for numero in valores]\n",
    "print(sum(numeros))"
   ]
  },
  {
   "cell_type": "markdown",
   "metadata": {},
   "source": [
    "### Questão 5: Funções e Lógica\n",
    "##### Enunciado: Escreva uma função eh_palindromo que receba uma string como parâmetro e retorne True se ela for um palíndromo (lida igual de trás para frente, ignorando espaços e maiúsculas/minúsculas) e False caso contrário. Use a função em um programa que peça uma string ao usuário e imprima o resultado.\n",
    "Exemplo:\n",
    "- Entrada: \"Racecar\"\n",
    "\n",
    "- Saída: True\n",
    "\n",
    "- Entrada: \"Python\"\n",
    "\n",
    "- Saída: False\n",
    "\n"
   ]
  },
  {
   "cell_type": "code",
   "execution_count": 42,
   "metadata": {},
   "outputs": [
    {
     "name": "stdout",
     "output_type": "stream",
     "text": [
      "False\n"
     ]
    }
   ],
   "source": [
    "def eh_palindromo(frase):\n",
    "    reversa = (\"\").join(reversed(frase))\n",
    "    return reversa == frase\n",
    "\n",
    "palavras = input(\"Escreva uma frase: \").lower().strip()\n",
    "print(eh_palindromo(palavras))"
   ]
  }
 ],
 "metadata": {
  "kernelspec": {
   "display_name": "Python 3",
   "language": "python",
   "name": "python3"
  },
  "language_info": {
   "codemirror_mode": {
    "name": "ipython",
    "version": 3
   },
   "file_extension": ".py",
   "mimetype": "text/x-python",
   "name": "python",
   "nbconvert_exporter": "python",
   "pygments_lexer": "ipython3",
   "version": "3.11.4"
  }
 },
 "nbformat": 4,
 "nbformat_minor": 2
}
