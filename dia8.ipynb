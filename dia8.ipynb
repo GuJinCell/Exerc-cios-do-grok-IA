{
 "cells": [
  {
   "cell_type": "markdown",
   "metadata": {},
   "source": [
    "### Questão 1: Strings e Transformação\n",
    "##### Enunciado: Escreva um programa que receba uma frase como entrada e imprima a frase com a primeira letra de cada palavra em maiúscula e o restante em minúscula (capitalize cada palavra).\n",
    "Exemplo:\n",
    "- Entrada: \"eu GOSTO de PYTHON muito\"\n",
    "\n",
    "- Saída: \"Eu Gosto De Python Muito\"\n",
    "\n"
   ]
  },
  {
   "cell_type": "code",
   "execution_count": 39,
   "metadata": {},
   "outputs": [
    {
     "name": "stdout",
     "output_type": "stream",
     "text": [
      "Eu Gosto De Python Muito\n"
     ]
    }
   ],
   "source": [
    "frase = input(\"\")\n",
    "lista = frase.split()\n",
    "frase_cap = [i.capitalize() for i in lista]\n",
    "print(\" \".join(frase_cap))"
   ]
  },
  {
   "cell_type": "markdown",
   "metadata": {},
   "source": [
    "### Questão 2: Listas e Funções\n",
    "##### Enunciado: Escreva uma função remover_extremos que receba uma lista de números inteiros como parâmetro e retorne uma nova lista sem o menor e o maior valor da lista original. Use a função em um programa com uma lista fixa de 5 números e imprima o resultado. Se a lista tiver menos de 3 elementos, retorne uma lista vazia.\n",
    "Exemplo:\n",
    "- Lista: [3, 1, 5, 4, 2] → Saída: [3, 4, 2] (remove 1 e 5)\n",
    "\n",
    "- Lista: [1, 2] → Saída: []\n",
    "\n"
   ]
  },
  {
   "cell_type": "code",
   "execution_count": 47,
   "metadata": {},
   "outputs": [
    {
     "name": "stdout",
     "output_type": "stream",
     "text": [
      "[2, 3, 4]\n"
     ]
    }
   ],
   "source": [
    "def remover_extremos(inteiros):\n",
    "    vazio = []\n",
    "    if len(inteiros) < 3:\n",
    "        return vazio\n",
    "    ordem = sorted(inteiros)\n",
    "\n",
    "\n",
    "    return ordem[1:-1]\n",
    "\n",
    "valores = [3, 1, 5, 4, 2]\n",
    "print(remover_extremos(valores))\n"
   ]
  },
  {
   "cell_type": "markdown",
   "metadata": {},
   "source": [
    "### Questão 3: Dicionários e Contagem\n",
    "##### Enunciado: Escreva um programa que receba uma frase como entrada e crie um dicionário onde as chaves são as palavras da frase e os valores são o número de vezes que cada palavra aparece. Ignore maiúsculas/minúsculas e imprima o dicionário.\n",
    "Exemplo:\n",
    "- Entrada: \"Eu gosto de python e eu gosto de java\"\n",
    "\n",
    "- Saída: {'eu': 2, 'gosto': 2, 'de': 2, 'python': 1, 'e': 1, 'java': 1}\n",
    "\n"
   ]
  },
  {
   "cell_type": "code",
   "execution_count": null,
   "metadata": {},
   "outputs": [
    {
     "data": {
      "text/plain": [
       "{'eu': 2, 'gosto': 2, 'de': 2, 'python': 1, 'e': 1, 'java': 1}"
      ]
     },
     "execution_count": 48,
     "metadata": {},
     "output_type": "execute_result"
    }
   ],
   "source": [
    "frase = input(\"Escreva uma frase: \")\n",
    "lista = frase.lower().split()\n",
    "contagem = {}\n",
    "for palavra in lista:\n",
    "    contagem[palavra] = contagem.get(palavra, 0)+1\n",
    "print(contagem)"
   ]
  },
  {
   "cell_type": "markdown",
   "metadata": {},
   "source": [
    "### Questão 4: Loops e Condições\n",
    "##### Enunciado: Escreva um programa que receba um número inteiro positivo como entrada e imprima a sequência de Fibonacci até que o próximo número exceda o valor informado. Use um loop while e imprima os números em linhas separadas.\n",
    "Exemplo:\n",
    "- Entrada: 10\n",
    "\n",
    "- Saída:\n",
    "0\n",
    "1\n",
    "1\n",
    "2\n",
    "3\n",
    "5\n",
    "8"
   ]
  },
  {
   "cell_type": "code",
   "execution_count": null,
   "metadata": {},
   "outputs": [
    {
     "name": "stdout",
     "output_type": "stream",
     "text": [
      "0\n",
      "1\n",
      "1\n",
      "2\n",
      "3\n",
      "5\n",
      "8\n"
     ]
    }
   ],
   "source": [
    "valor = int(input(\"Digite um número: \"))\n",
    "fibbo_0 = 0\n",
    "fibbo_1 = 1\n",
    "while fibbo_0 < valor:\n",
    "    print(fibbo_0)\n",
    "    fibbo_1, fibbo_0 = fibbo_1 + fibbo_0, fibbo_1"
   ]
  }
 ],
 "metadata": {
  "kernelspec": {
   "display_name": "Python 3",
   "language": "python",
   "name": "python3"
  },
  "language_info": {
   "codemirror_mode": {
    "name": "ipython",
    "version": 3
   },
   "file_extension": ".py",
   "mimetype": "text/x-python",
   "name": "python",
   "nbconvert_exporter": "python",
   "pygments_lexer": "ipython3",
   "version": "3.13.1"
  }
 },
 "nbformat": 4,
 "nbformat_minor": 2
}
