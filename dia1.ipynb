{
 "cells": [
  {
   "cell_type": "markdown",
   "metadata": {},
   "source": [
    "## Questão 1: Manipulação de Strings\n",
    "**Enunciado**: Escreva um programa que receba o nome de uma pessoa como entrada e imprima \"Olá, [nome]!\" com a primeira letra do nome em maiúscula, mesmo que o usuário digite tudo em minúsculo.\n",
    "**Exemplo**:\n",
    " - Entrada: \"maria\"\n",
    "\n",
    " - Saída: \"Olá, Maria!\""
   ]
  },
  {
   "cell_type": "code",
   "execution_count": 2,
   "metadata": {},
   "outputs": [
    {
     "name": "stdout",
     "output_type": "stream",
     "text": [
      "Olá, Maria\n"
     ]
    }
   ],
   "source": [
    "nome = str(input(\"Digite seu nome: \"))\n",
    "print(f\"Olá, {nome.capitalize()}\")"
   ]
  },
  {
   "cell_type": "markdown",
   "metadata": {},
   "source": [
    "## Questão 2: Operações com Listas\n",
    "**Enunciado**: Crie uma lista com 5 números inteiros quaisquer. Depois, imprima a soma do primeiro e do último número da lista.\n",
    "**Exemplo**:\n",
    "- Lista: [3, 8, 12, 4, 9]\n",
    "\n",
    "- Saída: 12 (porque 3 + 9 = 12)"
   ]
  },
  {
   "cell_type": "code",
   "execution_count": 3,
   "metadata": {},
   "outputs": [
    {
     "name": "stdout",
     "output_type": "stream",
     "text": [
      "19\n"
     ]
    }
   ],
   "source": [
    "lista = [2, 4, 5, 21, 17]\n",
    "soma = lista[0] + lista[-1]\n",
    "print(soma)"
   ]
  },
  {
   "cell_type": "markdown",
   "metadata": {},
   "source": [
    "## Questão 3: Loop Simples\n",
    "**Enunciado**: Escreva um programa que imprima todos os números pares de 0 a 10 (inclusive). Use um loop for e uma condição com o operador % para verificar se o número é par.\n",
    "**Exemplo de Saída**:\n",
    "0\n",
    "2\n",
    "4\n",
    "6\n",
    "8\n",
    "10"
   ]
  },
  {
   "cell_type": "code",
   "execution_count": 4,
   "metadata": {},
   "outputs": [
    {
     "name": "stdout",
     "output_type": "stream",
     "text": [
      "0\n",
      "2\n",
      "4\n",
      "6\n",
      "8\n",
      "10\n"
     ]
    }
   ],
   "source": [
    "for i in range(0,11):\n",
    "    if i%2 == 0:\n",
    "        print (i)"
   ]
  }
 ],
 "metadata": {
  "kernelspec": {
   "display_name": "base",
   "language": "python",
   "name": "python3"
  },
  "language_info": {
   "codemirror_mode": {
    "name": "ipython",
    "version": 3
   },
   "file_extension": ".py",
   "mimetype": "text/x-python",
   "name": "python",
   "nbconvert_exporter": "python",
   "pygments_lexer": "ipython3",
   "version": "3.9.12"
  }
 },
 "nbformat": 4,
 "nbformat_minor": 2
}
