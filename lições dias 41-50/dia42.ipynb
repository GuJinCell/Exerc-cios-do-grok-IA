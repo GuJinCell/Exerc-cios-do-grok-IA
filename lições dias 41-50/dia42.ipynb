{
 "cells": [
  {
   "cell_type": "markdown",
   "id": "9d36340e",
   "metadata": {},
   "source": [
    "### Questão 1: Filtragem Recursiva de Strings por Padrão\n",
    "##### Descrição: Escreva uma função recursiva filtrar_por_padrao(texto, padrao) que recebe um texto (string) e um padrão (string) e retorna uma lista com todas as palavras do texto que contêm o padrão (case-insensitive). Use recursão sem loops explícitos.\n",
    "\n",
    "Exemplo:\n",
    "```py\n",
    "\n",
    "texto = \"casa SOL lua SOLAR\"\n",
    "padrao = \"sol\"\n",
    "print(filtrar_por_padrao(texto, padrao))  # ['SOL', 'SOLAR']\n",
    "```\n",
    "Dicas:\n",
    "* Divida o texto em palavras e processe uma palavra por vez recursivamente.\n",
    "\n",
    "* Valide se texto e padrao são strings.\n",
    "\n",
    "* Use lower() para case-insensitive.\n",
    "\n"
   ]
  },
  {
   "cell_type": "code",
   "execution_count": null,
   "id": "2bde9216",
   "metadata": {},
   "outputs": [
    {
     "name": "stdout",
     "output_type": "stream",
     "text": [
      "SOL SOLAR solução \n"
     ]
    }
   ],
   "source": [
    "def filtrar_por_padrao(texto, padrao):\n",
    "    if not texto.strip() or not padrao.strip() or not isinstance(texto, str) or not isinstance(padrao,str):\n",
    "        raise ValueError(\"Texto ou padrão inválido\")\n",
    "    lista = texto.strip(\".,!?\").split()\n",
    "    def palavras(lista, padrao):\n",
    "        if not lista:\n",
    "            return \"\"\n",
    "        prime = lista[0]\n",
    "        resto = []\n",
    "        if len(lista)>1:\n",
    "            resto = lista[1:]\n",
    "        if padrao.lower() in prime.lower():\n",
    "            return prime + \" \" + palavras(resto, padrao)\n",
    "        else:\n",
    "            return palavras(resto, padrao)\n",
    "    return palavras(lista, padrao)\n",
    "\n",
    "\n",
    "texto = \"casa SOL lua SOLAR\"\n",
    "padrao = \"sol\"\n",
    "print(filtrar_por_padrao(texto, padrao))"
   ]
  },
  {
   "cell_type": "markdown",
   "id": "70df80d8",
   "metadata": {},
   "source": [
    "### Questão 2: Junção de Arquivos com Ordenação\n",
    "##### Descrição: Crie uma função juntar_arquivos_ordenados(arquivo1, arquivo2, arquivo_saida) que lê dois arquivos de texto, junta suas linhas em ordem alfabética (case-insensitive) e grava no arquivo de saída. Inclua a contagem total de linhas no final.\n",
    "\n",
    "Exemplo:\n",
    "* Entrada:\n",
    "```\n",
    "arq1.txt: Banana\\nMaçã\n",
    "\n",
    "arq2.txt: Abacaxi\\nPera\n",
    "```\n",
    "Saída (saida.txt):\n",
    "```\n",
    "Abacaxi\n",
    "Banana\n",
    "Maçã\n",
    "Pera\n",
    "Total de linhas: 4\n",
    "```\n",
    "Dicas:\n",
    "* Use sorted() com key=str.lower para ordenação.\n",
    "\n",
    "* Trate FileNotFoundError e valide caminhos.\n",
    "\n"
   ]
  },
  {
   "cell_type": "code",
   "execution_count": null,
   "id": "3cfdb7ec",
   "metadata": {},
   "outputs": [],
   "source": []
  },
  {
   "cell_type": "markdown",
   "id": "75fa13f9",
   "metadata": {},
   "source": [
    "### Questão 3: Herança para Gerenciamento de Projetos\n",
    "##### Descrição: Implemente duas classes: Projeto (com atributos nome e orcamento) e ProjetoEspecial (herda de Projeto, com atributo adicional prioridade). Ambas devem ter métodos __str__ e aumentar_orcamento(percentual), sendo que ProjetoEspecial adiciona um bônus de 10% do orçamento inicial ao aumento.\n",
    "\n",
    "Exemplo:\n",
    "```py\n",
    "p1 = Projeto(\"Site\", 10000.0)\n",
    "p2 = ProjetoEspecial(\"App\", 20000.0, \"Alta\")\n",
    "print(p1)  # Projeto: Site, Orçamento: R$10000.00\n",
    "print(p2)  # Projeto Especial: App, Orçamento: R$20000.00, Prioridade: Alta\n",
    "p1.aumentar_orcamento(10)\n",
    "p2.aumentar_orcamento(10)\n",
    "print(p1)  # Projeto: Site, Orçamento: R$11000.00\n",
    "print(p2)  # Projeto Especial: App, Orçamento: R$23000.00\n",
    "```\n",
    "Dicas:\n",
    "* Valide nome, orcamento, prioridade, e percentual.\n",
    "\n",
    "* Use super() para chamar o método da classe base.\n",
    "\n"
   ]
  },
  {
   "cell_type": "code",
   "execution_count": null,
   "id": "6f356e89",
   "metadata": {},
   "outputs": [],
   "source": [
    "class Projeto:\n",
    "    def __init__(self, nome, orcamento):\n",
    "        if not nome.strip():\n",
    "            raise ValueError(\"Nome inválido\")\n",
    "        if not orcamento or orcamento < 0 or isinstance(orcamento,(int,float)):\n",
    "            raise ValueError(\"Orçamento inválido\")\n",
    "        self.nome = nome\n",
    "        self.orcamento = orcamento\n",
    "\n",
    "\n",
    "class ProjetoEspecial(Projeto):\n",
    "    def __init__(self, nome, orcamento):\n",
    "        super().__init__(nome, orcamento)"
   ]
  },
  {
   "cell_type": "markdown",
   "id": "9648afa0",
   "metadata": {},
   "source": [
    "### Questão 4: Parsing de CSV com Validação\n",
    "##### Descrição: Escreva uma função validar_csv(entrada, saida) que lê um arquivo CSV com colunas nome e idade, valida se idade é um inteiro positivo, e grava os registros válidos em um novo CSV. Retorne o número de registros inválidos.\n",
    "\n",
    "Exemplo:\n",
    "* Entrada (entrada.csv):\n",
    "```\n",
    "nome,idade\n",
    "Ana,25\n",
    "Bob,-5\n",
    "Carla,30\n",
    "```\n",
    "* Saída (saida.csv):\n",
    "```\n",
    "nome,idade\n",
    "Ana,25\n",
    "Carla,30\n",
    "```\n",
    "Retorno: 1 (registro inválido: Bob,-5).\n",
    "\n",
    "Dicas:\n",
    "* Use o módulo csv.\n",
    "\n",
    "* Trate FileNotFoundError e erros de parsing."
   ]
  },
  {
   "cell_type": "code",
   "execution_count": null,
   "id": "76711d13",
   "metadata": {},
   "outputs": [],
   "source": []
  },
  {
   "cell_type": "markdown",
   "id": "26c90fdd",
   "metadata": {},
   "source": [
    "### Questão 5: Testes Unitários para Função de Agregação\n",
    "##### Descrição: Implemente uma função somar_por_chave(dados, chave) que soma valores numéricos de uma lista de dicionários com base em uma chave. Escreva uma classe TestSomarPorChave com pelo menos quatro testes unitários.\n",
    "\n",
    "- Exemplo:\n",
    "```py\n",
    "\n",
    "dados = [{\"nome\": \"Ana\", \"valor\": 10}, {\"nome\": \"Bob\", \"valor\": 20}]\n",
    "print(somar_por_chave(dados, \"valor\"))  # 30\n",
    "```\n",
    "Testes:\n",
    "* Lista válida: [{\"v\": 1}, {\"v\": 2}], chave \"v\", espera 3.\n",
    "\n",
    "* Lista vazia: [], espera 0.\n",
    "\n",
    "* Chave inexistente: [{\"x\": 1}], chave \"y\", levanta KeyError.\n",
    "\n",
    "* Valores não numéricos: [{\"v\": \"a\"}], levanta ValueError.\n",
    "\n",
    "Dicas:\n",
    "* Use unittest.TestCase e métodos test_.\n",
    "\n",
    "Valide tipos e chaves.\n",
    "\n"
   ]
  },
  {
   "cell_type": "code",
   "execution_count": null,
   "id": "3c53abde",
   "metadata": {},
   "outputs": [],
   "source": []
  }
 ],
 "metadata": {
  "kernelspec": {
   "display_name": "Python 3",
   "language": "python",
   "name": "python3"
  },
  "language_info": {
   "codemirror_mode": {
    "name": "ipython",
    "version": 3
   },
   "file_extension": ".py",
   "mimetype": "text/x-python",
   "name": "python",
   "nbconvert_exporter": "python",
   "pygments_lexer": "ipython3",
   "version": "3.11.4"
  }
 },
 "nbformat": 4,
 "nbformat_minor": 5
}
