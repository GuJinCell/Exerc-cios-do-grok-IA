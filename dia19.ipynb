{
 "cells": [
  {
   "cell_type": "markdown",
   "metadata": {},
   "source": [
    "### 1- Diferença Simétrica em Strings\n",
    "##### Escreva uma função diferenca_palavras que receba duas strings e retorne um set com as palavras que aparecem em apenas uma das strings (diferença simétrica), ignorando maiúsculas/minúsculas. Exemplo:  \n",
    "- Entrada: \"Eu gosto de Python\", \"Gosto de programar em Python\"  \n",
    "\n",
    "- Saída: {'eu', 'programar', 'em'}\n",
    "\n"
   ]
  },
  {
   "cell_type": "code",
   "execution_count": null,
   "metadata": {},
   "outputs": [
    {
     "name": "stdout",
     "output_type": "stream",
     "text": [
      "{'m', 'r', 'p', 'u', 'E', 'a', 'G'}\n"
     ]
    }
   ],
   "source": [
    "def diferenca_palavras(frase_1,frase_2):\n",
    "    lista_1 = [palavra for palavra in frase_1.lower().split()]\n",
    "    lista_2 = [palavra for palavra in frase_2.lower().split()]\n",
    "    return set(lista_1) ^ set(lista_2)\n",
    "\n",
    "\n",
    "frs_1 = \"Eu gosto de Python\"\n",
    "frs_2 =\"Gosto de programar em Python\" \n",
    "print(diferenca_palavras(frs_1,frs_2))"
   ]
  },
  {
   "cell_type": "markdown",
   "metadata": {},
   "source": [
    "### 2- Lista sem Duplicatas com Ordem Preservada\n",
    "#### Dada uma lista de números inteiros, remova duplicatas mantendo a ordem original dos elementos (primeira ocorrência prevalece), usando sets de forma auxiliar. Exemplo:  \n",
    "- Entrada: [3, 1, 4, 1, 5, 3]  \n",
    "\n",
    "- Saída: [3, 1, 4, 5]\n",
    "\n"
   ]
  },
  {
   "cell_type": "code",
   "execution_count": null,
   "metadata": {},
   "outputs": [
    {
     "name": "stdout",
     "output_type": "stream",
     "text": [
      "[1, 3, 4, 5]\n"
     ]
    }
   ],
   "source": [
    "#Não preserva a ordem da lista original#\n",
    "exemplo = [3, 1, 4, 1, 5, 3]\n",
    "no_dupe = [i for i in set(exemplo)]\n",
    "print(no_dupe)"
   ]
  },
  {
   "cell_type": "code",
   "execution_count": null,
   "metadata": {},
   "outputs": [
    {
     "name": "stdout",
     "output_type": "stream",
     "text": [
      "[3, 1, 4, 5]\n"
     ]
    }
   ],
   "source": [
    "#Preserva a ordem da lista original#\n",
    "exemplo = [3, 1, 4, 1, 5, 3]\n",
    "marca = set()\n",
    "no_dupe = []\n",
    "for i in exemplo:\n",
    "    if i not in marca:\n",
    "        marca.add(i)\n",
    "        no_dupe.append(i)\n",
    "print(no_dupe)"
   ]
  },
  {
   "cell_type": "markdown",
   "metadata": {},
   "source": [
    "### 3- Agrupamento por Chave em Dicionário\n",
    "##### Dado um dicionário onde as chaves são nomes e os valores são sets de interesses, crie um novo dicionário que agrupe os nomes por interesses em comum (cada interesse mapeia para um set de nomes). Exemplo:  \n",
    "- Entrada: {\"Ana\": {\"leitura\", \"corrida\"}, \"Beto\": {\"leitura\", \"jogos\"}, \"Clara\": {\"corrida\", \"jogos\"}}  \n",
    "\n",
    "- Saída: {\"leitura\": {\"Ana\", \"Beto\"}, \"corrida\": {\"Ana\", \"Clara\"}, \"jogos\": {\"Beto\", \"Clara\"}}\n",
    "\n"
   ]
  },
  {
   "cell_type": "code",
   "execution_count": 36,
   "metadata": {},
   "outputs": [
    {
     "name": "stdout",
     "output_type": "stream",
     "text": [
      "{'leitura': {'Beto', 'Ana'}, 'corrida': {'Clara', 'Ana'}, 'jogos': {'Clara', 'Beto'}}\n"
     ]
    }
   ],
   "source": [
    "turma = {\"Ana\": {\"leitura\", \"corrida\"}, \"Beto\": {\"leitura\", \"jogos\"}, \"Clara\": {\"corrida\", \"jogos\"}}\n",
    "lista_hobbies = {}\n",
    "for nome, hobbies in turma.items():\n",
    "    for hobbie in hobbies:\n",
    "        if hobbie not in lista_hobbies:\n",
    "            lista_hobbies[hobbie] = set()\n",
    "        lista_hobbies[hobbie].add(nome)\n",
    "print(lista_hobbies)\n"
   ]
  },
  {
   "cell_type": "markdown",
   "metadata": {},
   "source": [
    "### 4- Contagem de Palavras Únicas em Arquivo\n",
    "##### Escreva uma função que leia um arquivo de texto (uma palavra por linha) e retorne a quantidade de palavras únicas (sem repetições), usando sets. Exemplo:  \n",
    "- Arquivo de entrada: palavras.txt com \"casa\\npython\\ncasa\\nsol\"  \n",
    "\n",
    "- Saída: 3 (palavras únicas: \"casa\", \"python\", \"sol\")\n",
    "\n"
   ]
  },
  {
   "cell_type": "code",
   "execution_count": 35,
   "metadata": {},
   "outputs": [
    {
     "name": "stdout",
     "output_type": "stream",
     "text": [
      "3\n"
     ]
    }
   ],
   "source": [
    "with open(\"palavras_19.txt\",\"w\", encoding=\"utf-8\") as arquivo:\n",
    "    arquivo.write(\"casa\\npython\\ncasa\\nsol\")\n",
    "with open(\"palavras_19.txt\",\"r\", encoding=\"utf-8\") as arquivo:\n",
    "    palavras = [linha.strip() for linha in arquivo]\n",
    "    print(len(set(palavras)))"
   ]
  },
  {
   "cell_type": "markdown",
   "metadata": {},
   "source": [
    "### 5- Função com Tuplas e Sets\n",
    "##### Escreva uma função soma_exclusiva que receba duas tuplas de números e retorne a soma dos elementos que aparecem em apenas uma das tuplas (usando diferença simétrica de sets). Exemplo:  \n",
    "- Entrada: (1, 2, 3), (2, 4, 5)  \n",
    "\n",
    "- Saída: 13 (elementos exclusivos: 1, 3, 4, 5 → soma = 1 + 3 + 4 + 5 = 13)\n",
    "\n"
   ]
  },
  {
   "cell_type": "code",
   "execution_count": 27,
   "metadata": {},
   "outputs": [
    {
     "name": "stdout",
     "output_type": "stream",
     "text": [
      "14\n"
     ]
    }
   ],
   "source": [
    "def soma_exclusiva (tupe_1, tupe_2):\n",
    "    dupla = (set(tupe_1) ^ set(tupe_2))\n",
    "    return sum(dupla)\n",
    "\n",
    "\n",
    "t1 = (1, 2, 3)\n",
    "t2 = (2, 4, 6) \n",
    "print(soma_exclusiva(t1,t2))"
   ]
  }
 ],
 "metadata": {
  "kernelspec": {
   "display_name": "Python 3",
   "language": "python",
   "name": "python3"
  },
  "language_info": {
   "codemirror_mode": {
    "name": "ipython",
    "version": 3
   },
   "file_extension": ".py",
   "mimetype": "text/x-python",
   "name": "python",
   "nbconvert_exporter": "python",
   "pygments_lexer": "ipython3",
   "version": "3.13.1"
  }
 },
 "nbformat": 4,
 "nbformat_minor": 2
}
