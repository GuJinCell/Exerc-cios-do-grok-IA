{
 "cells": [
  {
   "cell_type": "markdown",
   "metadata": {},
   "source": [
    "### Questão 1: Contagem de Letras por Tipo (dict comprehension)\n",
    "##### Escreva uma função contar_letras(texto) que receba uma string e retorne um dicionário com a contagem de vogais e consoantes (ignorando não-alfabéticos). Use dict comprehension. Exemplo:\n",
    "- Entrada: \"Olá Mundo!\"  \n",
    "\n",
    "- Saída: {'vogais': 4, 'consoantes': 4}  \n",
    "Vogais: o, á, u, o (4); Consoantes: l, m, n, d (4).\n",
    "\n"
   ]
  },
  {
   "cell_type": "code",
   "execution_count": null,
   "metadata": {},
   "outputs": [
    {
     "name": "stdout",
     "output_type": "stream",
     "text": [
      "{'consoantes': 4, 'vogais': 4}\n"
     ]
    }
   ],
   "source": [
    "def contar_letras(texto):\n",
    "    \"\"\"\n",
    "    Retorna um dicionário com a contagem de vogais e consoantes no texto, ignorando não-alfabéticos.\n",
    "    \"\"\"\n",
    "    vogais = set(\"aeiouáéíóúàèìòùãõ\")\n",
    "    vog_cos = {\"consoantes\":sum(1 for i in texto if i.lower() not in vogais and i.isalpha()),\"vogais\":sum(1 for i in texto if i.lower() in vogais and i.isalpha())}\n",
    "    return vog_cos\n",
    "\n",
    "\n",
    "frase = \"Olá Mundo!\"\n",
    "print(contar_letras(frase))"
   ]
  },
  {
   "cell_type": "markdown",
   "metadata": {},
   "source": [
    "### Questão 2: Filtro de Números com Critério (try-except e argumento opcional)\n",
    "##### Crie uma função filtrar_numeros(lista, criterio=\"par\") que receba uma lista de números e um critério opcional (\"par\" ou \"ímpar\"). Retorne uma lista com os números que atendem ao critério. Levante ValueError se o critério for inválido (\"Critério inválido\") e TypeError se a lista contiver não-números (\"Elemento não numérico\"). Exemplo:\n",
    "[1, 2, 3, 4], \"par\" → [2, 4]  \n",
    "\n",
    "[1, 2, 3, 4], \"ímpar\" → [1, 3]  \n",
    "\n",
    "[1, \"a\", 3] → Levanta TypeError  \n",
    "\n",
    "[1, 2], \"primo\" → Levanta ValueError\n",
    "\n"
   ]
  },
  {
   "cell_type": "code",
   "execution_count": null,
   "metadata": {},
   "outputs": [
    {
     "name": "stdout",
     "output_type": "stream",
     "text": [
      "par\n",
      "[2, 4]\n",
      "ímpar\n",
      "[1, 3]\n",
      "par\n",
      "Elemento não numérico\n"
     ]
    }
   ],
   "source": [
    "def filtrar_numeros(lista,criterio=\"par\"):\n",
    "    \"\"\"\n",
    "    Retorna uma lista filtrada por critério (\"par\" ou \"ímpar\"). Levanta TypeError para não-números\n",
    "    e ValueError para critério inválido.\n",
    "    \"\"\"\n",
    "\n",
    "    if any(not isinstance(n, (int, float)) for n in lista):\n",
    "        raise TypeError(\"Elemento não numérico\")\n",
    "    if criterio == \"par\":\n",
    "        pares = [i for i in lista if i%2 ==0]\n",
    "        return pares\n",
    "    if criterio == \"ímpar\":\n",
    "        impares = [i for i in lista if i%2 !=0]\n",
    "        return impares\n",
    "    else:\n",
    "        raise ValueError(\"Critério inválido\")\n",
    "\n",
    "\n",
    "try:\n",
    "    print(filtrar_numeros([1, 2, 3, 4], \"par\"))\n",
    "    print(filtrar_numeros([1, 2, 3, 4], \"ímpar\"))\n",
    "    print(filtrar_numeros([1, \"a\", 3]))\n",
    "    print(filtrar_numeros([1, 2], \"primo\"))\n",
    "except TypeError as t:\n",
    "    print(t)\n",
    "except ValueError as v:\n",
    "    print(v)\n"
   ]
  },
  {
   "cell_type": "markdown",
   "metadata": {},
   "source": [
    "### Questão 3: Substituição em Arquivo (com try-except)\n",
    "##### Escreva uma função substituir_em_arquivo(caminho, antiga, nova) que leia um arquivo, substitua todas as ocorrências de antiga por nova (case-sensitive) e reescreva o arquivo. Levante FileNotFoundError com \"Arquivo não encontrado\" se o arquivo não existir. Exemplo:\n",
    "- Arquivo inicial: \"Olá mundo\\nOlá Python\"  \n",
    "\n",
    "- Entrada: \"Olá\", \"Hi\" → Arquivo final: \"Hi mundo\\nHi Python\"\n",
    "\n"
   ]
  },
  {
   "cell_type": "code",
   "execution_count": null,
   "metadata": {},
   "outputs": [],
   "source": [
    "import os\n",
    "\n",
    "def substituir_em_arquivo(caminho, antiga, nova):\n",
    "    \"\"\"\n",
    "    Substitui todas as ocorrências de 'antiga' por 'nova' no arquivo especificado e reescreve o arquivo.\n",
    "    Levanta FileNotFoundError se o arquivo não existir.\n",
    "    \"\"\"\n",
    "    try:\n",
    "        with open(caminho,\"r\",encoding=\"utf-8\") as arquivo:\n",
    "            texto = arquivo.read()\n",
    "        with open(caminho,\"w\", encoding=\"utf-8\") as troca:\n",
    "            troca.write(texto.replace(antiga, nova))\n",
    "    except FileNotFoundError:\n",
    "        raise FileNotFoundError(\"Arquivo não encontrado\")\n",
    "\n",
    "\n",
    "pasta = \"C:/Users/Celso.O.C/PycharmProjects/progamation/Exercícios/Exerc-cios-do-grok-IA/arquivos_de_exercicios\"\n",
    "os.makedirs(pasta,exist_ok=True)\n",
    "entrada = f\"{pasta}/replace_28.txt\"\n",
    "palavra = \"Olá\"\n",
    "substituta = \"Hi\"\n",
    "with open(entrada, \"w\", encoding=\"utf-8\") as arquivo:\n",
    "    arquivo.write(\"Olá mundo\\nOlá Python\")\n",
    "substituir_em_arquivo(entrada, palavra, substituta)"
   ]
  },
  {
   "cell_type": "markdown",
   "metadata": {},
   "source": [
    "### Questão 4: Função Aninhada com Transformação Condicional\n",
    "##### Crie uma função transformar_lista(lista, limite) que use uma função interna aplicar_regra para transformar números da lista: se maior que limite, multiplique por 2; senão, subtraia 1. Retorne a lista transformada. Exemplo:\n",
    "- Entrada: [5, 10, 15], 12 → Saída: [4, 9, 30]  \n",
    "5 < 12 → 4; 10 < 12 → 9; 15 > 12 → 30.\n",
    "\n"
   ]
  },
  {
   "cell_type": "code",
   "execution_count": 36,
   "metadata": {},
   "outputs": [
    {
     "name": "stdout",
     "output_type": "stream",
     "text": [
      "[4, 9, 30]\n"
     ]
    }
   ],
   "source": [
    "def transformar_lista(lista, limite):\n",
    "\n",
    "    def aplicar_regra(lista, limite):\n",
    "        nova = []\n",
    "        for i in lista:\n",
    "            if i > limite:\n",
    "                nova.append(i*2)\n",
    "            else:\n",
    "                nova.append(i - 1)\n",
    "        return nova\n",
    "    return aplicar_regra(lista,limite)\n",
    "\n",
    "\n",
    "exemplo, lmt = [5, 10, 15], 12\n",
    "print(transformar_lista(exemplo, lmt))"
   ]
  },
  {
   "cell_type": "markdown",
   "metadata": {},
   "source": [
    "### Questão 5: Tuplas com Diferença Ordenada (list comprehension e sorted)\n",
    "##### Escreva uma função ordenar_por_diferenca(tuplas) que receba uma lista de tuplas de dois inteiros e retorne uma lista ordenada pela diferença absoluta entre os elementos de cada tupla (crescente). Use list comprehension e sorted. Exemplo:\n",
    "- Entrada: [(1, 4), (5, 2), (3, 7)]  \n",
    "\n",
    "- Saída: [(5, 2), (1, 4), (3, 7)]  \n",
    "Diferenças: |1-4| = 3, |5-2| = 3, |3-7| = 4 → Ordenado: 3, 3, 4.\n",
    "\n"
   ]
  },
  {
   "cell_type": "code",
   "execution_count": null,
   "metadata": {},
   "outputs": [
    {
     "name": "stdout",
     "output_type": "stream",
     "text": [
      "[(5, 3), (1, 4), (3, 7)]\n"
     ]
    }
   ],
   "source": [
    "def ordenar_por_diferenca(tuplas):\n",
    "    \"\"\"\n",
    "    Retorna uma lista de tuplas ordenada pela diferença absoluta entre os elementos.\n",
    "    \"\"\"\n",
    "    return sorted(tuplas, key=lambda x: abs(x[0]-x[1]))\n",
    "\n",
    "exemplo = [(1, 4), (5, 2), (3, 7)] \n",
    "print(ordenar_por_diferenca(exemplo))"
   ]
  }
 ],
 "metadata": {
  "kernelspec": {
   "display_name": "Python 3",
   "language": "python",
   "name": "python3"
  },
  "language_info": {
   "codemirror_mode": {
    "name": "ipython",
    "version": 3
   },
   "file_extension": ".py",
   "mimetype": "text/x-python",
   "name": "python",
   "nbconvert_exporter": "python",
   "pygments_lexer": "ipython3",
   "version": "3.11.4"
  }
 },
 "nbformat": 4,
 "nbformat_minor": 2
}
