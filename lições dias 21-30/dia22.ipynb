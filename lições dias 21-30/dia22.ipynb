{
 "cells": [
  {
   "cell_type": "markdown",
   "metadata": {},
   "source": [
    "### 1- Palavras com Letras Repetidas\n",
    "##### Escreva uma função repetidas que receba uma string e retorne um set com as palavras (em minúsculas) que possuem pelo menos uma letra repetida, usando sets para verificar. Exemplo:  \n",
    "- Entrada: \"casa sala lua\"  \n",
    "\n",
    "- Saída: {'casa', 'sala'} (\"casa\" tem \"a\" duas vezes, \"sola\" tem \"a\" duas vezes, \"lua\" não tem repetições)"
   ]
  },
  {
   "cell_type": "code",
   "execution_count": null,
   "metadata": {},
   "outputs": [
    {
     "name": "stdout",
     "output_type": "stream",
     "text": [
      "{'casa', 'sala'}\n"
     ]
    }
   ],
   "source": [
    "def repetidas(frase):\n",
    "    letra_repetida = set()\n",
    "    for i in frase.split():\n",
    "        for j in set(i):\n",
    "            if i.count(j) > 1:\n",
    "                letra_repetida.add(i)\n",
    "    return letra_repetida\n",
    "\n",
    "\n",
    "exemplo = \"casa sala lua\"\n",
    "print(repetidas(exemplo.lower()))"
   ]
  },
  {
   "cell_type": "markdown",
   "metadata": {},
   "source": [
    "###  2- Soma de Elementos Únicos\n",
    "##### Escreva uma função soma_unicos que receba duas listas de números e retorne a soma dos elementos que aparecem em apenas uma das listas (diferença simétrica), usando sets. Exemplo:  \n",
    "- Entrada: [1, 2, 3], [2, 4, 5]  \n",
    "\n",
    "- Saída: 13 (elementos únicos: 1, 3, 4, 5 → 1 + 3 + 4 + 5 = 13)"
   ]
  },
  {
   "cell_type": "code",
   "execution_count": 3,
   "metadata": {},
   "outputs": [
    {
     "name": "stdout",
     "output_type": "stream",
     "text": [
      "13\n"
     ]
    }
   ],
   "source": [
    "def soma_unicos(lista_1,lista_2):\n",
    "    soma = sum(set(lista_1) ^ set(lista_2))\n",
    "    return soma\n",
    "\n",
    "\n",
    "exem_1, exem_2 = [1, 2, 3], [2, 4, 5]\n",
    "print(soma_unicos(exem_1,exem_2))"
   ]
  },
  {
   "cell_type": "markdown",
   "metadata": {},
   "source": [
    "###  3- Dicionário de Frequência Máxima\n",
    "##### Dado um dicionário onde as chaves são strings e os valores são listas de caracteres, retorne um novo dicionário onde as chaves são as mesmas strings e os valores são o caractere mais frequente em cada lista (em caso de empate, use o primeiro em ordem alfabética). Exemplo:  \n",
    "- Entrada: {\"palavra\": [\"a\", \"a\", \"b\"], \"teste\": [\"t\", \"e\", \"t\"]}  \n",
    "\n",
    "- Saída: {\"palavra\": \"a\", \"teste\": \"t\"}"
   ]
  },
  {
   "cell_type": "code",
   "execution_count": 22,
   "metadata": {},
   "outputs": [
    {
     "name": "stdout",
     "output_type": "stream",
     "text": [
      "{'palavra': 'a', 'teste': 't'}\n"
     ]
    }
   ],
   "source": [
    "from collections import Counter\n",
    "\n",
    "dicio = {\"palavra\": [\"a\", \"a\", \"b\"], \"teste\": [\"t\", \"e\", \"t\"]}\n",
    "novo_dic = {}\n",
    "for palavra,letras in dicio.items():\n",
    "    contagem = Counter(letras)\n",
    "    max_freq = max(contagem.values())\n",
    "    termos = [i for i, freq in contagem.items() if freq == max_freq]\n",
    "    novo_dic[palavra] = min(termos)\n",
    "print(novo_dic)"
   ]
  },
  {
   "cell_type": "markdown",
   "metadata": {},
   "source": [
    "###  4- Arquivo de Números Pares\n",
    "##### Escreva uma função que leia um arquivo de texto contendo uma lista de números inteiros (um por linha) e grave em outro arquivo apenas os números pares, em ordem crescente. Use o caminho codigos/Exerc-cios-do-grok-IA/arquivos_de_exercicios para os arquivos. Exemplo:  \n",
    "- Arquivo de entrada: numeros.txt com \"3\\n8\\n1\\n4\\n9\"  \n",
    "\n",
    "- Arquivo de saída: pares.txt com \"4\\n8\"\n",
    "\n"
   ]
  },
  {
   "cell_type": "code",
   "execution_count": 21,
   "metadata": {},
   "outputs": [],
   "source": [
    "import os\n",
    "\n",
    "def crescente(entrada, saida):\n",
    "    with open(entrada, \"r\", encoding=\"utf-8\") as arquivo:\n",
    "        inteiros = sorted([int(i.strip()) for i in arquivo])\n",
    "    with open(saida, \"w\", encoding=\"utf-8\") as pares:\n",
    "        for h in inteiros:\n",
    "            if h%2 == 0:\n",
    "                pares.write(f\"{h}\\n\")\n",
    "\n",
    "\n",
    "pasta = \"C:/Users/Celso.O.C/PycharmProjects/progamation/Exercícios/Exerc-cios-do-grok-IA/arquivos_de_exercicios\"\n",
    "os.makedirs(pasta, exist_ok=True)\n",
    "exemplo = f\"{pasta}/numeros_22.txt\"\n",
    "resultado = f\"{pasta}/pares_22.txt\"\n",
    "with open(exemplo, \"w\", encoding=\"utf-8\") as arquivo:\n",
    "    arquivo.write(\"3\\n8\\n1\\n4\\n9\")\n",
    "crescente(exemplo, resultado)"
   ]
  },
  {
   "cell_type": "markdown",
   "metadata": {},
   "source": [
    "### 5- Tuplas com Diferença Mínima\n",
    "##### Escreva uma função dif_minima que receba uma lista de tuplas de dois números e retorne a tupla cuja diferença absoluta entre os números seja a menor. Se houver empate, retorne a primeira. Exemplo:  \n",
    "- Entrada: [(1, 5), (2, 3), (4, 6)]  \n",
    "\n",
    "- Saída: (2, 3) (diferenças: |1-5| = 4, |2-3| = 1, |4-6| = 2; 1 é a menor)\n",
    "\n"
   ]
  },
  {
   "cell_type": "code",
   "execution_count": 18,
   "metadata": {},
   "outputs": [
    {
     "name": "stdout",
     "output_type": "stream",
     "text": [
      "(2, 3)\n"
     ]
    }
   ],
   "source": [
    "def dif_minima(tuplas):\n",
    "    if not tuplas:\n",
    "        return None\n",
    "    return min(tuplas , key=lambda t: abs(t[0]-t[1]))\n",
    "\n",
    "\n",
    "t_exemplo = [(1, 5), (2, 3), (4, 6)]\n",
    "print(dif_minima(t_exemplo))"
   ]
  }
 ],
 "metadata": {
  "kernelspec": {
   "display_name": "Python 3",
   "language": "python",
   "name": "python3"
  },
  "language_info": {
   "codemirror_mode": {
    "name": "ipython",
    "version": 3
   },
   "file_extension": ".py",
   "mimetype": "text/x-python",
   "name": "python",
   "nbconvert_exporter": "python",
   "pygments_lexer": "ipython3",
   "version": "3.11.4"
  }
 },
 "nbformat": 4,
 "nbformat_minor": 2
}
