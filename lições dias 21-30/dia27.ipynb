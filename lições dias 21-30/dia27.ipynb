{
 "cells": [
  {
   "cell_type": "markdown",
   "metadata": {},
   "source": [
    "### Questão 1: Dicionário de Pares Únicos (com set comprehension)\n",
    "##### Escreva uma função pares_unicos(lista) que receba uma lista de inteiros e retorne um dicionário onde as chaves são os números pares únicos da lista e os valores são suas posições (índices) originais. Use set comprehension para identificar os pares e dict comprehension para criar o dicionário. Exemplo:\n",
    "- Entrada: [1, 2, 4, 2, 5, 4, 6]  \n",
    "\n",
    "- Saída: {2: 1, 4: 2, 6: 6}  \n",
    "2 aparece em 1, 4 em 2, 6 em 6 (primeira ocorrência).\n",
    "\n"
   ]
  },
  {
   "cell_type": "code",
   "execution_count": null,
   "metadata": {},
   "outputs": [
    {
     "name": "stdout",
     "output_type": "stream",
     "text": [
      "{2: 1, 4: 2, 6: 6}\n"
     ]
    }
   ],
   "source": [
    "def pares_unicos(lista):\n",
    "    \"\"\"\n",
    "    Retorna um dicionário com pares únicos da lista e seus índices de primeira ocorrência.\n",
    "    \"\"\"\n",
    "    unicos = {x for x in lista}\n",
    "    pares_posicoes = {y: lista.index(y) for y in unicos if y%2 ==0}\n",
    "    return pares_posicoes\n",
    "\n",
    "\n",
    "exemplo = [1, 2, 4, 2, 5, 4, 6] \n",
    "print(pares_unicos(exemplo))"
   ]
  },
  {
   "cell_type": "markdown",
   "metadata": {},
   "source": [
    "### Questão 2: Divisão Segura com Múltiplos Erros (try-except)\n",
    "##### Crie uma função divisao_segura(numeros, divisor) que receba uma lista de números e um divisor, e retorne uma lista com os resultados das divisões.\n",
    "##### Levante exceções personalizadas:\n",
    "##### TypeError se a lista contiver elementos não numéricos (\"Elemento não numérico\").\n",
    "##### ZeroDivisionError se o divisor for zero (\"Divisão por zero não permitida\").\n",
    "Exemplo:\n",
    "\n",
    "- [10, 20, 30], 5 → [2.0, 4.0, 6.0]  \n",
    "\n",
    "- [1, \"a\", 3], 2 → Levanta TypeError  \n",
    "\n",
    "- [1, 2, 3], 0 → Levanta ZeroDivisionError\n",
    "\n"
   ]
  },
  {
   "cell_type": "code",
   "execution_count": null,
   "metadata": {},
   "outputs": [
    {
     "name": "stdout",
     "output_type": "stream",
     "text": [
      "[2.0, 4.0, 6.0]\n",
      "Elemento Não númerico\n"
     ]
    }
   ],
   "source": [
    "def divisao_segura(numeros, divisor):\n",
    "    \"\"\"\n",
    "    Retorna uma lista com os resultados das divisões. Levanta TypeError para elementos não numéricos\n",
    "    e ZeroDivisionError se o divisor for zero.\n",
    "    \"\"\"\n",
    "    if divisor == 0:\n",
    "        raise ZeroDivisionError(\"Divisão por zero não permitida\")\n",
    "    if any(not isinstance(n, (int, float)) for n in numeros):\n",
    "        raise TypeError(\"Elemento não numérico\")\n",
    "    return [(dividendo/divisor) for dividendo in numeros]\n",
    "\n",
    "try:\n",
    "    print(divisao_segura([10, 20, 30], 5))\n",
    "    print(divisao_segura([1, \"a\", 3], 2))\n",
    "    print(divisao_segura([1, 2, 3], 0))\n",
    "except ZeroDivisionError as r:\n",
    "    print(r)\n",
    "except TypeError as t:\n",
    "    print(t)"
   ]
  },
  {
   "cell_type": "markdown",
   "metadata": {},
   "source": [
    "### Questão 3: Filtro de Linhas por Palavra em Arquivo (com try-except)\n",
    "##### Escreva uma função filtrar_linhas(caminho, palavra) que leia um arquivo de texto e retorne uma lista com as linhas que contêm a palavra especificada (case-insensitive). Levante FileNotFoundError com \"Arquivo não encontrado\" se o arquivo não existir. Exemplo:\n",
    "- Arquivo:\n",
    "\n",
    "Olá mundo\n",
    "Python é legal\n",
    "Olá Python\n",
    "\n",
    "- Entrada: \"olá\" → Saída: [\"Olá mundo\", \"Olá Python\"]\n",
    "\n"
   ]
  },
  {
   "cell_type": "code",
   "execution_count": null,
   "metadata": {},
   "outputs": [
    {
     "name": "stdout",
     "output_type": "stream",
     "text": [
      "['Olá mundo', 'Olá Python']\n"
     ]
    }
   ],
   "source": [
    "import os\n",
    "\n",
    "def filtrar_linhas(caminho, palavra):\n",
    "    \"\"\"\n",
    "    Retorna uma lista com linhas do arquivo que contêm a palavra especificada (case-insensitive).\n",
    "    Levanta FileNotFoundError se o arquivo não existir.\n",
    "    \"\"\"\n",
    "    try:\n",
    "        with open(caminho, \"r\",encoding=\"utf-8\") as arquivo:\n",
    "            return [frase.strip() for frase in arquivo if palavra in frase.lower()]\n",
    "    except FileNotFoundError:\n",
    "        raise FileNotFoundError(\"Arquivo não encontrado\")\n",
    "\n",
    "pasta = \"C:/Users/Celso.O.C/PycharmProjects/progamation/Exercícios/Exerc-cios-do-grok-IA/arquivos_de_exercicios\"\n",
    "os.makedirs(pasta, exist_ok=True)\n",
    "entrada = f\"{pasta}/ola_27.txt\"\n",
    "palavra = \"olá\"\n",
    "\n",
    "with open(entrada, \"w\",encoding=\"utf-8\") as arquivo:\n",
    "    arquivo.write(\"Olá mundo\\nPython é legal\\nOlá Python\")\n",
    "print(filtrar_linhas(entrada, palavra))\n"
   ]
  },
  {
   "cell_type": "markdown",
   "metadata": {},
   "source": [
    "### Questão 4: Função Aninhada para Média Condicional\n",
    "##### Crie uma função media_condicional(lista) que use uma função interna chamada calcular_media para calcular a média dos números maiores que 10 na lista. Retorne 0 se não houver números > 10. Exemplo:\n",
    "- Entrada: [5, 15, 8, 20, 12] → Saída: 15.666... (média de 15, 20, 12)  \n",
    "\n",
    "- Entrada: [1, 2, 3] → Saída: 0\n",
    "\n"
   ]
  },
  {
   "cell_type": "code",
   "execution_count": null,
   "metadata": {},
   "outputs": [
    {
     "name": "stdout",
     "output_type": "stream",
     "text": [
      "15.666666666666666\n"
     ]
    }
   ],
   "source": [
    "def media_condicional(lista):\n",
    "    \"\"\"    \n",
    "    Função para calcular média de valores na lista maiores que 10\n",
    "    \"\"\"\n",
    "    def calcular_media(numeros):\n",
    "        \"\"\"\n",
    "        Função aninhada que trata os valores da lista\n",
    "        \"\"\"\n",
    "        maior_q_10 = [nmr for nmr in numeros if nmr > 10]\n",
    "        if not maior_q_10:\n",
    "            return 0\n",
    "        return sum(maior_q_10)/len(maior_q_10)\n",
    "    return calcular_media(lista)\n",
    "\n",
    "\n",
    "exemplo = [5, 15, 8, 20, 12]\n",
    "print(media_condicional(exemplo))"
   ]
  },
  {
   "cell_type": "markdown",
   "metadata": {},
   "source": [
    "### Questão 5: Tuplas com Soma Acima da Média (list comprehension)\n",
    "##### Escreva uma função soma_acima_media(tuplas) que receba uma lista de tuplas de dois inteiros e retorne uma lista com as tuplas cuja soma é maior que a média das somas de todas as tuplas. Use list comprehension. Exemplo:\n",
    "- Entrada: [(1, 2), (3, 4), (5, 6)]  \n",
    "\n",
    "- Saída: [(3, 4), (5, 6)]  \n",
    "Somas: 3, 7, 11 → Média: (3 + 7 + 11) / 3 = 7 → Tuplas com soma > 7: (5, 6).\n",
    "\n"
   ]
  },
  {
   "cell_type": "code",
   "execution_count": null,
   "metadata": {},
   "outputs": [
    {
     "name": "stdout",
     "output_type": "stream",
     "text": [
      "[(5, 6)]\n"
     ]
    }
   ],
   "source": [
    "def soma_acima_media(tuplas):\n",
    "    \"\"\"\n",
    "    Retorna tuplas da lista original que são maiores que a média dos valores da lista de tuplas\n",
    "    \"\"\"\n",
    "    somas = [sum(i) for i in tuplas]\n",
    "    media = sum(somas)/len(somas)\n",
    "    return [tp for tp in tuplas if sum(tp) > media]\n",
    "\n",
    "\n",
    "exemplo = [(1, 2), (3, 4), (5, 6)]\n",
    "print(soma_acima_media(exemplo))"
   ]
  }
 ],
 "metadata": {
  "kernelspec": {
   "display_name": "Python 3",
   "language": "python",
   "name": "python3"
  },
  "language_info": {
   "codemirror_mode": {
    "name": "ipython",
    "version": 3
   },
   "file_extension": ".py",
   "mimetype": "text/x-python",
   "name": "python",
   "nbconvert_exporter": "python",
   "pygments_lexer": "ipython3",
   "version": "3.11.4"
  }
 },
 "nbformat": 4,
 "nbformat_minor": 2
}
