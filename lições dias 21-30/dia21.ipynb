{
 "cells": [
  {
   "cell_type": "markdown",
   "metadata": {},
   "source": [
    "### 1- Contagem de Letras em Palavras\n",
    "##### Escreva uma função conta_letras que receba uma string e retorne um dicionário onde as chaves são palavras (em minúsculas) e os valores são a quantidade de letras distintas em cada palavra, usando sets. Exemplo:  \n",
    "- Entrada: \"casa sola\"  \n",
    "\n",
    "- Saída: {\"casa\": 3, \"sola\": 4} (\"casa\" tem c, a, s; \"sola\" tem s, o, l, a)\n",
    "\n"
   ]
  },
  {
   "cell_type": "code",
   "execution_count": null,
   "metadata": {},
   "outputs": [
    {
     "name": "stdout",
     "output_type": "stream",
     "text": [
      "{'casa': 3, 'sola': 4}\n"
     ]
    }
   ],
   "source": [
    "def conta_letras(frase):\n",
    "    letras = [h for h in set(frase)]\n",
    "    palavra = {}\n",
    "    for i in frase.split():\n",
    "        palavra[i] = 0\n",
    "    for i in palavra:\n",
    "        for j in letras:\n",
    "            if j in i:\n",
    "                palavra[i]+=1\n",
    "\n",
    "    return palavra\n",
    "\n",
    "frs = \"casa sola\"\n",
    "print(conta_letras(frs.lower()))"
   ]
  },
  {
   "cell_type": "code",
   "execution_count": 25,
   "metadata": {},
   "outputs": [
    {
     "name": "stdout",
     "output_type": "stream",
     "text": [
      "{'casa': 3, 'sola': 4}\n"
     ]
    }
   ],
   "source": [
    "def conta_letras(frase):\n",
    "    palavras_letras = {}\n",
    "    for i in frase.split():\n",
    "        palavras_letras[i] = len(set(i))\n",
    "    return palavras_letras\n",
    "\n",
    "frs = \"casa sola\"\n",
    "print(conta_letras(frs.lower()))"
   ]
  },
  {
   "cell_type": "markdown",
   "metadata": {},
   "source": [
    "### 2- Intercalação de Listas\n",
    "##### Escreva uma função intercala_listas que receba duas listas de números e retorne uma nova lista intercalando os elementos, mantendo a ordem original. Se uma lista for mais longa, os elementos extras devem vir no final. Exemplo:  \n",
    "- Entrada: [1, 3, 5], [2, 4, 6, 8]  \n",
    "\n",
    "- Saída: [1, 2, 3, 4, 5, 6, 8]\n",
    "\n"
   ]
  },
  {
   "cell_type": "code",
   "execution_count": 2,
   "metadata": {},
   "outputs": [
    {
     "name": "stdout",
     "output_type": "stream",
     "text": [
      "[1, 2, 3, 4, 5, 6, 8]\n"
     ]
    }
   ],
   "source": [
    "def intercala_listas(lst_1,lst_2):\n",
    "    juntas = []\n",
    "    while lst_1 or lst_2:\n",
    "        if lst_1:\n",
    "            juntas.append(lst_1.pop(0))\n",
    "        if lst_2:\n",
    "            juntas.append(lst_2.pop(0))\n",
    "    return juntas\n",
    "\n",
    "lista1, lista2 = [1, 3, 5], [2, 4, 6, 8]\n",
    "print(intercala_listas(lista1,lista2))"
   ]
  },
  {
   "cell_type": "code",
   "execution_count": 22,
   "metadata": {},
   "outputs": [
    {
     "name": "stdout",
     "output_type": "stream",
     "text": [
      "[1, 2, 3, 4, 5, 6, 8]\n"
     ]
    }
   ],
   "source": [
    "def intercala_listas(lst_1, lst_2):\n",
    "    juntas = []\n",
    "    i, j = 0, 0\n",
    "    while i < len(lst_1) or j < len(lst_2):\n",
    "        if i < len(lst_1):\n",
    "            juntas.append(lst_1[i])\n",
    "            i += 1\n",
    "        if j < len(lst_2):\n",
    "            juntas.append(lst_2[j])\n",
    "            j += 1\n",
    "    return juntas\n",
    "\n",
    "lista1, lista2 = [1, 3, 5], [2, 4, 6, 8]\n",
    "print(intercala_listas(lista1,lista2))"
   ]
  },
  {
   "cell_type": "markdown",
   "metadata": {},
   "source": [
    "### 3- Dicionário de Pares Soma\n",
    "##### Dado um dicionário onde as chaves são inteiros e os valores são listas de inteiros, retorne um novo dicionário onde as chaves são os mesmos inteiros e os valores são sets dos pares únicos de números cuja soma seja igual à chave. Exemplo:  \n",
    "- Entrada: {3: [1, 2, 3], 5: [1, 2, 3, 4]}  \n",
    "\n",
    "- Saída: {3: {(1, 2)}, 5: {(1, 4), (2, 3)}}\n",
    "\n"
   ]
  },
  {
   "cell_type": "code",
   "execution_count": 27,
   "metadata": {},
   "outputs": [
    {
     "name": "stdout",
     "output_type": "stream",
     "text": [
      "{3: {(1, 2)}, 5: {(2, 3), (1, 4)}}\n"
     ]
    }
   ],
   "source": [
    "def soma_pares(dicionario):\n",
    "    resultado = {}\n",
    "    for chave, lista in dicionario.items():\n",
    "        pares = set()\n",
    "        for i in range(len(lista)):\n",
    "            for j in range(i, len(lista)):\n",
    "                if lista[i] + lista[j] == chave:\n",
    "                    pares.add((lista[i],lista[j]))\n",
    "        resultado[chave] = pares\n",
    "    return resultado\n",
    "\n",
    "exemplo = {3: [1, 2, 3], 5: [1, 2, 3, 4]} \n",
    "print(soma_pares(exemplo))"
   ]
  },
  {
   "cell_type": "markdown",
   "metadata": {},
   "source": [
    "### 4- Filtro de Linhas em Arquivo\n",
    "##### Escreva uma função que leia um arquivo de texto (cada linha é uma string) e grave em outro arquivo apenas as linhas que contêm pelo menos uma palavra com mais de 5 letras, mantendo a ordem original. Exemplo:  \n",
    "- Arquivo de entrada: linhas.txt com \"casa sol\\npython é legal\\noi mundo\"  \n",
    "\n",
    "- Arquivo de saída: filtradas.txt com \"python é legal\"\n",
    "\n"
   ]
  },
  {
   "cell_type": "code",
   "execution_count": 31,
   "metadata": {},
   "outputs": [],
   "source": [
    "def filtro_arquivo(entrada, saida):\n",
    "    with open(entrada,\"r\", encoding=\"utf-8\") as frases:\n",
    "        palavras = [i.strip() for i in frases]\n",
    "    with open(saida,\"w\",encoding=\"utf-8\") as frase_longa:\n",
    "        for j in palavras:\n",
    "            for i in j.split():\n",
    "                if len(i) > 5:\n",
    "                    frase_longa.write(f\"{j}\\n\")\n",
    "                    break\n",
    "\n",
    "arquivo = \"linhas_21.txt\"\n",
    "filtro = \"filtradas_21.txt\"\n",
    "with open(arquivo,\"w\", encoding=\"utf-8\") as exemplo:\n",
    "    exemplo.write(\"casa sol\\npython é legal\\noi mundo\")\n",
    "filtro_arquivo(arquivo,filtro)"
   ]
  },
  {
   "cell_type": "markdown",
   "metadata": {},
   "source": [
    "### 5- Tuplas com Máximo Distinto\n",
    "##### Escreva uma função max_distinto que receba uma lista de tuplas de números e retorne a tupla com o maior valor máximo, considerando apenas tuplas com elementos distintos (use sets para verificar). Se houver empate, retorne a primeira. Exemplo:  \n",
    "- Entrada: [(1, 2, 3), (2, 2, 4), (1, 3, 5)]  \n",
    "\n",
    "- Saída: (1, 3, 5) (máximos: 3, 4, 5; apenas (1, 2, 3) e (1, 3, 5) têm elementos distintos, 5 é o maior)\n",
    "\n"
   ]
  },
  {
   "cell_type": "code",
   "execution_count": 24,
   "metadata": {},
   "outputs": [
    {
     "name": "stdout",
     "output_type": "stream",
     "text": [
      "(1, 3, 5)\n"
     ]
    }
   ],
   "source": [
    "def max_distinto(tuplas):\n",
    "    aplica_set = [i for i in tuplas if len(i) ==len(set(i))]\n",
    "    if not aplica_set:\n",
    "        return None\n",
    "    return max(aplica_set,key=max)\n",
    "    \n",
    "\n",
    "tuplas = [(1, 2, 3), (2, 2, 4), (1, 3, 5)]\n",
    "print(max_distinto(tuplas))"
   ]
  }
 ],
 "metadata": {
  "kernelspec": {
   "display_name": "Python 3",
   "language": "python",
   "name": "python3"
  },
  "language_info": {
   "codemirror_mode": {
    "name": "ipython",
    "version": 3
   },
   "file_extension": ".py",
   "mimetype": "text/x-python",
   "name": "python",
   "nbconvert_exporter": "python",
   "pygments_lexer": "ipython3",
   "version": "3.11.4"
  }
 },
 "nbformat": 4,
 "nbformat_minor": 2
}
