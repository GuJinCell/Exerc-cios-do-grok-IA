{
 "cells": [
  {
   "cell_type": "markdown",
   "metadata": {},
   "source": [
    "### Questão 1: Inversão de Palavras por Tamanho (dict comprehension)\n",
    "##### Escreva uma função inverter_por_tamanho(texto) que receba uma string e retorne um dicionário onde as chaves são os tamanhos das palavras e os valores são listas de palavras invertidas desse tamanho. Use dict comprehension com setdefault ou similar para agrupar. Exemplo:\n",
    "- Entrada: \"casa amor python\"  \n",
    "\n",
    "- Saída: {4: ['asac', 'roma'], 6: ['nohtyp']}  \n",
    "\"casa\" (4) → \"asac\"; \"amor\" (4) → \"roma\"; \"python\" (6) → \"nohtyp\"."
   ]
  },
  {
   "cell_type": "code",
   "execution_count": 3,
   "metadata": {},
   "outputs": [
    {
     "name": "stdout",
     "output_type": "stream",
     "text": [
      "{4: ['asac', 'roma'], 6: ['nohtyp']}\n"
     ]
    }
   ],
   "source": [
    "def inverter_por_tamanho(texto):\n",
    "    \"\"\"\n",
    "    Retorna um dicionário com tamanhos de palavras como chaves e listas de palavras invertidas como valores.\n",
    "    \"\"\"\n",
    "    return {tamanho : [n[::-1] for n in texto.split() if len(n) == tamanho] for tamanho in set(len(n) for n in texto.split())}\n",
    "\n",
    "\n",
    "exemplo = \"casa amor python\"\n",
    "print(inverter_por_tamanho(exemplo))"
   ]
  },
  {
   "cell_type": "markdown",
   "metadata": {},
   "source": [
    "### Questão 2: Conversão Segura de Tipos (múltiplas exceções)\n",
    "##### Crie uma função converter_lista(lista) que receba uma lista de strings e tente convertê-las para inteiros. Retorne uma lista com os inteiros convertidos. Levante:\n",
    "ValueError se um elemento não for convertível para inteiro (\"Elemento não convertível\").\n",
    "\n",
    "TypeError se a lista contiver elementos não-strings (\"Elemento não é string\").\n",
    "Exemplo:\n",
    "\n",
    "- [\"1\", \"2\", \"3\"] → [1, 2, 3]  \n",
    "\n",
    "- [\"1\", \"abc\", \"3\"] → Levanta ValueError  \n",
    "\n",
    "-   [\"1\", 2, \"3\"] → Levanta TypeError"
   ]
  },
  {
   "cell_type": "code",
   "execution_count": null,
   "metadata": {},
   "outputs": [
    {
     "name": "stdout",
     "output_type": "stream",
     "text": [
      "[1, 2, 3]\n",
      "Elemento não é string\n"
     ]
    }
   ],
   "source": [
    "def converter_lista(lista):\n",
    "    \"\"\"\n",
    "    Converte uma lista de strings para inteiros. Levanta TypeError se houver não-strings e\n",
    "    ValueError se uma string não for convertível.\n",
    "    \"\"\"\n",
    "    convertido = []\n",
    "    if any(isinstance(n, (int, float)) for n in lista):\n",
    "        raise TypeError(\"Elemento não é string\")\n",
    "    for i in lista:\n",
    "        try:\n",
    "            convertido.append(int(i))\n",
    "        except ValueError:\n",
    "            raise ValueError(\"Elemento não convertível\")\n",
    "    return convertido\n",
    "\n",
    "\n",
    "\n",
    "\n",
    "try:\n",
    "    print(converter_lista([\"1\", \"2\", \"3\"]))\n",
    "    print(converter_lista([\"1\", \"abc\", \"3\"]))\n",
    "    print(converter_lista([\"1\", 2, \"3\"]))\n",
    "except TypeError as t:\n",
    "    print(t)\n",
    "except ValueError as v:\n",
    "    print(v)"
   ]
  },
  {
   "cell_type": "markdown",
   "metadata": {},
   "source": [
    "### Questão 3: Contagem de Palavras Únicas em Arquivo (com try-except)\n",
    "##### Escreva uma função contar_palavras_unicas(caminho) que leia um arquivo e retorne o número de palavras únicas (case-insensitive, sem pontuação). Levanta FileNotFoundError com \"Arquivo não encontrado\" se o arquivo não existir. Exemplo:\n",
    "- Arquivo: \"Olá mundo\\nOlá Python!\"  \n",
    "\n",
    "- Saída: 3 (palavras únicas: \"olá\", \"mundo\", \"python\")."
   ]
  },
  {
   "cell_type": "code",
   "execution_count": null,
   "metadata": {},
   "outputs": [
    {
     "name": "stdout",
     "output_type": "stream",
     "text": [
      "3\n"
     ]
    }
   ],
   "source": [
    "import os\n",
    "\n",
    "def contar_palavras_unicas(caminho):\n",
    "    \"\"\"\n",
    "    Retorna o número de palavras únicas no arquivo (case-insensitive, sem pontuação).\n",
    "    Levanta FileNotFoundError se o arquivo não existir.\n",
    "    \"\"\"\n",
    "    try:\n",
    "        with open(caminho,\"r\",encoding=\"utf-8\") as arquivo:\n",
    "            texto = (arquivo.read()).lower().split()\n",
    "            filtro = [n.strip(\" .!?\") for n in texto]\n",
    "            return len(set(filtro))\n",
    "    except FileNotFoundError:\n",
    "        raise FileNotFoundError(\"Arquivo não encontrado\")\n",
    "\n",
    "\n",
    "pasta = \"C:/Users/Celso.O.C/PycharmProjects/progamation/Exercícios/Exerc-cios-do-grok-IA/arquivos_de_exercicios\"\n",
    "os.makedirs(pasta,exist_ok=True)\n",
    "entrada = f\"{pasta}/n_unicas_29.txt\"\n",
    "with open(entrada,\"w\",encoding=\"utf-8\") as arquivo:\n",
    "    arquivo.write(\"Olá mundo\\nOlá Python!\")\n",
    "print(contar_palavras_unicas(entrada))"
   ]
  },
  {
   "cell_type": "markdown",
   "metadata": {},
   "source": [
    "### Questão 4: Soma Recursiva em Lista Aninhada\n",
    "##### Crie uma função recursiva soma_aninhada(lista) que receba uma lista possivelmente aninhada e retorne a soma de todos os números inteiros ou floats. Exemplo:\n",
    "- Entrada: [1, [2, 3], [4, [5]]] → Saída: 15 (1 + 2 + 3 + 4 + 5)  \n",
    "\n",
    "- Entrada: [1, 2, 3] → Saída: 6"
   ]
  },
  {
   "cell_type": "code",
   "execution_count": 1,
   "metadata": {},
   "outputs": [
    {
     "name": "stdout",
     "output_type": "stream",
     "text": [
      "15\n"
     ]
    }
   ],
   "source": [
    "def soma_aninhada(lista):\n",
    "    \"\"\"\n",
    "    Retorna a soma recursiva de todos os números (int ou float) em uma lista aninhada.\n",
    "    \"\"\"\n",
    "    soma = 0\n",
    "    for n in lista:\n",
    "        if isinstance(n,(int,float)):\n",
    "            soma += n\n",
    "        elif isinstance(n,list):\n",
    "            soma += soma_aninhada(n)\n",
    "        else:\n",
    "            try:\n",
    "                soma += int(n)\n",
    "            except (ValueError, TypeError):\n",
    "                pass\n",
    "    return soma\n",
    "\n",
    "\n",
    "exemplo = [1, [2, 3], [4, ['5']]]\n",
    "print(soma_aninhada(exemplo))"
   ]
  },
  {
   "cell_type": "markdown",
   "metadata": {},
   "source": [
    "### Questão 5: Tuplas com Produto Máximo (list comprehension e max)\n",
    "##### Escreva uma função maior_produto(tuplas) que receba uma lista de tuplas de dois inteiros e retorne a tupla com o maior produto entre seus elementos. Use list comprehension com max e uma função lambda. Exemplo:\n",
    "- Entrada: [(1, 2), (3, 4), (2, 5)]  \n",
    "\n",
    "- Saída: (3, 4) (produtos: 2, 12, 10 → maior é 12)."
   ]
  },
  {
   "cell_type": "code",
   "execution_count": null,
   "metadata": {},
   "outputs": [
    {
     "name": "stdout",
     "output_type": "stream",
     "text": [
      "(3, 4)\n"
     ]
    }
   ],
   "source": [
    "def maior_produto(tuplas):\n",
    "    \"\"\"\n",
    "    Retorna a tupla com o maior produto interno de seus elementos\n",
    "    \"\"\"\n",
    "    return max(tuplas, key=lambda x: (x[0]*x[1]))\n",
    "\n",
    "\n",
    "exemplo = [(1, 2), (3, 4), (2, 5)] \n",
    "print(maior_produto(exemplo))"
   ]
  }
 ],
 "metadata": {
  "kernelspec": {
   "display_name": "Python 3",
   "language": "python",
   "name": "python3"
  },
  "language_info": {
   "codemirror_mode": {
    "name": "ipython",
    "version": 3
   },
   "file_extension": ".py",
   "mimetype": "text/x-python",
   "name": "python",
   "nbconvert_exporter": "python",
   "pygments_lexer": "ipython3",
   "version": "3.11.4"
  }
 },
 "nbformat": 4,
 "nbformat_minor": 2
}
