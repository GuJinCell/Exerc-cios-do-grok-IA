{
 "cells": [
  {
   "cell_type": "markdown",
   "metadata": {},
   "source": [
    "### Questão 1: Lista de Palavras com Vogais Únicas (usando list comprehension)\n",
    "##### Escreva uma função vogais_unicas(lista_palavras) que receba uma lista de strings e retorne uma lista com apenas as palavras que têm todas as suas vogais distintas (sem repetição de vogais). Use list comprehension e sets. Exemplo:\n",
    "- Entrada: [\"casa\", \"rio\", \"aeiou\", \"bola\"]  \n",
    "\n",
    "- Saída: [\"rio\", \"aeiou\"]  \n",
    "\"casa\" → vogais: {a, a} → repetição → excluída  \n",
    "\n",
    "\"rio\" → vogais: {i, o} → distintas → inclusa  \n",
    "\n",
    "\"aeiou\" → vogais: {a, e, i, o, u} → distintas → inclusa  \n",
    "\n",
    "\"bola\" → vogais: {o, a} → distintas → inclusa (corrigido: exemplo ajustado, \"bola\" tem vogais distintas)"
   ]
  },
  {
   "cell_type": "code",
   "execution_count": null,
   "metadata": {},
   "outputs": [
    {
     "name": "stdout",
     "output_type": "stream",
     "text": [
      "['rio', 'aeiou']\n"
     ]
    }
   ],
   "source": [
    "def vogais_unicas(lista):\n",
    "    \"\"\"\n",
    "    Retorna uma lista com palavras cujas vogais são todas distintas.\n",
    "    \"\"\"\n",
    "    vogais = set(\"aeiou\")\n",
    "    mais_d_uma_vogal = []\n",
    "    for i in lista:\n",
    "        repeticoes = sum(i.count(v) for v in vogais)\n",
    "        if len(set(i)&vogais) == repeticoes:\n",
    "            mais_d_uma_vogal.append(i)\n",
    "    return mais_d_uma_vogal\n",
    "\n",
    "\n",
    "\n",
    "exemplo = [\"casa\", \"rio\", \"aeiou\", \"bola\"]\n",
    "print(vogais_unicas(exemplo))"
   ]
  },
  {
   "cell_type": "code",
   "execution_count": null,
   "metadata": {},
   "outputs": [
    {
     "name": "stdout",
     "output_type": "stream",
     "text": [
      "['rio', 'aeiou', 'bola']\n"
     ]
    }
   ],
   "source": [
    "def vogais_unicas(lista):\n",
    "    \"\"\"\n",
    "    Retorna uma lista com palavras cujas vogais são todas distintas (sem repetição).\n",
    "    \"\"\"\n",
    "    vogais = set(\"aeiou\")\n",
    "    return [i for i in lista if len(set(i)&vogais) == sum(i.count(v) for v in vogais)]\n",
    "\n",
    "\n",
    "exemplo = [\"casa\", \"rio\", \"aeiou\", \"bola\"]\n",
    "print(vogais_unicas(exemplo))"
   ]
  },
  {
   "cell_type": "markdown",
   "metadata": {},
   "source": [
    "### Questão 2: Soma de Quadrados em Intervalo (com set e comprehension)\n",
    "##### Escreva uma função soma_quadrados(inicio, fim) que receba dois inteiros e retorne a soma dos quadrados de todos os números pares no intervalo [inicio, fim] (inclusive). Use set comprehension para gerar os números pares e calcular os quadrados. Exemplo:\n",
    "- Entrada: 1, 5 → Saída: 20 (pares: 2, 4 → quadrados: 4, 16 → soma: 20)  \n",
    "\n",
    "- Entrada: 2, 6 → Saída: 56 (pares: 2, 4, 6 → quadrados: 4, 16, 36 → soma: 56)"
   ]
  },
  {
   "cell_type": "code",
   "execution_count": null,
   "metadata": {},
   "outputs": [
    {
     "name": "stdout",
     "output_type": "stream",
     "text": [
      "56\n"
     ]
    }
   ],
   "source": [
    "def soma_quadrados(inicio, fim):\n",
    "    \"\"\"\n",
    "    Retorna a soma do quadrado dos números pares inteiros\n",
    "    dentro do intervalo determinado pelo inicio e fim\n",
    "    \"\"\"\n",
    "    soma_pares = 0\n",
    "    for i in range(inicio,fim+1):\n",
    "        if i%2 ==0:\n",
    "            soma_pares += i**2\n",
    "    return soma_pares\n",
    "\n",
    "\n",
    "valor_inic, valor_final =int(input(\"Número do inicio: \")), int(input(\"Número do fim: \"))\n",
    "print(soma_quadrados(valor_inic,valor_final))"
   ]
  },
  {
   "cell_type": "code",
   "execution_count": null,
   "metadata": {},
   "outputs": [
    {
     "name": "stdout",
     "output_type": "stream",
     "text": [
      "56\n"
     ]
    }
   ],
   "source": [
    "def soma_quadrados(inicio, fim):\n",
    "    \"\"\"\n",
    "    Retorna a soma do quadrado dos números pares inteiros\n",
    "    dentro do intervalo determinado pelo inicio e fim\n",
    "    utilizando sets\n",
    "    \"\"\"\n",
    "    soma_pares = sum({numero**2 for numero in range(inicio,fim+1) if numero%2==0})\n",
    "    return soma_pares\n",
    "\n",
    "\n",
    "valor_inic, valor_final =int(input(\"Numerp do inicio: \")), int(input(\"Numerp do fim: \"))\n",
    "print(soma_quadrados(valor_inic,valor_final))"
   ]
  },
  {
   "cell_type": "markdown",
   "metadata": {},
   "source": [
    "### Questão 3: Dicionário de Frequência com Exceção (try-except)\n",
    "##### Escreva uma função frequencia_letras(texto) que receba uma string e retorne um dicionário com a frequência de cada letra (ignorando espaços e caracteres não alfabéticos). Se a string for vazia ou não for uma string, levante uma exceção ValueError com a mensagem \"Entrada inválida\". Use try-except para validar a entrada. Exemplo:\n",
    "- Entrada: \"casa nova\" → Saída: {'c': 1, 'a': 3, 's': 1, 'n': 1, 'o': 1, 'v': 1}  \n",
    "\n",
    "- Entrada: \"\" → Levanta ValueError: Entrada inválida  \n",
    "\n",
    "- Entrada: 123 → Saída: {} (nenhuma letra)\n",
    "\n"
   ]
  },
  {
   "cell_type": "code",
   "execution_count": 40,
   "metadata": {},
   "outputs": [
    {
     "name": "stdout",
     "output_type": "stream",
     "text": [
      "{'c': 1, 'a': 3, 's': 1, 'n': 1, 'o': 1, 'v': 1}\n",
      "Entrada inválida\n"
     ]
    }
   ],
   "source": [
    "from collections import Counter\n",
    "\n",
    "def frequencia_letras(texto):\n",
    "    \"\"\"\n",
    "    Retorna um dicionário com a frequência de letras em um texto, ignorando não alfabéticos.\n",
    "    Levanta ValueError se a entrada não for string ou for vazia.\n",
    "    \"\"\"\n",
    "    if not isinstance(texto, str) or not texto:\n",
    "        raise ValueError(\"Entrada inválida\")\n",
    "    letras = [c for c in texto if c.isalpha()]\n",
    "    contador = Counter(letras)\n",
    "    return dict(contador)\n",
    "    \n",
    "\n",
    "try:\n",
    "    print(frequencia_letras(\"casa nova\"))\n",
    "    print(frequencia_letras(\"\"))\n",
    "    print(frequencia_letras(42))\n",
    "    print(frequencia_letras(\"123\"))\n",
    "except ValueError as e:\n",
    "    print(e)\n"
   ]
  },
  {
   "cell_type": "markdown",
   "metadata": {},
   "source": [
    "### Questão 4: Arquivo com Linhas Numeradas (manipulação de arquivos)\n",
    "##### Crie uma função numerar_linhas(caminho_entrada, caminho_saida) que leia um arquivo de texto, adicione o número da linha (começando em 1) no início de cada linha (seguido de \". \"), e escreva o resultado em um novo arquivo. Exemplo:\n",
    "- Arquivo de entrada:\n",
    "\n",
    "Olá\n",
    "Python é legal\n",
    "Fim\n",
    "\n",
    "- Arquivo de saída:\n",
    "\n",
    "1. Olá\n",
    "2. Python é legal\n",
    "3. Fim\n",
    "\n"
   ]
  },
  {
   "cell_type": "code",
   "execution_count": null,
   "metadata": {},
   "outputs": [],
   "source": [
    "import os\n",
    "\n",
    "def numerar_linhas(entrada, saida):\n",
    "    \"\"\"\n",
    "    Lê um arquivo e escreve suas linhas numeradas em outro arquivo.\n",
    "    \"\"\"\n",
    "    contador = 1\n",
    "    with open(entrada, \"r\", encoding=\"utf-8\") as arquivo:\n",
    "        linhas = [frs.strip() for frs in arquivo]\n",
    "    with open(saida, \"w\", encoding=\"utf-8\") as resultado:\n",
    "        for i in linhas:\n",
    "            resultado.write(f\"{contador}. {i}\\n\")\n",
    "            contador += 1\n",
    "          \n",
    "\n",
    "\n",
    "\n",
    "pasta = \"C:/Users/Celso.O.C/PycharmProjects/progamation/Exercícios/Exerc-cios-do-grok-IA/arquivos_de_exercicios\"\n",
    "os.makedirs(pasta, exist_ok=True)\n",
    "exemplo_s_numero = f\"{pasta}/sem_numerp_25.txt\"\n",
    "resultado_c_numero = f\"{pasta}/com_numero_25.txt\"\n",
    "with open(exemplo_s_numero,\"w\", encoding=\"utf-8\") as exemplo:\n",
    "    exemplo.write(\"Olá\\nPython é legal\\nFim\")\n",
    "numerar_linhas(exemplo_s_numero,resultado_c_numero)"
   ]
  },
  {
   "cell_type": "markdown",
   "metadata": {},
   "source": [
    "### Questão 5: Tuplas Ordenadas por Diferença (list comprehension e sorted)\n",
    "##### Escreva uma função ordena_por_diferenca(tuplas) que receba uma lista de tuplas de dois inteiros e retorne uma lista com as tuplas ordenadas pela diferença absoluta entre os elementos (em ordem crescente). Use list comprehension e a função sorted(). Exemplo:\n",
    "- Entrada: [(2, 5), (1, 3), (4, 8)]  \n",
    "\n",
    "- Saída: [(1, 3), (2, 5), (4, 8)]  \n",
    "- Diferenças: |2-5|=3, |1-3|=2, |4-8|=4 → Ordenado: 2, 3, 4 → [(1, 3), (2, 5), (4, 8)]\n",
    "\n"
   ]
  },
  {
   "cell_type": "code",
   "execution_count": null,
   "metadata": {},
   "outputs": [
    {
     "name": "stdout",
     "output_type": "stream",
     "text": [
      "[(1, 3), (2, 5), (4, 8)]\n"
     ]
    }
   ],
   "source": [
    "def ordenar_por_diferenca(tuplas):\n",
    "    \"\"\"\n",
    "    Retorna uma lista de tuplas ordenadas pela diferença absoluta entre seus elementos.\n",
    "    \"\"\"\n",
    "    return (sorted(tuplas , key=lambda t: abs(t[0]-t[1])))\n",
    "\n",
    "\n",
    "exemplo = [(2, 5), (1, 3), (4, 8)]\n",
    "print(ordenar_por_diferenca(exemplo))"
   ]
  }
 ],
 "metadata": {
  "kernelspec": {
   "display_name": "Python 3",
   "language": "python",
   "name": "python3"
  },
  "language_info": {
   "codemirror_mode": {
    "name": "ipython",
    "version": 3
   },
   "file_extension": ".py",
   "mimetype": "text/x-python",
   "name": "python",
   "nbconvert_exporter": "python",
   "pygments_lexer": "ipython3",
   "version": "3.11.4"
  }
 },
 "nbformat": 4,
 "nbformat_minor": 2
}
