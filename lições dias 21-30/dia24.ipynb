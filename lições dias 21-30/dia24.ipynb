{
 "cells": [
  {
   "cell_type": "markdown",
   "metadata": {},
   "source": [
    "### Questão 1: Contagem de Palavras com Três Consoantes Distintas\n",
    "##### Escreva uma função tres_consoantes(palavra) que receba uma string e retorne True se a palavra tiver exatamente três consoantes distintas (ignorando maiúsculas/minúsculas), e False caso contrário. Use sets para resolver. Exemplo:\n",
    "- Entrada: \"gato\" → Saída: False (g, t são consoantes distintas = 2, menos que 3)\n",
    "\n",
    "- Entrada: \"planta\" → Saída: False (p, l, n, t = 4, mais que 3 → False)\n",
    "\n",
    "- Entrada: \"solto\" → Saída: True (s, l, t = 3)"
   ]
  },
  {
   "cell_type": "code",
   "execution_count": null,
   "metadata": {},
   "outputs": [
    {
     "name": "stdout",
     "output_type": "stream",
     "text": [
      "False\n"
     ]
    }
   ],
   "source": [
    "def tres_consoantes(palavra):\n",
    "    \"\"\"\n",
    "    Função que retorna True quando 3 consoantes estão presentes nela\n",
    "\n",
    "    \"\"\"\n",
    "    consoantes = (set(palavra.lower()) & set(\"bcdfghjklmnpqrstvwxz\"))\n",
    "    return len(consoantes) == 3\n",
    "\n",
    "\n",
    "exemplo = input(\"Escreva uma palavra: \")\n",
    "print(tres_consoantes(exemplo))"
   ]
  },
  {
   "cell_type": "markdown",
   "metadata": {},
   "source": [
    "### Questão 2: Soma de Elementos Únicos em Listas\n",
    "##### Escreva uma função soma_unicos(lista1, lista2) que receba duas listas de números e retorne a soma dos elementos que aparecem em apenas uma das listas (diferença simétrica). Use sets. Exemplo:\n",
    "- Entrada: [1, 2, 3], [2, 3, 4] → Saída: 5 (1 + 4 = 5, pois 2 e 3 aparecem em ambas)\n",
    "\n",
    "- Entrada: [5, 6], [7, 8] → Saída: 26 (5 + 6 + 7 + 8 = 26)"
   ]
  },
  {
   "cell_type": "code",
   "execution_count": null,
   "metadata": {},
   "outputs": [
    {
     "name": "stdout",
     "output_type": "stream",
     "text": [
      "26\n"
     ]
    }
   ],
   "source": [
    "def soma_unicos(lista1, lista2):\n",
    "    \"\"\"\n",
    "    Retorna a soma dos elementos que aparecem em apenas uma das duas listas.\n",
    "    \"\"\"\n",
    "    return sum(set(lista1) ^ set(lista2))\n",
    "\n",
    "\n",
    "lst_1, lst_2 = [5, 6], [7, 8]\n",
    "print(soma_unicos(lst_1,lst_2))"
   ]
  },
  {
   "cell_type": "markdown",
   "metadata": {},
   "source": [
    "### Questão 3: Dicionário de Palavras por Tamanho\n",
    "##### Escreva uma função agrupar_por_tamanho(lista_palavras) que receba uma lista de strings e retorne um dicionário onde as chaves são os tamanhos das palavras e os valores são sets com as palavras daquele tamanho. Exemplo:\n",
    "- Entrada: [\"gato\", \"cão\", \"ratos\", \"sol\"] → Saída: {3: {\"cão\", \"sol\"}, 4: {\"gato\"}, 5: {\"ratos\"}}"
   ]
  },
  {
   "cell_type": "code",
   "execution_count": 11,
   "metadata": {},
   "outputs": [
    {
     "name": "stdout",
     "output_type": "stream",
     "text": [
      "{4: {'gato'}, 3: {'cão', 'sol'}, 5: {'ratos'}}\n"
     ]
    }
   ],
   "source": [
    "def agrupar_por_tamanho(lista):\n",
    "    grupo = {}\n",
    "    for i in lista:\n",
    "        tamanho = len(i)\n",
    "        if tamanho not in grupo:\n",
    "            grupo[tamanho] = set()\n",
    "        grupo[tamanho].add(i)    \n",
    "    return grupo\n",
    "\n",
    "\n",
    "exemplo = [\"gato\", \"cão\", \"ratos\", \"sol\"]\n",
    "print(agrupar_por_tamanho(exemplo))"
   ]
  },
  {
   "cell_type": "markdown",
   "metadata": {},
   "source": [
    "### Questão 4: Filtro de Linhas com Números em Arquivo\n",
    "##### Crie uma função filtra_numeros(caminho_entrada, caminho_saida) que leia um arquivo de texto, mantenha apenas as linhas que contêm pelo menos um número (0-9), e escreva essas linhas em um novo arquivo. Exemplo:\n",
    "- Arquivo de entrada:\n",
    "\n",
    "Olá mundo\n",
    "Python 3 é legal\n",
    "Apenas texto\n",
    "Código 42 aqui\n",
    "\n",
    "- Arquivo de saída:\n",
    "\n",
    "Python 3 é legal\n",
    "Código 42 aqui"
   ]
  },
  {
   "cell_type": "code",
   "execution_count": null,
   "metadata": {},
   "outputs": [],
   "source": [
    "import os\n",
    "\n",
    "def filtra_numeros(entrada, saida):\n",
    "    \"\"\"\n",
    "    Filtra linhas de um arquivo, mantendo apenas as que contêm números, e salva em outro arquivo.\n",
    "    \"\"\"\n",
    "    numeros = \"bcdfghjklmnpqrstvwxyz\"\n",
    "    with open(entrada, \"r\", encoding=\"utf-8\") as arquivo:\n",
    "        linhas = [ frase.strip() for frase in arquivo]\n",
    "    with open (saida, \"w\", encoding=\"utf-8\") as com_numeros:\n",
    "        for frase in linhas:\n",
    "            if any(numero in frase for numero in numeros):\n",
    "                    com_numeros.write((f\"{frase}\\n\"))\n",
    "\n",
    "\n",
    "pasta = \"C:/Users/Celso.O.C/PycharmProjects/progamation/Exercícios/Exerc-cios-do-grok-IA/arquivos_de_exercicios\"\n",
    "os.makedirs(pasta,exist_ok=True)\n",
    "exemplo_in = f\"{pasta}/linhas_24.txt\"\n",
    "exemplo_out = f\"{pasta}/com_numeros_24.txt\"\n",
    "with open(exemplo_in, \"w\", encoding=\"utf-8\") as arquivo:\n",
    "    arquivo.write(\"Olá mundo\\nPython 3 é legal\\nApenas texto\\nCódigo 42 aqui\")\n",
    "filtra_numeros(exemplo_in,exemplo_out)"
   ]
  },
  {
   "cell_type": "markdown",
   "metadata": {},
   "source": [
    "### Questão 5: Tuplas com Produto Máximo\n",
    "##### Escreva uma função maior_produto(tuplas) que receba uma lista de tuplas de dois elementos (números inteiros) e retorne a tupla cujo produto dos elementos é o maior. Se houver empate, retorne a primeira tupla encontrada. Exemplo:\n",
    "- Entrada: [(2, 3), (4, 5), (1, 10)] → Saída: (4, 5) (produto = 20, maior que 6 e 10)\n",
    "\n",
    "- Entrada: [(3, 4), (-2, -5), (5, 2)] → Saída: (-2, -5) (produto = 10, maior que 12 e 10, primeira no empate)"
   ]
  },
  {
   "cell_type": "code",
   "execution_count": null,
   "metadata": {},
   "outputs": [
    {
     "name": "stdout",
     "output_type": "stream",
     "text": [
      "(4, 5)\n"
     ]
    }
   ],
   "source": [
    "def maior_produto(tuplas):\n",
    "    \"\"\"\n",
    "    Retorna a tupla com o maior produto entre seus elementos. Retorna None se a lista estiver vazia.\n",
    "    \"\"\"\n",
    "    if not tuplas:\n",
    "        return None\n",
    "    return max(tuplas , key=lambda t: (t[0]*t[1]))\n",
    "\n",
    "\n",
    "exemplo = [(2, 3), (4, 5), (1, 10)]\n",
    "print(maior_produto(exemplo))"
   ]
  }
 ],
 "metadata": {
  "kernelspec": {
   "display_name": "Python 3",
   "language": "python",
   "name": "python3"
  },
  "language_info": {
   "codemirror_mode": {
    "name": "ipython",
    "version": 3
   },
   "file_extension": ".py",
   "mimetype": "text/x-python",
   "name": "python",
   "nbconvert_exporter": "python",
   "pygments_lexer": "ipython3",
   "version": "3.11.4"
  }
 },
 "nbformat": 4,
 "nbformat_minor": 2
}
