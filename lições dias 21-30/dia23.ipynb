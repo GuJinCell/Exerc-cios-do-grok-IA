{
 "cells": [
  {
   "cell_type": "markdown",
   "metadata": {},
   "source": [
    "### 1- Palavras com Vogais Únicas\n",
    "##### Escreva uma função vogais_unicas que receba uma string e retorne um set com as palavras (em minúsculas) que possuem exatamente 2 vogais distintas, usando sets para verificar. Considere vogais como a, e, i, o, u. Exemplo:  \n",
    "- Entrada: \"casa sola lua\"  \n",
    "\n",
    "- Saída: {'casa'} (\"casa\" tem a, a → 1 vogal distinta; \"sola\" tem o, a → 2; \"lua\" tem u, a → 2; mas só \"sola\" e \"lua\" têm exatamente 2, erro meu no exemplo — ajusto abaixo!)  \n",
    "\n",
    "- Exemplo Corrigido: \"casa sola rio\"  \n",
    "\n",
    "- Saída: {'sola', 'rio'} (\"casa\": a; \"sola\": o, a; \"rio\": i, o)\n",
    "\n"
   ]
  },
  {
   "cell_type": "code",
   "execution_count": 16,
   "metadata": {},
   "outputs": [
    {
     "name": "stdout",
     "output_type": "stream",
     "text": [
      "{'sola', 'lua'}\n"
     ]
    }
   ],
   "source": [
    "def vogais_unicas(frase):\n",
    "    vogais = set(\"aeiou\")\n",
    "    palavras = set()\n",
    "    for i in frase.split():\n",
    "        contador = set(i.lower()) & set(vogais)\n",
    "        if len(contador) == 2:\n",
    "                palavras.add(i)\n",
    "    return palavras\n",
    "\n",
    "exemplo = \"casa sola lua\" \n",
    "print(vogais_unicas(exemplo))"
   ]
  },
  {
   "cell_type": "code",
   "execution_count": null,
   "metadata": {},
   "outputs": [],
   "source": [
    "def vogais_unicas(frase):\n",
    "    vogais = [\"a\",\"e\",\"i\",\"o\",\"u\"]\n",
    "\n",
    "\n",
    "exemplo = \"casa sola lua\" \n",
    "print(vogais_unicas(exemplo))"
   ]
  },
  {
   "cell_type": "markdown",
   "metadata": {},
   "source": [
    "### 2- Lista de Diferenças\n",
    "##### Escreva uma função diferencas que receba duas listas de números e retorne uma lista com as diferenças absolutas entre elementos nas mesmas posições, até o tamanho da menor lista. Exemplo:  \n",
    "- Entrada: [1, 5, 3], [4, 2, 8]  \n",
    "\n",
    "- Saída: [3, 3, 5] (|1-4| = 3, |5-2| = 3, |3-8| = 5)\n",
    "\n"
   ]
  },
  {
   "cell_type": "code",
   "execution_count": 13,
   "metadata": {},
   "outputs": [
    {
     "name": "stdout",
     "output_type": "stream",
     "text": [
      "[3, 3, 5]\n"
     ]
    }
   ],
   "source": [
    "def diferenca(lista_1,lista_2):\n",
    "    dif_abs = []\n",
    "    tamanho = min(len(lista_1),len(lista_2))\n",
    "    return [abs(lista_1[i]- lista_2[i]) for i in range(tamanho)]\n",
    "\n",
    "exe_1, exe_2 = [1, 5, 3], [4, 2, 8] \n",
    "print(diferenca(exe_1,exe_2))"
   ]
  },
  {
   "cell_type": "markdown",
   "metadata": {},
   "source": [
    "### 3- Dicionário de Palavras Invertidas\n",
    "##### Dado um dicionário onde as chaves são inteiros e os valores são strings, retorne um novo dicionário onde as chaves são as mesmas e os valores são as strings invertidas, mas apenas se a string original for diferente da invertida (use sets para verificar caracteres se necessário). Exemplo:  \n",
    "- Entrada: {1: \"casa\", 2: \"radar\", 3: \"sol\"}  \n",
    "\n",
    "- Saída: {1: \"asac\", 3: \"los\"} (\"radar\" é igual a \"radar\", então excluído)\n",
    "\n"
   ]
  },
  {
   "cell_type": "code",
   "execution_count": null,
   "metadata": {},
   "outputs": [
    {
     "name": "stdout",
     "output_type": "stream",
     "text": [
      "{1: 'asac', 2: 'radar', 3: 'los'}\n"
     ]
    }
   ],
   "source": [
    "def novo_dic(objetos):\n",
    "    reversa = {}\n",
    "    for numero,palavra in objetos.items():\n",
    "        invertida = palavra[-1::-1]\n",
    "        if palavra != invertida:\n",
    "            reversa[numero] = (invertida)\n",
    "    return reversa\n",
    "\n",
    "\n",
    "exemplo =  {1: \"casa\", 2: \"radar\", 3: \"sol\"}\n",
    "print(novo_dic(exemplo))"
   ]
  },
  {
   "cell_type": "markdown",
   "metadata": {},
   "source": [
    "### 4- Arquivo de Linhas Curtas\n",
    "##### Escreva uma função que leia um arquivo de texto (cada linha é uma string) no caminho C:/Users/Celso.O.C/PycharmProjects/progamation/Exercícios/Exerc-cios-do-grok-IA/arquivos_de_exercicios e grave em outro arquivo apenas as linhas com menos de 10 caracteres (incluindo espaços e pontuação), mantendo a ordem original. Exemplo:  \n",
    "- Arquivo de entrada: linhas_23.txt com \"casa\\npython code\\nsol\\nprogramação\"  \n",
    "\n",
    "- Arquivo de saída: curtas_23.txt com \"casa\\nsol\"\n",
    "\n"
   ]
  },
  {
   "cell_type": "code",
   "execution_count": 10,
   "metadata": {},
   "outputs": [],
   "source": [
    "import os\n",
    "\n",
    "def outro_arquivo(entrada, saida):\n",
    "    with open(entrada,\"r\", encoding=\"utf-8\") as arquivo:\n",
    "        palavras = [i.strip() for i in arquivo]\n",
    "    with open(saida,\"w\", encoding=\"utf-8\") as menor_q_10:\n",
    "        for i in palavras:\n",
    "            if len(i) < 10:\n",
    "                menor_q_10.write(f\"{i}\\n\")\n",
    "\n",
    "\n",
    "\n",
    "pasta = \"C:/Users/Celso.O.C/PycharmProjects/progamation/Exercícios/Exerc-cios-do-grok-IA/arquivos_de_exercicios\"\n",
    "os.makedirs(pasta,exist_ok=True)\n",
    "exemplo = f\"{pasta}/linhas_23.txt\"\n",
    "resultado = f\"{pasta}/curtas_23.txt\"\n",
    "with open(exemplo,\"w\", encoding=\"utf-8\") as arquivo:\n",
    "    arquivo.write(\"casa\\npython code\\nsol\\nprogramação\")\n",
    "outro_arquivo(exemplo,resultado)\n"
   ]
  },
  {
   "cell_type": "markdown",
   "metadata": {},
   "source": [
    "### 5- Tuplas com Soma Par\n",
    "##### Escreva uma função soma_par que receba uma lista de tuplas de números e retorne uma lista com as tuplas cuja soma dos elementos seja par, em ordem decrescente da soma. Exemplo:  \n",
    "- Entrada: [(1, 3), (2, 4), (1, 2)]  \n",
    "\n",
    "- Saída: [(2, 4), (1, 3)] (somas: 4, 6, 3; 6 e 4 são pares, ordem decrescente: [(2, 4), (1, 3)])\n",
    "\n"
   ]
  },
  {
   "cell_type": "code",
   "execution_count": 15,
   "metadata": {},
   "outputs": [
    {
     "name": "stdout",
     "output_type": "stream",
     "text": [
      "[(2, 4), (1, 3)]\n"
     ]
    }
   ],
   "source": [
    "def soma_par(tuplas):\n",
    "    par_r = [i for i in tuplas if sum(i)%2 ==0]\n",
    "    return sorted(par_r, key=sum, reverse=True)\n",
    "\n",
    "\n",
    "exemplo = [(1, 3), (2, 4), (1, 2)]  \n",
    "print(soma_par(exemplo))"
   ]
  }
 ],
 "metadata": {
  "kernelspec": {
   "display_name": "Python 3",
   "language": "python",
   "name": "python3"
  },
  "language_info": {
   "codemirror_mode": {
    "name": "ipython",
    "version": 3
   },
   "file_extension": ".py",
   "mimetype": "text/x-python",
   "name": "python",
   "nbconvert_exporter": "python",
   "pygments_lexer": "ipython3",
   "version": "3.11.4"
  }
 },
 "nbformat": 4,
 "nbformat_minor": 2
}
