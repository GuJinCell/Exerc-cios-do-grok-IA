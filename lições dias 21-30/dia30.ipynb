{
 "cells": [
  {
   "cell_type": "markdown",
   "metadata": {},
   "source": [
    "### Questão 1: Contagem de Palavras por Vogais Distintas (dict comprehension e sets)\n",
    "##### Descrição: Escreva uma função contar_por_vogais(texto) que receba uma string e retorne um dicionário onde as chaves são o número de vogais distintas (a, e, i, o, u) em cada palavra, e os valores são listas com as palavras correspondentes. Use dict comprehension e sets. Considere apenas letras minúsculas.\n",
    "Exemplo:\n",
    "- Entrada: \"casa carro sol python\"\n",
    "\n",
    "- Saída: {2: ['casa', 'carro'], 1: ['sol', 'python']}\n",
    "\"casa\" tem {a}, \"carro\" tem {a, o}, \"sol\" tem {o}, \"python\" tem {o}."
   ]
  },
  {
   "cell_type": "code",
   "execution_count": null,
   "metadata": {},
   "outputs": [
    {
     "name": "stdout",
     "output_type": "stream",
     "text": [
      "{1: ['sol', 'python'], 2: ['casa', 'carro']}\n"
     ]
    }
   ],
   "source": [
    "def contar_por_vogais(texto):\n",
    "    \"\"\"\n",
    "    Recebe um texto e retorna um dicionário com o número total de vogais em cada palavra\n",
    "    e o valor como quais palavras têm aquele número de vogais.\n",
    "    \"\"\"\n",
    "    vogais = set(\"aeiou\")\n",
    "    return {n_vogais: [n for n in texto.split() if sum(v in vogais for v in n) == n_vogais] for n_vogais in set(sum(c in vogais for c in n) for n in texto.split())}\n",
    "\n",
    "\n",
    "frase = \"casa carro sol python\"\n",
    "print(contar_por_vogais(frase))"
   ]
  },
  {
   "cell_type": "markdown",
   "metadata": {},
   "source": [
    "### Questão 2: Soma Segura de Lista Aninhada (recursão e try-except)\n",
    "##### Descrição: Crie uma função recursiva soma_segura(lista) que some todos os números em uma lista possivelmente aninhada, ignorando elementos não numéricos com try-except. A função deve funcionar para qualquer nível de aninhamento.\n",
    "Exemplo:\n",
    "- Entrada: [1, [2, \"texto\", 3], [4, [5, None]], 6]\n",
    "\n",
    "- Saída: 21 (1 + 2 + 3 + 4 + 5 + 6)"
   ]
  },
  {
   "cell_type": "code",
   "execution_count": null,
   "metadata": {},
   "outputs": [
    {
     "name": "stdout",
     "output_type": "stream",
     "text": [
      "21\n"
     ]
    }
   ],
   "source": [
    "def soma_segura(lista):\n",
    "    \"\"\"\n",
    "    Retorna a soma dos elementos de dentro da lista, após validar se são int ou float, ignora em caso de string,\n",
    "    e utiliza aninhamento no caso de listas\n",
    "    \"\"\"\n",
    "    soma = 0\n",
    "    for i in lista:\n",
    "        if isinstance(i,(int,float)):\n",
    "            soma += i\n",
    "        elif isinstance(i,list):\n",
    "            soma += soma_segura(i)\n",
    "    return soma\n",
    "\n",
    "\n",
    "\n",
    "exemplo = [1, [2, \"texto\", 3], [4, [5, None]], 6]\n",
    "print(soma_segura(exemplo))"
   ]
  },
  {
   "cell_type": "markdown",
   "metadata": {},
   "source": [
    "### Questão 3: Filtro de Arquivo por Expressão (arquivos e lambda)\n",
    "##### Descrição: Escreva uma função filtrar_arquivo(entrada, saida, expressao) que leia um arquivo de texto (entrada), aplique uma função lambda expressao a cada linha e grave no arquivo saida apenas as linhas que retornam True. A função lambda deve ser passada como argumento.\n",
    "Exemplo:\n",
    "- Arquivo entrada.txt: \n",
    "\n",
    "casa 123\n",
    "carro\n",
    "python 456\n",
    "\n",
    "Chamada: filtrar_arquivo(\"entrada.txt\", \"saida.txt\", lambda x: len(x.split()) > 1)\n",
    "\n",
    "- Arquivo saida.txt:\n",
    "\n",
    "casa 123\n",
    "python 456"
   ]
  },
  {
   "cell_type": "code",
   "execution_count": null,
   "metadata": {},
   "outputs": [],
   "source": [
    "import os\n",
    "\n",
    "def filtrar_arquivo(entrada, saida):\n",
    "    \"\"\"\n",
    "    Recebe um arquivo com frases para retornar um arquivo novo, onde somente as linhas com números do original são registradas\n",
    "    \"\"\"\n",
    "    numeros_set = set(\"1234567890\")\n",
    "    with open(entrada, \"r\", encoding=\"utf-8\") as arquivo:\n",
    "        texto = arquivo.read()\n",
    "        numeradas = [n for n in texto.lower().splitlines() if len(set(n) & numeros_set) != 0]\n",
    "    with open(saida, \"w\",encoding=\"utf-8\") as c_num:\n",
    "        for i in numeradas:\n",
    "                c_num.write(i+\"\\n\")\n",
    "\n",
    "\n",
    "pasta = \"C:/Users/Celso.O.C/PycharmProjects/progamation/Exercícios/Exerc-cios-do-grok-IA/arquivos_de_exercicios\"\n",
    "os.makedirs(pasta, exist_ok=True)\n",
    "texto = f\"{pasta}/mal_numerada_30.txt\"\n",
    "criada = f\"{pasta}/so_numerada_30.txt\"\n",
    "with open(texto, \"w\", encoding=\"utf-8\") as arquivo:\n",
    "     arquivo.write(\"casa 123\\ncarro\\npython 456\")\n",
    "filtrar_arquivo(texto, criada)"
   ]
  },
  {
   "cell_type": "code",
   "execution_count": null,
   "metadata": {},
   "outputs": [],
   "source": [
    "import os\n",
    "\n",
    "def filtrar_arquivo(entrada, saida, expressao):\n",
    "    \"\"\"\n",
    "    Recebe um arquivo de entrada, filtra suas linhas com base em uma expressão lambda e grava as linhas filtradas em um arquivo de saída.\n",
    "    \"\"\"\n",
    "    with open(entrada, \"r\", encoding=\"utf-8\") as arquivo:\n",
    "        texto = arquivo.read()\n",
    "        numeradas = [n for n in texto.lower().splitlines() if expressao(n)]\n",
    "    with open(saida, \"w\",encoding=\"utf-8\") as c_num:\n",
    "        for i in numeradas:\n",
    "                c_num.write(i+\"\\n\")\n",
    "\n",
    "\n",
    "pasta = \"C:/Users/Celso.O.C/PycharmProjects/progamation/Exercícios/Exerc-cios-do-grok-IA/arquivos_de_exercicios\"\n",
    "os.makedirs(pasta, exist_ok=True)\n",
    "texto = f\"{pasta}/mal_numerada_30.txt\"\n",
    "criada = f\"{pasta}/so_numerada_30.txt\"\n",
    "with open(texto, \"w\", encoding=\"utf-8\") as arquivo:\n",
    "     arquivo.write(\"casa 123\\ncarro\\npython 456\")\n",
    "filtrar_arquivo(texto, criada, lambda x: len(x.split()) > 1)"
   ]
  },
  {
   "cell_type": "markdown",
   "metadata": {},
   "source": [
    "### Questão 4: Transformação de Dicionário com Sets (set comprehension e funções aninhadas)\n",
    "##### Descrição: Crie uma função transformar_dicionario(dic) que receba um dicionário onde os valores são listas de strings e retorne um novo dicionário onde os valores são sets de palavras com mais de 3 letras, usando set comprehension. Inclua uma função aninhada para filtrar as palavras.\n",
    "Exemplo:\n",
    "- Entrada: {\"a\": [\"casa\", \"sol\", \"carro\"], \"b\": [\"python\", \"oi\", \"code\"]}\n",
    "\n",
    "- Saída: {\"a\": {\"casa\", \"carro\"}, \"b\": {\"python\", \"code\"}}"
   ]
  },
  {
   "cell_type": "code",
   "execution_count": null,
   "metadata": {},
   "outputs": [
    {
     "name": "stdout",
     "output_type": "stream",
     "text": [
      "{'a': {'casa', 'carro'}, 'b': {'code', 'python'}}\n"
     ]
    }
   ],
   "source": [
    "def transformar_dicionario(dicionario):\n",
    "    \"\"\"\n",
    "    Retorna um dicionário onde as palavras nas chaves possuem mais de três letras\n",
    "    \"\"\"\n",
    "    return {v: set(n for n in dicionario[v] if len(n) > 3) for v in dicionario}\n",
    "\n",
    "\n",
    "exemplo = {\"a\": [\"casa\", \"sol\", \"carro\"], \"b\": [\"python\", \"oi\", \"code\"]}\n",
    "print(transformar_dicionario(exemplo))"
   ]
  },
  {
   "cell_type": "markdown",
   "metadata": {},
   "source": [
    "### Questão 5: Tuplas com Maior Frequência (list comprehension e Counter)\n",
    "##### Descrição: Escreva uma função maior_frequencia(tuplas) que receba uma lista de tuplas e retorne uma lista com as tuplas cujos elementos têm a maior frequência entre todas as tuplas, usando list comprehension e Counter. Se houver empate, retorne todas.\n",
    "Exemplo:\n",
    "- Entrada: [(1, 2), (2, 3), (1, 2), (3, 4)]\n",
    "\n",
    "- Saída: [(1, 2), (1, 2)]\n",
    "Frequências: 1 aparece 2x, 2 aparece 3x, 3 aparece 2x, 4 aparece 1x; (1, 2) é a tupla mais frequente."
   ]
  },
  {
   "cell_type": "code",
   "execution_count": 64,
   "metadata": {},
   "outputs": [
    {
     "name": "stdout",
     "output_type": "stream",
     "text": [
      "[(1, 2), (1, 2)]\n"
     ]
    }
   ],
   "source": [
    "from collections import Counter\n",
    "\n",
    "def maior_frequencia(tuplas):\n",
    "    \"\"\"\n",
    "    Retorna uma lista com as tuplas da lista que mais se repetem\n",
    "    \"\"\"\n",
    "    repeticoes = (Counter(tuplas))\n",
    "    return [n for n in tuplas if repeticoes[n] == max(repeticoes.values())]\n",
    "\n",
    "\n",
    "exemplo = [(1, 2), (2, 3), (1, 2), (3, 4)]\n",
    "print(maior_frequencia(exemplo))"
   ]
  }
 ],
 "metadata": {
  "kernelspec": {
   "display_name": "Python 3",
   "language": "python",
   "name": "python3"
  },
  "language_info": {
   "codemirror_mode": {
    "name": "ipython",
    "version": 3
   },
   "file_extension": ".py",
   "mimetype": "text/x-python",
   "name": "python",
   "nbconvert_exporter": "python",
   "pygments_lexer": "ipython3",
   "version": "3.11.4"
  }
 },
 "nbformat": 4,
 "nbformat_minor": 2
}
