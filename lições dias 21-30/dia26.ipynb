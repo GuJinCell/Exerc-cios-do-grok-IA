{
 "cells": [
  {
   "cell_type": "markdown",
   "metadata": {},
   "source": [
    "### Questão 1: Filtro de Palavras por Comprimento (com dict comprehension)\n",
    "##### Escreva uma função filtro_comprimento(lista_palavras, minimo) que receba uma lista de strings e um inteiro minimo, e retorne um dicionário onde as chaves são as palavras com comprimento maior ou igual a minimo e os valores são seus comprimentos. Use dict comprehension. Exemplo:\n",
    "- Entrada: [\"gato\", \"cão\", \"ratos\", \"sol\"], 4  \n",
    "\n",
    "- Saída: {\"gato\": 4, \"ratos\": 5}  \n",
    "\"cão\" (3) e \"sol\" (3) são excluídos por terem menos de 4 letras.\n",
    "\n"
   ]
  },
  {
   "cell_type": "code",
   "execution_count": null,
   "metadata": {},
   "outputs": [
    {
     "name": "stdout",
     "output_type": "stream",
     "text": [
      "{'gato': 4, 'ratos': 5}\n"
     ]
    }
   ],
   "source": [
    "def filtro_comprimento(palavras, minimo):\n",
    "    \"\"\"\n",
    "    Retorna um dicionário com palavras de comprimento >= minimo e seus tamanhos.\n",
    "    \"\"\"\n",
    "    tamanho = {}\n",
    "    for i in palavras:\n",
    "        if len(i) >= minimo:\n",
    "            tamanho[i] = len(i)\n",
    "    return tamanho\n",
    "\n",
    "\n",
    "exemplo, mnm = [\"gato\", \"cão\", \"ratos\", \"sol\"], 4\n",
    "print(filtro_comprimento(exemplo,mnm))"
   ]
  },
  {
   "cell_type": "code",
   "execution_count": null,
   "metadata": {},
   "outputs": [
    {
     "name": "stdout",
     "output_type": "stream",
     "text": [
      "{'gato': 4, 'ratos': 5}\n"
     ]
    }
   ],
   "source": [
    "def filtro_comprimento(palavras, minimo):\n",
    "    \"\"\"\n",
    "    Retorna um dicionário com palavras de comprimento >= minimo e seus tamanhos.\n",
    "    \"\"\"\n",
    "    return {plv:len(plv) for plv in palavras if len(plv) >= minimo}\n",
    "\n",
    "\n",
    "exemplo, mnm = [\"gato\", \"cão\", \"ratos\", \"sol\"], 4\n",
    "print(filtro_comprimento(exemplo,mnm))"
   ]
  },
  {
   "cell_type": "markdown",
   "metadata": {},
   "source": [
    "### Questão 2: Números Divisíveis com Exceção (try-except)\n",
    "##### Escreva uma função divisiveis(lista, divisor) que receba uma lista de números e um divisor, e retorne uma lista com os números divisíveis pelo divisor (resto zero). Se o divisor for zero, levante uma exceção ZeroDivisionError com a mensagem \"Divisão por zero não permitida\". Use try-except. Exemplo:\n",
    "- Entrada: [10, 15, 20, 25], 5 → Saída: [10, 15, 20, 25] (todos divisíveis por 5)  \n",
    "\n",
    "- Entrada: [1, 2, 3, 4], 0 → Levanta ZeroDivisionError: Divisão por zero não permitida\n",
    "\n"
   ]
  },
  {
   "cell_type": "code",
   "execution_count": 38,
   "metadata": {},
   "outputs": [
    {
     "name": "stdout",
     "output_type": "stream",
     "text": [
      "[10, 15, 20, 25]\n",
      "Divisão por zero não permitida\n"
     ]
    }
   ],
   "source": [
    "def divisiveis(lista, divisor):\n",
    "    \"\"\"\n",
    "    Retorna uma lista de números divisíveis pelo divisor. Levanta ZeroDivisionError se divisor for zero.\n",
    "    \"\"\"\n",
    "    if divisor ==0:\n",
    "        raise ZeroDivisionError(\"Divisão por zero não permitida\")\n",
    "    return [i for i in lista if i%divisor == 0]\n",
    "\n",
    "\n",
    "\n",
    "try:\n",
    "    print(divisiveis([10, 15, 20, 25],5))\n",
    "    print(divisiveis([1, 2, 3, 4], 0))\n",
    "except ZeroDivisionError as e:\n",
    "    print(e)"
   ]
  },
  {
   "cell_type": "markdown",
   "metadata": {},
   "source": [
    "### Questão 3: Contagem de Palavras em Arquivo (com manipulação de erros)\n",
    "##### Crie uma função contar_palavras(caminho) que leia um arquivo de texto e retorne um dicionário com a frequência de cada palavra (separadas por espaços). Se o arquivo não existir, levante uma exceção FileNotFoundError com a mensagem \"Arquivo não encontrado\". Ignore pontuação e converta tudo para minúsculas. Exemplo:\n",
    "- Arquivo de entrada:\n",
    "\n",
    "Olá mundo, olá Python!\n",
    "Python é legal.\n",
    "\n",
    "- Saída: {\"olá\": 2, \"mundo\": 1, \"python\": 2, \"é\": 1, \"legal\": 1}\n",
    "\n"
   ]
  },
  {
   "cell_type": "code",
   "execution_count": null,
   "metadata": {},
   "outputs": [
    {
     "name": "stdout",
     "output_type": "stream",
     "text": [
      "{'olá': 2, 'mundo': 1, 'python': 2, 'é': 1, 'legal': 1}\n"
     ]
    }
   ],
   "source": [
    "import os\n",
    "from collections import Counter\n",
    "\n",
    "def contar_palavras(caminho):\n",
    "    \"\"\"\n",
    "    Retorna um dicionário com a frequência de palavras em um arquivo, sem pontuação e em minúsculas.\n",
    "    Levanta FileNotFoundError se o arquivo não existir.\n",
    "    \"\"\"\n",
    "    try:\n",
    "        with open(caminho,\"r\",encoding=\"utf-8\") as arquivo:\n",
    "            frases = arquivo.read()\n",
    "            palavras = [i.strip(\".,?!\").lower()for i in frases.split()]\n",
    "            contador = Counter(palavras)\n",
    "        return dict(contador)\n",
    "    except FileNotFoundError:\n",
    "        raise FileNotFoundError(\"Arquivo não encontrado\")\n",
    "\n",
    "\n",
    "pasta = \"C:/Users/Celso.O.C/PycharmProjects/progamation/Exercícios/Exerc-cios-do-grok-IA/arquivos_de_exercicios\"\n",
    "os.makedirs(pasta, exist_ok=True)\n",
    "entrada = f\"{pasta}/frase_para_dic_26.txt\"\n",
    "with open(entrada,\"w\",encoding=\"utf-8\")as arquivo:\n",
    "    arquivo.write(\"Olá mundo, olá Python!\\nPython é legal.\")\n",
    "print(contar_palavras(entrada))\n",
    "\n"
   ]
  },
  {
   "cell_type": "markdown",
   "metadata": {},
   "source": [
    "### Questão 4: Função Aninhada para Soma Condicional\n",
    "##### Escreva uma função soma_condicional(lista) que use uma função interna (aninhada) para somar apenas os números pares de uma lista. A função interna deve se chamar somar_pares e receber a lista como argumento. Exemplo:\n",
    "- Entrada: [1, 2, 3, 4, 5, 6] → Saída: 12 (2 + 4 + 6)  \n",
    "\n",
    "- Entrada: [1, 3, 5] → Saída: 0 (sem pares)\n",
    "\n"
   ]
  },
  {
   "cell_type": "code",
   "execution_count": null,
   "metadata": {},
   "outputs": [
    {
     "name": "stdout",
     "output_type": "stream",
     "text": [
      "12\n"
     ]
    }
   ],
   "source": [
    "def soma_condicional(lista):\n",
    "    \"\"\"\n",
    "    Aninha a função para somar pares na lista\n",
    "    \"\"\"\n",
    "    def somar_pares(ordem):\n",
    "        \"\"\"\n",
    "        Soma os pares na lista\n",
    "        \"\"\"\n",
    "        pares = [n for n in ordem if n%2 == 0]\n",
    "        return sum(pares)\n",
    "    return somar_pares(lista)\n",
    "    \n",
    "\n",
    "exemplo=[1, 2, 3, 4, 5, 6]\n",
    "print(soma_condicional(exemplo))"
   ]
  },
  {
   "cell_type": "markdown",
   "metadata": {},
   "source": [
    "### Questão 5: Tuplas com Máximo Relativo (list comprehension e max)\n",
    "##### Escreva uma função max_relativo(tuplas) que receba uma lista de tuplas de dois inteiros e retorne uma lista com as tuplas onde o maior elemento é maior que a média dos maiores elementos de todas as tuplas. Use list comprehension. Exemplo:\n",
    "- Entrada: [(1, 4), (2, 3), (5, 2)]  \n",
    "\n",
    "- Saída: [(1, 4), (5, 2)]  \n",
    "Máximos: 4, 3, 5 → Média: (4 + 3 + 5) / 3 = 4 → Tuplas com máximo > 4: (5, 2).\n",
    "\n"
   ]
  },
  {
   "cell_type": "code",
   "execution_count": null,
   "metadata": {},
   "outputs": [
    {
     "name": "stdout",
     "output_type": "stream",
     "text": [
      "[(5, 2)]\n"
     ]
    }
   ],
   "source": [
    "def max_relativo(tuplas):\n",
    "    \"\"\"\n",
    "    Retorna tuplas cujo maior elemento é maior que a média dos maiores elementos.\n",
    "    \"\"\"\n",
    "    maiores = [max(i) for i in tuplas]\n",
    "    media = sum(maiores)/len(maiores)\n",
    "    maior_q_media = [m for m in tuplas if max(m) > media]\n",
    "    return maior_q_media\n",
    "\n",
    "\n",
    "\n",
    "exemplo = [(1, 4), (2, 3), (5, 2)]  \n",
    "print(max_relativo(exemplo))\n",
    "    "
   ]
  }
 ],
 "metadata": {
  "kernelspec": {
   "display_name": "Python 3",
   "language": "python",
   "name": "python3"
  },
  "language_info": {
   "codemirror_mode": {
    "name": "ipython",
    "version": 3
   },
   "file_extension": ".py",
   "mimetype": "text/x-python",
   "name": "python",
   "nbconvert_exporter": "python",
   "pygments_lexer": "ipython3",
   "version": "3.11.4"
  }
 },
 "nbformat": 4,
 "nbformat_minor": 2
}
