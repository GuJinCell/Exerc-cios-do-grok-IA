{
 "cells": [
  {
   "cell_type": "markdown",
   "id": "c2cc452b",
   "metadata": {},
   "source": [
    "### Questão 1: Inversão Recursiva de Substrings\n",
    "##### Descrição: Escreva uma função recursiva inverter_substrings(texto, tamanho) que receba uma string e um inteiro tamanho. Divida o texto em substrings de comprimento tamanho e inverta cada uma delas, concatenando o resultado. Use recursão, sem loops. Se o último substring for menor que tamanho, inverta-o também.\n",
    "Exemplo:\n",
    "- Entrada: \"abcdefg\", 3\n",
    "\n",
    "- Saída: \"cbafedg\"\n",
    "\"abc\" → \"cba\", \"def\" → \"fed\", \"g\" → \"g\".\n",
    "\n"
   ]
  },
  {
   "cell_type": "code",
   "execution_count": null,
   "id": "ceb99fba",
   "metadata": {},
   "outputs": [
    {
     "name": "stdout",
     "output_type": "stream",
     "text": [
      "cbafedg\n"
     ]
    }
   ],
   "source": [
    "def inverter_substrings(texto, tamanho):\n",
    "    \"\"\"\n",
    "    Inverte substrings de um texto com base em um tamanho especificado, usando recursão.\n",
    "    \n",
    "    Args:\n",
    "        texto (str): String a ser dividida e invertida.\n",
    "        tamanho (int): Tamanho dos blocos a serem invertidos.\n",
    "    Returns:\n",
    "        str: Texto com substrings invertidas.\n",
    "    \"\"\"\n",
    "    if not texto:\n",
    "        return \"\"\n",
    "    resto = texto[(tamanho):]\n",
    "    parte = texto[:(tamanho)]\n",
    "    return (parte[::-1] + (inverter_substrings(resto,tamanho)))\n",
    "\n",
    "\n",
    "exemplo, tmh = \"abcdefg\", 3\n",
    "print(inverter_substrings(exemplo,tmh))"
   ]
  },
  {
   "cell_type": "markdown",
   "id": "afae1078",
   "metadata": {},
   "source": [
    "### Questão 2: Dicionário de Diferenças com Dict Comprehension\n",
    "##### Descrição: Crie uma função diferencas_pares(lista) que receba uma lista de inteiros e retorne um dicionário onde as chaves são índices de números pares e os valores são a diferença entre o número par e o próximo número par na lista (ou 0 se for o último par), usando dict comprehension.\n",
    "Exemplo:\n",
    "- Entrada: [1, 2, 3, 4, 5, 6]\n",
    "\n",
    "- Saída: {1: 2, 3: 2, 5: 0}\n",
    "2 (índice 1) → 4 - 2 = 2, 4 (índice 3) → 6 - 4 = 2, 6 (índice 5) → 0 (último)."
   ]
  },
  {
   "cell_type": "code",
   "execution_count": null,
   "id": "89cdefe2",
   "metadata": {},
   "outputs": [
    {
     "name": "stdout",
     "output_type": "stream",
     "text": [
      "{1: 2, 3: 2, 5: 0}\n"
     ]
    }
   ],
   "source": [
    "def diferencas_pares(lista):\n",
    "    \"\"\"\n",
    "    Cria um dicionário com índices de números pares e a diferença para o próximo par (ou 0 se último).\n",
    "    \n",
    "    Args:\n",
    "        lista (list): Lista de inteiros.\n",
    "    Returns:\n",
    "        dict: Dicionário com índices e diferenças.\n",
    "    \"\"\"\n",
    "    pares_dif = [(i,x) for i,x in enumerate(lista) if x%2 == 0]\n",
    "    return {i: (pares_dif[k+1][1] - x if k+1 <len(pares_dif) else 0)for k, (i,x)in enumerate(pares_dif)}\n",
    "\n",
    "\n",
    "exemplo = [1, 2, 3, 4, 5, 6]\n",
    "print(diferencas_pares(exemplo))"
   ]
  },
  {
   "cell_type": "markdown",
   "id": "e0130e2d",
   "metadata": {},
   "source": [
    "### Questão 3: Transformação de Arquivo com Filtro de Palavras\n",
    "##### Descrição: Escreva uma função filtrar_palavras_arquivo(entrada, saida, condicao) que leia um arquivo (entrada), filtre as palavras em cada linha com base em uma função condicao (ex.: lambda), e grave as linhas filtradas em saida. Use try-except para erros de arquivo.\n",
    "Exemplo:\n",
    "- Arquivo entrada.txt: \n",
    "\n",
    "casa carro sol\n",
    "python java code\n",
    "\n",
    "Chamada: filtrar_palavras_arquivo(\"entrada.txt\", \"saida.txt\", lambda x: len(x) > 4)\n",
    "\n",
    "- Arquivo saida.txt:\n",
    "\n",
    "carro\n",
    "python"
   ]
  },
  {
   "cell_type": "code",
   "execution_count": null,
   "id": "b0d2083b",
   "metadata": {},
   "outputs": [],
   "source": [
    "import os\n",
    "\n",
    "def filtra_palavras_arquivo(entrada,saida,condicao):\n",
    "    \"\"\"\n",
    "    Filtra palavras de um arquivo com base em uma condição e grava as linhas filtradas.\n",
    "    \n",
    "    Args:\n",
    "        entrada (str): Caminho do arquivo de entrada.\n",
    "        saida (str): Caminho do arquivo de saída.\n",
    "        condicao (function): Função que retorna True para palavras a manter.\n",
    "    Raises:\n",
    "        FileNotFoundError: Se o arquivo não existir.\n",
    "    \"\"\"\n",
    "    try:\n",
    "        with open(entrada,\"r\",encoding=\"utf-8\")as arquivo:\n",
    "            texto = arquivo.read().splitlines()\n",
    "        with open(saida,\"w\",encoding=\"utf-8\") as filtrada:\n",
    "            for i in texto:\n",
    "                palavra = [p for p in i.split() if condicao(p)]\n",
    "                if palavra:\n",
    "                    filtrada.write(\" \".join(palavra)+\"\\n\")\n",
    "    except FileNotFoundError:\n",
    "        raise FileNotFoundError(\"Arquivo não encontrado\")\n",
    "\n",
    "pasta =\"C:/Users/Celso.O.C/PycharmProjects/progamation/Exercícios/Exerc-cios-do-grok-IA/arquivos_de_exercicios\"\n",
    "os.makedirs(pasta,exist_ok=True)\n",
    "entrada = f\"{pasta}/suja_34.txt\"\n",
    "saida = f\"{pasta}/filtrada_34.txt\"\n",
    "with open(entrada,\"w\",encoding=\"utf-8\") as arquivo:\n",
    "    arquivo.write(\"casa carro sol\\npython java code\")\n",
    "filtra_palavras_arquivo(entrada,saida,lambda x: len(x) > 4)"
   ]
  },
  {
   "cell_type": "markdown",
   "id": "4fb05883",
   "metadata": {},
   "source": [
    "### Questão 4: Contagem Recursiva de Números em Estrutura Aninhada\n",
    "##### Descrição: Crie uma função contar_numeros(estrutura) que receba uma estrutura aninhada (lista, tupla ou dicionário) e retorne a quantidade total de números (int ou float) presentes, usando recursão.\n",
    "Exemplo:\n",
    "- Entrada: [1, (2, 3), {\"a\": 4, \"b\": [5, 6.5]}]\n",
    "\n",
    "- Saída: 6\n",
    "Números: 1, 2, 3, 4, 5, 6.5.\n",
    "\n"
   ]
  },
  {
   "cell_type": "code",
   "execution_count": null,
   "id": "cfa14ad4",
   "metadata": {},
   "outputs": [
    {
     "name": "stdout",
     "output_type": "stream",
     "text": [
      "6\n"
     ]
    }
   ],
   "source": [
    "def contar_numeros(estrutura):\n",
    "     \"\"\"\n",
    "    Conta o total de números (int ou float) em uma estrutura aninhada usando recursão.\n",
    "    \n",
    "    Args:\n",
    "        estrutura: Estrutura aninhada (lista, tupla ou dicionário).\n",
    "    Returns:\n",
    "        int: Quantidade total de números encontrados.\n",
    "    \"\"\"\n",
    "     def aninhada(item):\n",
    "          if isinstance(item,(int,float)):\n",
    "               return 1\n",
    "          elif isinstance(item,(list,tuple)):\n",
    "               return sum(aninhada(n) for n in item)\n",
    "          elif isinstance(item,dict):\n",
    "               return sum(aninhada(n) for n in item.values())\n",
    "          else:\n",
    "               return 0\n",
    "     return aninhada(estrutura)\n",
    "\n",
    "\n",
    "\n",
    "exemplo = [1, (2, 3), {\"a\": 4, \"b\": [5, 6.5]}]\n",
    "print(contar_numeros(exemplo))"
   ]
  },
  {
   "cell_type": "markdown",
   "id": "badf4af0",
   "metadata": {},
   "source": [
    "### Questão 5: Agrupamento de Palavras por Comprimento em Arquivo\n",
    "##### Descrição: Escreva uma função agrupar_por_tamanho(entrada, saida) que leia um arquivo (entrada), agrupe as palavras por comprimento em um dicionário (chave: tamanho, valor: lista de palavras), e grave o resultado em saida no formato \"tamanho: palavra1, palavra2, ...\". Use try-except e Counter para contar ocorrências únicas.\n",
    "Exemplo:\n",
    "- Arquivo entrada.txt: \n",
    "\n",
    "casa sol carro\n",
    "lua code python\n",
    "\n",
    "- Arquivo saida.txt:\n",
    "\n",
    "3: sol, lua\n",
    "4: casa, code\n",
    "5: carro\n",
    "6: python"
   ]
  },
  {
   "cell_type": "code",
   "execution_count": null,
   "id": "8ef9c4f1",
   "metadata": {},
   "outputs": [],
   "source": [
    "import os\n",
    "\n",
    "def agrupar_por_tamanho(entrada, saida):\n",
    "    \"\"\"\n",
    "    Agrupa palavras de um arquivo por comprimento e grava o resultado em outro arquivo.\n",
    "    \n",
    "    Args:\n",
    "        entrada (str): Caminho do arquivo de entrada.\n",
    "        saida (str): Caminho do arquivo de saída.\n",
    "    Raises:\n",
    "        FileNotFoundError: Se o arquivo não existir.\n",
    "    \"\"\"\n",
    "    try:\n",
    "        with open(entrada,\"r\",encoding=\"utf-8\")as arquivo:\n",
    "            texto = arquivo.read().split()\n",
    "        dicionario = {t: sorted(set(p for p in texto if len(p) == t)) for t in set(len(p) for p in texto)}\n",
    "        with open(saida,\"w\",encoding=\"utf-8\") as aninhada:\n",
    "            for t,p in sorted(dicionario.items()):\n",
    "                aninhada.write(f\"{t}:{', '.join(p)}\\n\")\n",
    "                    \n",
    "    except FileNotFoundError:\n",
    "        raise FileNotFoundError(\"Arquivo não encontrado\")\n",
    "\n",
    "pasta =\"C:/Users/Celso.O.C/PycharmProjects/progamation/Exercícios/Exerc-cios-do-grok-IA/arquivos_de_exercicios\"\n",
    "os.makedirs(pasta,exist_ok=True)\n",
    "entrada = f\"{pasta}/comprimento_34.txt\"\n",
    "saida = f\"{pasta}/compri_aninhado_34.txt\"\n",
    "with open(entrada,\"w\",encoding=\"utf-8\") as arquivo:\n",
    "    arquivo.write(\"casa sol carro\\nlua code python\")\n",
    "agrupar_por_tamanho(entrada,saida)"
   ]
  }
 ],
 "metadata": {
  "kernelspec": {
   "display_name": "Python 3",
   "language": "python",
   "name": "python3"
  },
  "language_info": {
   "codemirror_mode": {
    "name": "ipython",
    "version": 3
   },
   "file_extension": ".py",
   "mimetype": "text/x-python",
   "name": "python",
   "nbconvert_exporter": "python",
   "pygments_lexer": "ipython3",
   "version": "3.11.4"
  }
 },
 "nbformat": 4,
 "nbformat_minor": 5
}
