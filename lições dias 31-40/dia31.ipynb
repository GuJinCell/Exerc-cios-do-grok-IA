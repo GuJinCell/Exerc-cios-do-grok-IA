{
 "cells": [
  {
   "cell_type": "markdown",
   "metadata": {},
   "source": [
    "### Questão 1: Substituição Recursiva em String\n",
    "##### Descrição: Escreva uma função recursiva substituir_recursivo(texto, antigo, novo) que substitua todas as ocorrências de antigo por novo em texto. Não use o método .replace(); implemente a substituição manualmente com recursão.\n",
    "Exemplo:\n",
    "- Entrada: \"banana\", \"ana\", \"xyz\"\n",
    "\n",
    "- Saída: \"bxyzna\"\n",
    "- Primeira chamada: substitui \"ana\" por \"xyz\" → \"bxyzna\".\n",
    "\n",
    "Não há mais \"ana\" para substituir."
   ]
  },
  {
   "cell_type": "code",
   "execution_count": null,
   "metadata": {},
   "outputs": [
    {
     "name": "stdout",
     "output_type": "stream",
     "text": [
      "bxyzna\n"
     ]
    }
   ],
   "source": [
    "def substituir_recursivo(txt, ant, nov):\n",
    "    \"\"\"\n",
    "    Substitui todas as ocorrências de 'ant' por 'nov' em 'txt' usando recursão, sem usar .replace().\n",
    "    \n",
    "    Args:\n",
    "        txt (str): Texto original.\n",
    "        ant (str): Substring a ser substituída.\n",
    "        nov (str): Nova substring a inserir.\n",
    "    Returns:\n",
    "        str: Texto com todas as substituições realizadas.\n",
    "    \"\"\"\n",
    "    if len(txt) < len(ant):\n",
    "        return txt\n",
    "    if txt.startswith(ant):\n",
    "        return nov + substituir_recursivo(txt[len(ant):],ant,nov)\n",
    "    return txt[0] + substituir_recursivo(txt[1:], ant, nov)\n",
    "\n",
    "\n",
    "original = \"banana\"\n",
    "velha = \"ana\"\n",
    "nova = \"xyz\"\n",
    "print(substituir_recursivo(original,velha,nova))"
   ]
  },
  {
   "cell_type": "markdown",
   "metadata": {},
   "source": [
    "### Questão 2: Agrupamento de Números por Divisores (dict comprehension)\n",
    "##### Descrição: Crie uma função agrupar_divisores(lista) que receba uma lista de inteiros positivos e retorne um dicionário onde as chaves são números de divisores (ex.: 2, 3, 4) e os valores são listas dos números da entrada com essa quantidade de divisores. Use dict comprehension.\n",
    "Exemplo:\n",
    "- Entrada: [4, 6, 8, 9]\n",
    "\n",
    "- Saída: `{2: [9], 3: [4, 6], 4: [8]}`\n",
    "    - 4: divisores [1, 2, 4] (3 divisores).\n",
    "    - 6: divisores [1, 2, 3, 6] (4 divisores).\n",
    "    - 8: divisores [1, 2, 4, 8] (4 divisores).\n",
    "    - 9: divisores [1, 3, 9] (3 divisores)."
   ]
  },
  {
   "cell_type": "code",
   "execution_count": null,
   "metadata": {},
   "outputs": [
    {
     "name": "stdout",
     "output_type": "stream",
     "text": [
      "{9: [100], 3: [4, 9], 4: [6, 8, 10]}\n"
     ]
    }
   ],
   "source": [
    "def contador_de_divisores(n):\n",
    "    \"\"\"Retorna o número de divisores de um inteiro positivo.\"\"\"\n",
    "    return sum(1 for i in range(1,n+1) if n%i == 0)\n",
    "\n",
    "def agrupar_divisores(lista):\n",
    "    \"\"\"\n",
    "    Agrupa números de uma lista pelo número de divisores usando dict comprehension.\n",
    "    \n",
    "    Args:\n",
    "        lista (list): Lista de inteiros positivos.\n",
    "    Returns:\n",
    "        dict: Chaves são quantidades de divisores, valores são listas de números com essa quantidade.\n",
    "    \"\"\"\n",
    "    return {n_div : [n for n in lista if contador_de_divisores(n)==n_div] for n_div in set(contador_de_divisores(n) for n in lista)}\n",
    "\n",
    "\n",
    "exemplo = [4, 6, 8, 9]\n",
    "print(agrupar_divisores(exemplo))"
   ]
  },
  {
   "cell_type": "markdown",
   "metadata": {},
   "source": [
    "### Questão 3: Filtro de Arquivo com Contagem (arquivos e try-except)\n",
    "##### Descrição: Escreva uma função contar_em_arquivo(entrada, saida, palavra) que leia um arquivo de texto (entrada), conte quantas vezes a palavra aparece em cada linha (case-insensitive) e grave em saida apenas as linhas onde a palavra aparece pelo menos uma vez, no formato \"linha: contagem\". Use try-except para lidar com arquivo inexistente.\n",
    "Exemplo:\n",
    "- Arquivo entrada.txt: \n",
    "\n",
    "casa e carro\n",
    "carro na rua\n",
    "sol\n",
    "\n",
    "Chamada: contar_em_arquivo(\"entrada.txt\", \"saida.txt\", \"carro\")\n",
    "\n",
    "- Arquivo saida.txt:\n",
    "\n",
    "casa e carro: 1\n",
    "carro na rua: 1"
   ]
  },
  {
   "cell_type": "code",
   "execution_count": null,
   "metadata": {},
   "outputs": [],
   "source": [
    "import os\n",
    "\n",
    "def contar_em_arquivo(entrada,saida,palavra):\n",
    "    \"\"\"\n",
    "    Lê um arquivo, conta ocorrências de uma palavra em cada linha (case-insensitive) e grava\n",
    "    as linhas com pelo menos uma ocorrência no formato 'linha: contagem' em outro arquivo.\n",
    "    \n",
    "    Args:\n",
    "        entrada (str): Caminho do arquivo de entrada.\n",
    "        saida (str): Caminho do arquivo de saída.\n",
    "        palavra (str): Palavra a ser contada.\n",
    "    Raises:\n",
    "        FileNotFoundError: Se o arquivo de entrada não existir.\n",
    "    \"\"\"\n",
    "    try:\n",
    "        with open(entrada,\"r\",encoding=\"utf-8\") as arquivo:\n",
    "            texto = arquivo.read()\n",
    "        with open(saida,\"w\",encoding=\"utf-8\") as com_plv:\n",
    "            for frase in texto.split(\"\\n\"):\n",
    "                if frase.lower().count(palavra.lower()) >= 1:\n",
    "                    com_plv.write(f\"{frase}:{frase.lower().count(palavra.lower())}\\n\")\n",
    "\n",
    "    except FileNotFoundError:\n",
    "        raise FileNotFoundError(\"Arquivo não encontrado\")\n",
    "    \n",
    "pasta = \"C:/Users/celsi/.vscode/codigos/Exerc-cios-do-grok-IA/arquivos_de_exercicios\"\n",
    "os.makedirs(pasta,exist_ok=True)\n",
    "entrada = f\"{pasta}/entrada_31.txt\"\n",
    "saida = f\"{pasta}/saida_31.txt\"\n",
    "with open(entrada, \"w\", encoding=\"utf-8\") as arquivo:\n",
    "    arquivo.write(\"casa e carro\\ncarro na rua\\nsol\")\n",
    "contar_em_arquivo(entrada,saida,\"carro\")"
   ]
  },
  {
   "cell_type": "markdown",
   "metadata": {},
   "source": [
    "### Questão 4: Interseção de Listas com Lambda (list comprehension e lambda)\n",
    "##### Descrição: Crie uma função intersecao_condicional(listas, condicao) que receba uma lista de listas e uma função lambda condicao. Retorne uma lista com os elementos comuns a todas as listas que satisfazem a condição, usando list comprehension.\n",
    "Exemplo:\n",
    "- Entrada: [[1, 2, 3, 4], [2, 4, 6], [2, 4, 8]], lambda x: x % 2 == 0\n",
    "\n",
    "- Saída: [2, 4]\n",
    "- Interseção: [2, 4] (comuns às três listas).\n",
    "\n",
    "- Condição: pares → [2, 4]."
   ]
  },
  {
   "cell_type": "code",
   "execution_count": null,
   "metadata": {},
   "outputs": [
    {
     "name": "stdout",
     "output_type": "stream",
     "text": [
      "[2, 4, 6]\n"
     ]
    }
   ],
   "source": [
    "def intersecao_condicional(lista,condicao):\n",
    "    \"\"\"\n",
    "    Retorna a interseção de listas filtrada por uma condição lambda usando list comprehension.\n",
    "    \n",
    "    Args:\n",
    "        lista (list): Lista de listas de elementos.\n",
    "        condicao (function): Função lambda que define o critério de filtro.\n",
    "    Returns:\n",
    "        list: Elementos comuns a todas as listas que satisfazem a condição.\n",
    "    \"\"\"\n",
    "    intersecao = set.intersection(*map(set,lista))\n",
    "    return [n for n in intersecao if condicao(n)]\n",
    "\n",
    "\n",
    "exemplo, equacao = [[1, 2, 3, 4], [2, 4, 6], [2, 4, 8]], lambda x: x % 2 == 0\n",
    "print(intersecao_condicional(exemplo,equacao))"
   ]
  },
  {
   "cell_type": "markdown",
   "metadata": {},
   "source": [
    "### Questão 5: Tuplas Ordenadas por Soma Recursiva (recursão e sorted)\n",
    "##### Descrição: Escreva uma função ordenar_por_soma(tuplas) que receba uma lista de tuplas possivelmente aninhadas e retorne uma lista ordenada pelo resultado da soma dos elementos de cada tupla, calculada por uma função recursiva interna soma_tupla. Use sorted com uma key.\n",
    "Exemplo:\n",
    "- Entrada: [(1, 2), (3, (4, 5)), (2, 1)]\n",
    "\n",
    "- Saída: [(2, 1), (1, 2), (3, (4, 5))]\n",
    "- Somas: (2, 1) → 3, (1, 2) → 3, (3, (4, 5)) → 12 (3 + 4 + 5)."
   ]
  },
  {
   "cell_type": "code",
   "execution_count": null,
   "metadata": {},
   "outputs": [
    {
     "name": "stdout",
     "output_type": "stream",
     "text": [
      "[(1, 2), (2, 1), (3, (4, 5))]\n"
     ]
    }
   ],
   "source": [
    "def ordenar_por_soma(tuplas):\n",
    "    \"\"\"\n",
    "    Ordena uma lista de tuplas (possivelmente aninhadas) pela soma de seus elementos usando recursão.\n",
    "    \n",
    "    Args:\n",
    "        tuplas (list): Lista de tuplas com números ou tuplas aninhadas.\n",
    "    Returns:\n",
    "        list: Tuplas ordenadas pela soma dos elementos.\n",
    "    \"\"\"\n",
    "    def soma_tupla(t):\n",
    "        \"\"\"Calcula a soma recursiva dos elementos de uma tupla aninhada.\"\"\"\n",
    "        total = 0\n",
    "        for n in t:\n",
    "            if isinstance(n,(int,float)):\n",
    "                total += n\n",
    "            if isinstance(n,tuple):\n",
    "                total+= soma_tupla(n)\n",
    "        return total\n",
    "    \n",
    "    return sorted(tuplas, key=soma_tupla)\n",
    "\n",
    "exemplo =  [(1, 2), (3, (4, 5)), (2, 1)]\n",
    "print(ordenar_por_soma(exemplo))"
   ]
  }
 ],
 "metadata": {
  "kernelspec": {
   "display_name": "Python 3",
   "language": "python",
   "name": "python3"
  },
  "language_info": {
   "codemirror_mode": {
    "name": "ipython",
    "version": 3
   },
   "file_extension": ".py",
   "mimetype": "text/x-python",
   "name": "python",
   "nbconvert_exporter": "python",
   "pygments_lexer": "ipython3",
   "version": "3.13.1"
  }
 },
 "nbformat": 4,
 "nbformat_minor": 2
}
