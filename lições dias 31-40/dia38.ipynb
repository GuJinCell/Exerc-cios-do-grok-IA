{
 "cells": [
  {
   "cell_type": "markdown",
   "id": "9584e251",
   "metadata": {},
   "source": [
    "### Questão 1: Contagem de Palavras por Tamanho\n",
    "##### Enunciado: Escreva uma função contar_por_tamanho(texto) que recebe uma string e retorna um dicionário onde as chaves são tamanhos de palavras (número de caracteres) e os valores são listas com as palavras desse tamanho, em ordem alfabética. Ignore pontuações e trate maiúsculas/minúsculas como iguais. Levante ValueError se a string for vazia após remover pontuações.  \n",
    "Exemplo:\n",
    "- Entrada: \"Casa, sol! Lua casa.\"\n",
    "\n",
    "- Saída: {3: ['lua', 'sol'], 4: ['casa']}\n",
    "\n",
    "- Restrições:\n",
    "Use dicionários e listas.\n",
    "\n",
    "Não use bibliotecas externas (ex.: re).\n",
    "\n",
    "ValueError se todas as palavras forem vazias após remover pontuações (ex.: \",.!\").\n",
    "\n",
    "Loops permitidos.\n",
    "\n",
    "- Dica: Use str.isalpha() para filtrar letras e str.lower() para padronizar."
   ]
  },
  {
   "cell_type": "code",
   "execution_count": null,
   "id": "937df307",
   "metadata": {
    "vscode": {
     "languageId": "plaintext"
    }
   },
   "outputs": [],
   "source": []
  },
  {
   "cell_type": "markdown",
   "id": "d3ce8f21",
   "metadata": {},
   "source": [
    "### Questão 2: Mesclar Arquivos de Texto\n",
    "##### Enunciado: Escreva uma função mesclar_arquivos(arquivos, saida) que recebe uma lista de caminhos de arquivos de texto e um caminho de saída. A função lê cada arquivo, concatena o conteúdo com uma linha em branco entre eles, e grava no arquivo de saída. Levante FileNotFoundError se algum arquivo de entrada não existir.  \n",
    "- Exemplo:\n",
    "Arquivo a.txt: \"Primeiro\\ntexto\"\n",
    "\n",
    "Arquivo b.txt: \"Segundo\"\n",
    "\n",
    "- Entrada: [\"a.txt\", \"b.txt\"], \"saida.txt\"\n",
    "\n",
    "Conteúdo de saida.txt:\n",
    "\n",
    "Primeiro\n",
    "texto\n",
    "\n",
    "Segundo\n",
    "\n",
    "- Restrições:\n",
    "Use open com encoding=\"utf-8\".\n",
    "\n",
    "Adicione exatamente uma linha em branco (\\n) entre os conteúdos.\n",
    "\n",
    "Levante FileNotFoundError explicitamente.\n",
    "\n",
    "Loops permitidos.\n",
    "\n",
    "- Dica: Use try-except para verificar arquivos e write com \\n."
   ]
  },
  {
   "cell_type": "code",
   "execution_count": null,
   "id": "dd35f1ea",
   "metadata": {
    "vscode": {
     "languageId": "plaintext"
    }
   },
   "outputs": [],
   "source": []
  },
  {
   "cell_type": "markdown",
   "id": "fa8dcbbb",
   "metadata": {},
   "source": [
    "### Questão 3: Filtro de Números por Propriedade\n",
    "##### Enunciado: Escreva uma função filtrar_numeros(numeros, propriedade) que recebe uma lista de números inteiros e uma string indicando uma propriedade (\"par\", \"impar\", \"primo\"). A função retorna uma lista com os números que satisfazem a propriedade, em ordem crescente. Levante ValueError se a propriedade for inválida.  \n",
    "Exemplo:\n",
    "- Entrada: [4, 7, 3, 8, 5], \"primo\"\n",
    "\n",
    "- Saída: [3, 5, 7]\n",
    "\n",
    "- Entrada: [4, 7, 3, 8, 5], \"par\"\n",
    "\n",
    "- Saída: [4, 8]\n",
    "\n",
    "- Restrições:\n",
    "Use uma função auxiliar para testar primalidade (sem geradores).\n",
    "\n",
    "Propriedades válidas: \"par\", \"impar\", \"primo\".\n",
    "\n",
    "Loops permitidos.\n",
    "\n",
    "Retorne lista vazia se nenhum número satisfizer.\n",
    "\n",
    "- Dica: Para primos, teste divisibilidade até a raiz quadrada."
   ]
  },
  {
   "cell_type": "code",
   "execution_count": null,
   "id": "d0d6edfe",
   "metadata": {
    "vscode": {
     "languageId": "plaintext"
    }
   },
   "outputs": [],
   "source": []
  },
  {
   "cell_type": "markdown",
   "id": "57377d06",
   "metadata": {},
   "source": [
    "### Questão 4: Classe para Gerenciar Contatos\n",
    "##### Enunciado: Crie uma classe Agenda com métodos para gerenciar contatos (dicionário interno com nome como chave e telefone como valor). Implemente:\n",
    "##### __init__: Inicializa com dicionário vazio.\n",
    "adicionar(nome, telefone): Adiciona ou atualiza um contato. Levante ValueError se nome ou telefone forem vazios.\n",
    "\n",
    "- remover(nome): Remove um contato. Levante KeyError se não existir.\n",
    "\n",
    "- buscar(nome): Retorna o telefone. Levante KeyError se não existir.\n",
    "\n",
    "- Exemplo:\n",
    "py\n",
    "\n",
    "agenda = Agenda()\n",
    "\n",
    "agenda.adicionar(\"Ana\", \"1234-5678\")\n",
    "\n",
    "agenda.adicionar(\"Bob\", \"8765-4321\")\n",
    "\n",
    "print(agenda.buscar(\"Ana\"))  # \"1234-5678\"\n",
    "\n",
    "agenda.remover(\"Bob\")\n",
    "\n",
    "agenda.buscar(\"Bob\")  # KeyError\n",
    "\n",
    "agenda.adicionar(\"\", \"1234\")  # ValueError\n",
    "\n",
    "- Restrições:\n",
    "Use dicionário para armazenar contatos.\n",
    "\n",
    "Nome e telefone são strings.\n",
    "\n",
    "Loops permitidos.\n",
    "\n",
    "- Dica: Use self.contatos como dicionário e verifique strings com strip()."
   ]
  },
  {
   "cell_type": "code",
   "execution_count": null,
   "id": "687dd3d2",
   "metadata": {
    "vscode": {
     "languageId": "plaintext"
    }
   },
   "outputs": [],
   "source": []
  },
  {
   "cell_type": "markdown",
   "id": "c1d3a0bc",
   "metadata": {},
   "source": [
    "### Questão 5: Substituição Condicional em Arquivo\n",
    "##### Enunciado: Escreva uma função substituir_em_arquivo(entrada, saida, palavra, nova) que lê um arquivo de texto, substitui todas as ocorrências de palavra por nova (respeitando maiúsculas/minúsculas), e grava o resultado no arquivo de saída. A substituição só ocorre se palavra for uma palavra completa (delimitada por espaços, pontuações ou início/fim da linha). Levante FileNotFoundError se o arquivo de entrada não existir.  \n",
    "- Exemplo:\n",
    "Arquivo entrada.txt: \"Casa e casaco na casa.\"\n",
    "\n",
    "- Entrada: \"entrada.txt\", \"saida.txt\", \"casa\", \"lar\"\n",
    "\n",
    "Conteúdo de saida.txt: \"Casa e casaco na lar.\"\n",
    "\n",
    "- Restrições:\n",
    "Use open com encoding=\"utf-8\".\n",
    "\n",
    "Considere palavras completas (ex.: não substitua \"casa\" em \"casaco\").\n",
    "\n",
    "Use str.split() e manipulação de strings, sem re.\n",
    "\n",
    "Loops permitidos.\n",
    "\n",
    "- Dica: Leia o arquivo linha por linha e processe cada palavra."
   ]
  },
  {
   "cell_type": "code",
   "execution_count": null,
   "id": "89d10826",
   "metadata": {
    "vscode": {
     "languageId": "plaintext"
    }
   },
   "outputs": [],
   "source": []
  }
 ],
 "metadata": {
  "language_info": {
   "name": "python"
  }
 },
 "nbformat": 4,
 "nbformat_minor": 5
}
