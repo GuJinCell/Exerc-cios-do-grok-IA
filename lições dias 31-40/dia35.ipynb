{
 "cells": [
  {
   "cell_type": "markdown",
   "id": "0fb0b20f",
   "metadata": {},
   "source": [
    "### Questão 1: Rotação Recursiva de Palavras\n",
    "##### Descrição: Escreva uma função recursiva rotacionar_palavras(texto, n) que receba uma string de palavras separadas por espaço e um inteiro n. Rotacione cada palavra à direita por n posições e retorne o texto resultante, usando recursão (sem loops). Se n for maior que o tamanho da palavra, use n % len(palavra).\n",
    "Exemplo:\n",
    "- Entrada: \"casa sol python\", 2\n",
    "\n",
    "- Saída: \"saca lsol thonpy\"\n",
    "\"casa\" → \"saca\", \"sol\" → \"lsol\", \"python\" → \"thonpy\".\n",
    "\n"
   ]
  },
  {
   "cell_type": "code",
   "execution_count": 33,
   "id": "3fea69ec",
   "metadata": {},
   "outputs": [
    {
     "name": "stdout",
     "output_type": "stream",
     "text": [
      "saca ols onpyth\n"
     ]
    }
   ],
   "source": [
    "def rotacionar_palavras(texto, n):\n",
    "    \"\"\"\n",
    "    Rotaciona cada palavra de um texto à direita por n posições, usando recursão.\n",
    "    \n",
    "    Args:\n",
    "        texto (str): Texto com palavras separadas por espaço.\n",
    "        n (int): Número de posições para rotacionar à direita.\n",
    "    Returns:\n",
    "        str: Texto com palavras rotacionadas.\n",
    "    \"\"\"\n",
    "    if not texto:\n",
    "        return \"\"\n",
    "    palavras = texto.split()\n",
    "    primeira = palavras[0]\n",
    "    resto = \" \".join(palavras[1:]) if palavras[1:] else \"\"\n",
    "    rotacionada = primeira[-n % len(primeira):] + primeira[: -n % len(primeira)]\n",
    "    return rotacionada + (\" \" + rotacionar_palavras(resto,n) if resto else \"\")\n",
    "    \n",
    "    \n",
    "texto, parametro = \"casa sol python\", 2\n",
    "print(rotacionar_palavras(texto,parametro))"
   ]
  },
  {
   "cell_type": "markdown",
   "id": "9f5a3185",
   "metadata": {},
   "source": [
    "### Questão 2: Dicionário de Médias com Dict Comprehension\n",
    "##### Descrição: Crie uma função medias_pares_impares(lista) que receba uma lista de inteiros e retorne um dicionário com duas chaves: 'pares' e 'impares'. Os valores são as médias aritméticas dos números pares e ímpares da lista, respectivamente, usando dict comprehension. Se não houver pares ou ímpares, o valor deve ser 0.\n",
    "Exemplo:\n",
    "- Entrada: [1, 2, 3, 4, 5]\n",
    "\n",
    "- Saída: {'pares': 3.0, 'impares': 3.0}\n",
    "Pares: [2, 4] → 3.0, Ímpares: [1, 3, 5] → 3.0.\n",
    "\n"
   ]
  },
  {
   "cell_type": "code",
   "execution_count": 32,
   "id": "589708ce",
   "metadata": {},
   "outputs": [
    {
     "name": "stdout",
     "output_type": "stream",
     "text": [
      "{'pares': 3.0, 'impares': 3.0}\n"
     ]
    }
   ],
   "source": [
    "def medias_pares_impares(lista):\n",
    "    \"\"\"\n",
    "    Calcula as médias de números pares e ímpares em uma lista.\n",
    "    \n",
    "    Args:\n",
    "        lista (list): Lista de inteiros.\n",
    "    Returns:\n",
    "        dict: Dicionário com médias de pares e ímpares (0 se não houver).\n",
    "    \"\"\"\n",
    "    pares = [n for n in lista if n%2==0]\n",
    "    impares = [m for m in lista if m%2 !=0]\n",
    "    return {'pares':sum(pares)/len(pares) if pares else 0,'impares':sum(impares)/len(impares) if impares else 0}\n",
    "\n",
    "\n",
    "exemplo = [1, 2, 3, 4, 5]\n",
    "print(medias_pares_impares(exemplo))"
   ]
  },
  {
   "cell_type": "markdown",
   "id": "108b2c23",
   "metadata": {},
   "source": [
    "### Questão 3: Inversão de Linhas em Arquivo com Try-Except\n",
    "##### Descrição: Escreva uma função inverter_linhas(entrada, saida) que leia um arquivo (entrada), inverta a ordem das linhas e grave o resultado em saida. Use try-except para erros de arquivo e mantenha o conteúdo de cada linha intacto.\n",
    "Exemplo:\n",
    "- Arquivo entrada.txt: \n",
    "\n",
    "casa carro\n",
    "sol python\n",
    "\n",
    "Chamada: inverter_linhas(\"entrada.txt\", \"saida.txt\")\n",
    "\n",
    "- Arquivo saida.txt:\n",
    "\n",
    "sol python\n",
    "casa carro"
   ]
  },
  {
   "cell_type": "code",
   "execution_count": 34,
   "id": "154efd13",
   "metadata": {},
   "outputs": [],
   "source": [
    "import os\n",
    "\n",
    "def inverter_linhas(entrada,saida):\n",
    "    \"\"\"\n",
    "    Inverte a ordem das linhas de um arquivo e grava o resultado em outro.\n",
    "    \n",
    "    Args:\n",
    "        entrada (str): Caminho do arquivo de entrada.\n",
    "        saida (str): Caminho do arquivo de saída.\n",
    "    Raises:\n",
    "        FileNotFoundError: Se o arquivo não existir.\n",
    "    \"\"\"\n",
    "    try:\n",
    "        with open(entrada,\"r\",encoding=\"utf-8\")as arquivo:\n",
    "            texto = arquivo.read().splitlines()\n",
    "        with open(saida,\"w\",encoding=\"utf-8\") as filtrada:\n",
    "            for i in range(len(texto)-1, -1, -1):\n",
    "                filtrada.write(texto[i]+\"\\n\")\n",
    "    except FileNotFoundError:\n",
    "        raise FileNotFoundError(\"Arquivo não encontrado\")\n",
    "\n",
    "pasta =\"C:/Users/Celso.O.C/PycharmProjects/progamation/Exercícios/Exerc-cios-do-grok-IA/arquivos_de_exercicios/arquivos_dias_31_40\"\n",
    "os.makedirs(pasta,exist_ok=True)\n",
    "entrada = f\"{pasta}/normal_35.txt\"\n",
    "saida = f\"{pasta}/invertida_35.txt\"\n",
    "with open(entrada,\"w\",encoding=\"utf-8\") as arquivo:\n",
    "    arquivo.write(\"casa carro \\nsol python\")\n",
    "inverter_linhas(entrada,saida)"
   ]
  },
  {
   "cell_type": "markdown",
   "id": "f63a0faf",
   "metadata": {},
   "source": [
    "### Questão 4: Filtragem de Palavras por Prefixo em Arquivo\n",
    "##### Descrição: Escreva uma função filtrar_prefixo(entrada, saida, prefixo) que leia um arquivo (entrada), filtre as palavras que começam com um dado prefixo (case-sensitive), e grave as palavras filtradas em saida, uma por linha. Use try-except para erros de arquivo.\n",
    "Exemplo:\n",
    "- Arquivo entrada.txt: \n",
    "\n",
    "casa carro sol\n",
    "code python cat\n",
    "\n",
    "Chamada: filtrar_prefixo(\"entrada.txt\", \"saida.txt\", \"ca\")\n",
    "\n",
    "- Arquivo saida.txt:\n",
    "\n",
    "casa\n",
    "carro\n",
    "cat"
   ]
  },
  {
   "cell_type": "code",
   "execution_count": null,
   "id": "32107fd4",
   "metadata": {},
   "outputs": [],
   "source": [
    "import os\n",
    "\n",
    "def filtrar_prefixo(entrada,saida, prefixo):\n",
    "    \"\"\"\n",
    "    Filtra palavras de um arquivo que começam com um prefixo e grava em outro arquivo.\n",
    "    \n",
    "    Args:\n",
    "        entrada (str): Caminho do arquivo de entrada.\n",
    "        saida (str): Caminho do arquivo de saída.\n",
    "        prefixo (str): Prefixo para filtrar palavras (case-sensitive).\n",
    "    Raises:\n",
    "        FileNotFoundError: Se o arquivo não existir.\n",
    "    \"\"\"\n",
    "    try:\n",
    "        with open(entrada,\"r\",encoding=\"utf-8\")as arquivo:\n",
    "            texto = arquivo.read().splitlines()\n",
    "        with open(saida,\"w\",encoding=\"utf-8\") as filtrada:\n",
    "            for i in texto:\n",
    "                palavra = [p for p in i.split()]\n",
    "                if palavra:\n",
    "                    for n in palavra:\n",
    "                        if n.startswith(prefixo):\n",
    "                            filtrada.write(n+\"\\n\")\n",
    "    except FileNotFoundError:\n",
    "        raise FileNotFoundError(\"Arquivo não encontrado\")\n",
    "\n",
    "pasta =\"C:/Users/Celso.O.C/PycharmProjects/progamation/Exercícios/Exerc-cios-do-grok-IA/arquivos_de_exercicios/arquivos_dias_31_40\"\n",
    "os.makedirs(pasta,exist_ok=True)\n",
    "entrada = f\"{pasta}/prefixo_35.txt\"\n",
    "saida = f\"{pasta}/posfixo_35.txt\"\n",
    "with open(entrada,\"w\",encoding=\"utf-8\") as arquivo:\n",
    "    arquivo.write(\"casa carro sol\\ncode python cat\")\n",
    "filtrar_prefixo(entrada,saida,\"ca\")"
   ]
  },
  {
   "cell_type": "markdown",
   "id": "42f804c1",
   "metadata": {},
   "source": [
    "### Questão 5: Soma Recursiva de Valores Únicos em Estrutura\n",
    "##### Descrição: Crie uma função somar_unicos(estrutura) que receba uma estrutura aninhada (lista, tupla ou dicionário) e retorne a soma dos valores numéricos únicos (int ou float) presentes, usando recursão. Considere apenas a primeira ocorrência de cada número.\n",
    "Exemplo:\n",
    "- Entrada: [1, (2, 1), {\"a\": 3, \"b\": [2, 4]}]\n",
    "\n",
    "- Saída: 10\n",
    "Únicos: [1, 2, 3, 4] → 1 + 2 + 3 + 4 = 10."
   ]
  },
  {
   "cell_type": "code",
   "execution_count": null,
   "id": "fea0c547",
   "metadata": {},
   "outputs": [
    {
     "name": "stdout",
     "output_type": "stream",
     "text": [
      "10\n"
     ]
    }
   ],
   "source": [
    "def somar_unicos(estrutura):\n",
    "    \"\"\"\n",
    "    Soma valores numéricos únicos em uma estrutura aninhada usando recursão.\n",
    "    \n",
    "    Args:\n",
    "        estrutura: Estrutura aninhada (lista, tupla ou dicionário).\n",
    "    Returns:\n",
    "        int/float: Soma dos valores numéricos únicos.\n",
    "    \"\"\"\n",
    "    def recursiva(item, valores):\n",
    "            if isinstance(item,(int,float)):\n",
    "                 valores.add(item)\n",
    "            elif isinstance(item,(tuple,list)):\n",
    "                for i in item:\n",
    "                    recursiva(i,valores)\n",
    "            elif isinstance(item,dict):\n",
    "                for d in item.values():\n",
    "                    recursiva(d,valores)\n",
    "    soma = set()\n",
    "    recursiva(estrutura, soma)\n",
    "    return sum(soma)\n",
    "\n",
    "\n",
    "exemplo = [1, (2, 1), {\"a\": 3, \"b\": [2, 4]}]\n",
    "print(somar_unicos(exemplo))"
   ]
  }
 ],
 "metadata": {
  "kernelspec": {
   "display_name": "Python 3",
   "language": "python",
   "name": "python3"
  },
  "language_info": {
   "codemirror_mode": {
    "name": "ipython",
    "version": 3
   },
   "file_extension": ".py",
   "mimetype": "text/x-python",
   "name": "python",
   "nbconvert_exporter": "python",
   "pygments_lexer": "ipython3",
   "version": "3.11.4"
  }
 },
 "nbformat": 4,
 "nbformat_minor": 5
}
