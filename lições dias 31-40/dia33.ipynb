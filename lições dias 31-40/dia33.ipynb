{
 "cells": [
  {
   "cell_type": "markdown",
   "metadata": {},
   "source": [
    "### Questão 1: Concatenar Palavras Recursivamente com Filtro\n",
    "##### Descrição: Escreva uma função recursiva concatenar_filtrado(texto, condicao) que receba uma string de palavras separadas por espaço e uma função condicao. Concatene apenas as palavras que satisfazem a condição em uma única string, sem espaços, usando recursão (sem loops).\n",
    "Exemplo:\n",
    "- Entrada: \"casa carro sol python\", lambda x: len(x) > 3\n",
    "\n",
    "- Saída: \"casacarropython\"\n",
    "\"casa\" (4), \"carro\" (5), \"python\" (6) → concatenados; \"sol\" (3) ignorado.\n",
    "\n"
   ]
  },
  {
   "cell_type": "code",
   "execution_count": null,
   "metadata": {},
   "outputs": [
    {
     "name": "stdout",
     "output_type": "stream",
     "text": [
      "casacarropython\n"
     ]
    }
   ],
   "source": [
    "def concatenar_filtrado(texto, condicao):\n",
    "    \"\"\"\n",
    "    Concatena palavras de um texto que satisfazem uma condição, usando recursão, sem espaços.\n",
    "    \n",
    "    Args:\n",
    "        texto (str): Texto com palavras separadas por espaço.\n",
    "        condicao (function): Função que retorna True para palavras a serem concatenadas.\n",
    "    Returns:\n",
    "        str: String única com palavras filtradas concatenadas.\n",
    "    \"\"\"\n",
    "    if not texto:\n",
    "        return \"\"\n",
    "    palavras = texto.split()\n",
    "    primeira = palavras[0]\n",
    "    resto = \" \".join(palavras[1:]) if palavras[1:] else \"\"\n",
    "    if condicao(primeira):\n",
    "        resultado = primeira\n",
    "    else:\n",
    "        resultado = \"\"\n",
    "    return resultado + (concatenar_filtrado(resto,condicao) if resto else \"\")\n",
    "\n",
    "\n",
    "exemplo, condicao = \"casa carro sol python\", lambda x: len(x) > 3\n",
    "print(concatenar_filtrado(exemplo,condicao))"
   ]
  },
  {
   "cell_type": "markdown",
   "metadata": {},
   "source": [
    "### Questão 2: Dicionário de Pares com List Comprehension\n",
    "##### Descrição: Crie uma função pares_dicionario(lista) que receba uma lista de inteiros e retorne um dicionário onde as chaves são números pares da lista e os valores são listas dos índices onde esses números aparecem, usando list comprehension.\n",
    "Exemplo:\n",
    "- Entrada: [1, 2, 4, 3, 2, 6, 5, 4]\n",
    "\n",
    "- Saída: {2: [1, 4], 4: [2, 7], 6: [5]}\n",
    "2 aparece nos índices 1 e 4, 4 nos índices 2 e 7, 6 no índice 5.\n",
    "\n"
   ]
  },
  {
   "cell_type": "code",
   "execution_count": null,
   "metadata": {},
   "outputs": [
    {
     "name": "stdout",
     "output_type": "stream",
     "text": [
      "{2: [1, 4], 4: [2, 7], 6: [5]}\n"
     ]
    }
   ],
   "source": [
    "def pares_dicionarios(lista):\n",
    "    \"\"\"\n",
    "    Cria um dicionário com números pares como chaves e seus índices como valores.\n",
    "    \n",
    "    Args:\n",
    "        lista (list): Lista de inteiros.\n",
    "    Returns:\n",
    "        dict: Dicionário com pares e seus índices.\n",
    "    \"\"\"\n",
    "    return {m: [n for n,x in enumerate(lista) if x == m] for m in set(x for x in lista if x%2 == 0)}\n",
    "\n",
    "\n",
    "exemplo = [1, 2, 4, 3, 2, 6, 5, 4]\n",
    "print(pares_dicionarios(exemplo))"
   ]
  },
  {
   "cell_type": "markdown",
   "metadata": {},
   "source": [
    "### Questão 3: Substituição em Arquivo com Try-Except e Set\n",
    "##### Descrição: Escreva uma função substituir_em_arquivo(entrada, saida, substituicoes) que leia um arquivo (entrada), substitua palavras conforme um dicionário substituicoes (chave: palavra original, valor: nova palavra) e grave o resultado em saida. Use um set para verificar palavras únicas e try-except para erros de arquivo.\n",
    "Exemplo:\n",
    "- Arquivo entrada.txt: \n",
    "\n",
    "casa e carro\n",
    "sol e casa\n",
    "\n",
    "- Chamada: substituir_em_arquivo(\"entrada.txt\", \"saida.txt\", {\"casa\": \"home\", \"carro\": \"car\"})\n",
    "\n",
    "Arquivo saida.txt:\n",
    "\n",
    "home e car\n",
    "sol e home\n",
    "\n"
   ]
  },
  {
   "cell_type": "code",
   "execution_count": 64,
   "metadata": {},
   "outputs": [],
   "source": [
    "import os\n",
    "\n",
    "def substituir_em_arquivo(entrada,saida,substituicoes):\n",
    "    \"\"\"\n",
    "    Substitui palavras em um arquivo conforme um dicionário de substituições.\n",
    "    \n",
    "    Args:\n",
    "        entrada (str): Caminho do arquivo de entrada.\n",
    "        saida (str): Caminho do arquivo de saída.\n",
    "        substituicoes (dict): Dicionário com palavras a substituir.\n",
    "    Raises:\n",
    "        FileNotFoundError: Se o arquivo de entrada não existir.\n",
    "    \"\"\"\n",
    "    try:\n",
    "        with open(entrada,\"r\",encoding=\"utf-8\") as arquivo:\n",
    "            texto_linhas = arquivo.read().splitlines()\n",
    "        plvs_unicas = set(substituicoes.keys())\n",
    "        with open(saida,\"w\",encoding=\"utf-8\") as subs:\n",
    "            for linha in texto_linhas:\n",
    "                palavras = linha.split()\n",
    "                n_line = \" \".join(substituicoes.get(palavra, palavra) for palavra in palavras)\n",
    "                subs.write(n_line + \"\\n\")\n",
    "\n",
    "    except FileNotFoundError:\n",
    "        raise FileNotFoundError(\"Arquivo não encontrado\")\n",
    "\n",
    "pasta =\"C:/Users/Celso.O.C/PycharmProjects/progamation/Exercícios/Exerc-cios-do-grok-IA/arquivos_de_exercicios\"\n",
    "os.makedirs(pasta,exist_ok=True)\n",
    "entrada = f\"{pasta}/substituir_33.txt\"\n",
    "saida = f\"{pasta}/substituida_33.txt\"\n",
    "with open(entrada,\"w\",encoding=\"utf-8\") as arquivo:\n",
    "    arquivo.write(\"casa e carro\\nsol e casa\")\n",
    "substituir_em_arquivo(entrada,saida,{\"casa\": \"home\", \"carro\": \"car\"})"
   ]
  },
  {
   "cell_type": "code",
   "execution_count": null,
   "metadata": {},
   "outputs": [],
   "source": [
    "import os\n",
    "\n",
    "def substituir_em_arquivo(entrada,saida,substituicoes):\n",
    "    \"\"\"\n",
    "    Substitui palavras em um arquivo conforme um dicionário de substituições\n",
    "    utilizando set para acessar as chaves do dicionário.\n",
    "    \n",
    "    Args:\n",
    "        entrada (str): Caminho do arquivo de entrada.\n",
    "        saida (str): Caminho do arquivo de saída.\n",
    "        substituicoes (dict): Dicionário com palavras a substituir.\n",
    "    Raises:\n",
    "        FileNotFoundError: Se o arquivo de entrada não existir.\n",
    "    \"\"\"\n",
    "    try:\n",
    "        with open(entrada,\"r\",encoding=\"utf-8\") as arquivo:\n",
    "            texto_linhas = arquivo.read().splitlines()\n",
    "        plvs_unicas = set(substituicoes.keys())\n",
    "        with open(saida,\"w\",encoding=\"utf-8\") as subs:\n",
    "            for linha in texto_linhas:\n",
    "                palavras = linha.split()\n",
    "                n_line = \" \".join(substituicoes[palavra] if palavra in plvs_unicas else palavra for palavra in palavras)\n",
    "                subs.write(n_line + \"\\n\")\n",
    "\n",
    "    except FileNotFoundError:\n",
    "        raise FileNotFoundError(\"Arquivo não encontrado\")\n",
    "\n",
    "pasta =\"C:/Users/Celso.O.C/PycharmProjects/progamation/Exercícios/Exerc-cios-do-grok-IA/arquivos_de_exercicios\"\n",
    "os.makedirs(pasta,exist_ok=True)\n",
    "entrada = f\"{pasta}/substituir_33.txt\"\n",
    "saida = f\"{pasta}/substituida_33.txt\"\n",
    "with open(entrada,\"w\",encoding=\"utf-8\") as arquivo:\n",
    "    arquivo.write(\"casa e carro\\nsol e casa\")\n",
    "substituir_em_arquivo(entrada,saida,{\"casa\": \"home\", \"carro\": \"car\"})"
   ]
  },
  {
   "cell_type": "markdown",
   "metadata": {},
   "source": [
    "### Questão 4: Filtrar Tuplas Recursivamente com Lambda\n",
    "##### Descrição: Crie uma função filtrar_tuplas(tuplas, condicao) que receba uma lista de tuplas possivelmente aninhadas e uma função lambda condicao. Retorne uma nova lista com tuplas filtradas, onde cada elemento numérico é mantido apenas se satisfizer a condição, usando recursão.\n",
    "Exemplo:\n",
    "- Entrada: [(1, 2), (3, (4, 5)), (6, 7)], lambda x: x > 3\n",
    "\n",
    "- Saída: [([], [4, 5]), [6, 7]]\n",
    "(1, 2) → ([], []), mas simplificado para [].\n",
    "\n",
    "(3, (4, 5)) → ([], [4, 5]).\n",
    "\n",
    "(6, 7) → [6, 7].\n",
    "\n"
   ]
  },
  {
   "cell_type": "code",
   "execution_count": 66,
   "metadata": {},
   "outputs": [
    {
     "name": "stdout",
     "output_type": "stream",
     "text": [
      "[[[], []], [[], [4, 5]], [6, 7]]\n"
     ]
    }
   ],
   "source": [
    "def filtrar_tuplas(tuplas,condicao):\n",
    "    \"\"\"\n",
    "    Filtra elementos numéricos em tuplas aninhadas com base em uma condição, mantendo a estrutura.\n",
    "    \n",
    "    Args:\n",
    "        tuplas (list): Lista de tuplas possivelmente aninhadas.\n",
    "        condicao (function): Função que retorna True para elementos a manter.\n",
    "    Returns:\n",
    "        list: Lista de tuplas filtradas.\n",
    "    \"\"\"\n",
    "    def filtro(tupla):\n",
    "        resultado = []\n",
    "        for i in tupla:\n",
    "            if isinstance(i,(int,float)):\n",
    "                if condicao(i):\n",
    "                    resultado.append(i)\n",
    "                else:\n",
    "                    resultado.append([])\n",
    "            elif isinstance(i,tuple):\n",
    "                filtrada = filtro(i)\n",
    "                resultado.append(filtrada)\n",
    "        return resultado\n",
    "\n",
    "    return [filtro(tp) for tp in tuplas]\n",
    "\n",
    "\n",
    "exemplo, condicao = [(1, 2), (3, (4, 5)), (6, 7)], lambda x: x > 3\n",
    "print(filtrar_tuplas(exemplo,condicao))"
   ]
  },
  {
   "cell_type": "markdown",
   "metadata": {},
   "source": [
    "### Questão 5: Contagem de Palavras com Counter e Arquivo\n",
    "##### Descrição: Escreva uma função contar_palavras_arquivo(entrada, minimo) que leia um arquivo de texto (entrada), conte a frequência de cada palavra usando Counter e retorne um dicionário com palavras que aparecem pelo menos minimo vezes (case-insensitive). Use try-except para erros de arquivo.\n",
    "Exemplo:\n",
    "- Arquivo entrada.txt: \n",
    "\n",
    "casa Casa CARRO\n",
    "carro sol Casa\n",
    "\n",
    "- Chamada: contar_palavras_arquivo(\"entrada.txt\", 2)\n",
    "\n",
    "- Saída: {'casa': 3, 'carro': 2}\n",
    "\"casa\" (3x), \"carro\" (2x), \"sol\" (1x) → filtra por >= 2.\n",
    "\n"
   ]
  },
  {
   "cell_type": "code",
   "execution_count": null,
   "metadata": {},
   "outputs": [
    {
     "name": "stdout",
     "output_type": "stream",
     "text": [
      "{'casa': 3, 'carro': 2}\n"
     ]
    }
   ],
   "source": [
    "import os\n",
    "from collections import Counter\n",
    "\n",
    "def contar_palavras(entrada, minimo):\n",
    "    \"\"\"\n",
    "    Conta palavras em um arquivo que aparecem pelo menos 'minimo' vezes (case-insensitive).\n",
    "    \n",
    "    Args:\n",
    "        entrada (str): Caminho do arquivo de entrada.\n",
    "        minimo (int): Frequência mínima para incluir palavras.\n",
    "    Returns:\n",
    "        dict: Dicionário com palavras e suas frequências.\n",
    "    Raises:\n",
    "        FileNotFoundError: Se o arquivo não existir.\n",
    "    \"\"\"\n",
    "    try:\n",
    "        with open(entrada,\"r\",encoding=\"utf-8\") as arquivo:\n",
    "            palavras = Counter(plv.lower() for plv in (arquivo.read()).split())\n",
    "            return {n:palavras[n] for n in palavras if palavras[n] >= minimo}\n",
    "    except FileNotFoundError:\n",
    "        raise FileNotFoundError(\"Arquivo não encontrado\")\n",
    "\n",
    "\n",
    "pasta =\"C:/Users/Celso.O.C/PycharmProjects/progamation/Exercícios/Exerc-cios-do-grok-IA/arquivos_de_exercicios\"\n",
    "os.makedirs(pasta,exist_ok=True)\n",
    "entrada = f\"{pasta}/palavras_33.txt\"\n",
    "with open(entrada,\"w\",encoding=\"utf-8\") as arquivo:\n",
    "    arquivo.write(\"casa Casa CARRO\\ncarro sol Casa\")\n",
    "print(contar_palavras(entrada,2))"
   ]
  }
 ],
 "metadata": {
  "kernelspec": {
   "display_name": "Python 3",
   "language": "python",
   "name": "python3"
  },
  "language_info": {
   "codemirror_mode": {
    "name": "ipython",
    "version": 3
   },
   "file_extension": ".py",
   "mimetype": "text/x-python",
   "name": "python",
   "nbconvert_exporter": "python",
   "pygments_lexer": "ipython3",
   "version": "3.11.4"
  }
 },
 "nbformat": 4,
 "nbformat_minor": 2
}
