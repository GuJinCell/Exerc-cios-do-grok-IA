{
 "cells": [
  {
   "cell_type": "markdown",
   "id": "e6a22790",
   "metadata": {},
   "source": [
    "### Questão 1: Inversão de Palavras com Recursão e Condição\n",
    "##### Descrição Escreva uma função recursiva inverter_condicional(texto, condicao) que receba uma string de palavras separadas por espaço e uma função lambda condicao. Inverta apenas as palavras que satisfazem a condição e retorne o texto resultante. Não use loops; use recursão.\n",
    "Exemplo:\n",
    "- Entrada: \"casa carro sol python\", lambda x: len(x) > 3\n",
    "\n",
    "- Saída: \"asac orrac sol nohtyp\"\n",
    "\"casa\" (4) → \"asac\", \"carro\" (5) → \"orrac\", \"sol\" (3) → \"sol\", \"python\" (6) → \"nohtyp\"."
   ]
  },
  {
   "cell_type": "code",
   "execution_count": null,
   "id": "90585052",
   "metadata": {},
   "outputs": [
    {
     "name": "stdout",
     "output_type": "stream",
     "text": [
      "asac orrac sol nohtyp\n"
     ]
    }
   ],
   "source": [
    "def inverter_condicional(texto, condicao):\n",
    "    \"\"\"\n",
    "    Inverte palavras em um texto que satisfazem uma condição usando loops.\n",
    "    \n",
    "    Args:\n",
    "        texto (str): Texto com palavras separadas por espaço.\n",
    "        condicao (function): Função que retorna True se a palavra deve ser invertida.\n",
    "    Returns:\n",
    "        str: Texto com palavras invertidas conforme a condição.\n",
    "    \"\"\"\n",
    "    frase = \"\"\n",
    "    for n in texto.split():\n",
    "        if condicao(n):\n",
    "            frase += n[::-1]+\" \"\n",
    "        else:\n",
    "            frase += n + \" \"\n",
    "    return frase.strip()\n",
    "\n",
    "\n",
    "exemplo, condicao = \"casa carro sol python\", (lambda x: len(x) > 3)\n",
    "print(inverter_condicional(exemplo,condicao))"
   ]
  },
  {
   "cell_type": "code",
   "execution_count": null,
   "id": "fc7a0586",
   "metadata": {},
   "outputs": [
    {
     "name": "stdout",
     "output_type": "stream",
     "text": [
      "asac orrac sol nohtyp\n"
     ]
    }
   ],
   "source": [
    "def inverter_condicional(texto, condicao):\n",
    "    \"\"\"\n",
    "    Inverte palavras em um texto que satisfazem uma condição usando recursão.\n",
    "    \n",
    "    Args:\n",
    "        texto (str): Texto com palavras separadas por espaço.\n",
    "        condicao (function): Função que retorna True se a palavra deve ser invertida.\n",
    "    Returns:\n",
    "        str: Texto com palavras invertidas conforme a condição.\n",
    "    \"\"\"\n",
    "    if not texto:\n",
    "        return \"\"\n",
    "    palavras = texto.split()\n",
    "    primeira = palavras[0]\n",
    "    resto = \" \".join(palavras[1:]) if palavras[1:] else \"\"\n",
    "    if condicao(primeira):\n",
    "        resultado = primeira[::-1]\n",
    "    else:\n",
    "        resultado = primeira\n",
    "    return resultado + (\" \" + inverter_condicional(resto, condicao) if resto else \"\")\n",
    "\n",
    "exemplo = \"casa carro sol python\"\n",
    "condicao = lambda x: len(x) > 3\n",
    "print(inverter_condicional(exemplo, condicao))"
   ]
  },
  {
   "cell_type": "markdown",
   "id": "55d322d4",
   "metadata": {},
   "source": [
    "### Questão 2: Dicionário de Frequência com Set Comprehension\n",
    "##### Descrição: Crie uma função frequencia_unica(texto) que receba uma string e retorne um dicionário onde as chaves são palavras e os valores são sets das letras que aparecem exatamente uma vez na palavra, usando set comprehension.\n",
    "Exemplo:\n",
    "- Entrada: \"casa carro sol\"\n",
    "\n",
    "- Saída: {'casa': {'c', 's'}, 'carro': {'o', 'c', 'a'}, 'sol': {'s', 'o', 'l'}}\n",
    "\"casa\": 'c' (1x), 'a' (2x), 's' (1x) → {'c', 's'}.\n",
    "\n",
    "\"carro\": 'c' (1x), 'a' (1x), 'r' (2x), 'o' (1x) → {'c', 'a', 'o'}.\n",
    "\n",
    "\"sol\": todas aparecem 1x → {'s', 'o', 'l'}."
   ]
  },
  {
   "cell_type": "code",
   "execution_count": null,
   "id": "35dec3bc",
   "metadata": {},
   "outputs": [
    {
     "name": "stdout",
     "output_type": "stream",
     "text": [
      "{'casa': {'c', 's'}, 'carro': {'o', 'c', 'a'}, 'sol': {'o', 's', 'l'}}\n"
     ]
    }
   ],
   "source": [
    "def frequencia_unica(texto):\n",
    "    \"\"\"\n",
    "    Retorna um dicionário com palavras como chaves e sets das letras que aparecem uma vez como valores.\n",
    "    \n",
    "    Args:\n",
    "        texto (str): Texto com palavras separadas por espaço.\n",
    "    Returns:\n",
    "        dict: Dicionário com letras únicas por palavra.\n",
    "    \"\"\"\n",
    "    return {n: set(i for i in n if (n.count(i)==1)) for n in texto.split()}\n",
    "\n",
    "\n",
    "exemplo = \"casa carro sol\"\n",
    "print(frequencia_unica(exemplo))"
   ]
  },
  {
   "cell_type": "markdown",
   "id": "00e254b2",
   "metadata": {},
   "source": [
    "### Questão 3: Transformação de Arquivo com Try-Except e Lambda\n",
    "##### Descrição: Escreva uma função transformar_arquivo(entrada, saida, transformacao) que leia um arquivo (entrada), aplique uma função lambda transformacao a cada linha e grave o resultado em saida. Use try-except para lidar com erros de arquivo e conversão (ex.: se a transformação falhar).\n",
    "Exemplo:\n",
    "- Arquivo entrada.txt: \n",
    "\n",
    "1 2 3\n",
    "4 5 6\n",
    "texto\n",
    "\n",
    "Chamada: transformar_arquivo(\"entrada.txt\", \"saida.txt\", lambda x: sum(int(n) for n in x.split()))\n",
    "\n",
    "- Arquivo saida.txt:\n",
    "\n",
    "6\n",
    "15\n",
    "erro"
   ]
  },
  {
   "cell_type": "code",
   "execution_count": null,
   "id": "41b6626e",
   "metadata": {},
   "outputs": [],
   "source": [
    "import os\n",
    "\n",
    "def transformar_arquivo(entrada,saida,transformacao):\n",
    "    \"\"\"\n",
    "    Aplica uma transformação a cada linha de um arquivo e grava o resultado, tratando erros como 'erro'.\n",
    "    \n",
    "    Args:\n",
    "        entrada (str): Caminho do arquivo de entrada.\n",
    "        saida (str): Caminho do arquivo de saída.\n",
    "        transformacao (function): Função a ser aplicada a cada linha.\n",
    "    Raises:\n",
    "        FileNotFoundError: Se o arquivo de entrada não existir.\n",
    "    \"\"\"\n",
    "    try:\n",
    "        with open(entrada,\"r\",encoding=\"utf-8\") as arquivo:\n",
    "            linhas = (arquivo.read()).split(\"\\n\")\n",
    "        with open(saida,\"w\",encoding=\"utf-8\") as somas:\n",
    "            for i in linhas:\n",
    "                try:\n",
    "                    somas.write(f\"{transformacao(i)}\\n\")\n",
    "                except ValueError:\n",
    "                    somas.write(\"erro\\n\")\n",
    "    except FileNotFoundError:\n",
    "        raise FileNotFoundError(\"Arquivo não encontrado\")\n",
    "\n",
    "    \n",
    "\n",
    "try:\n",
    "    pasta = \"C:/Users/celsi/.vscode/codigos/Exerc-cios-do-grok-IA/arquivos_de_exercicios\"\n",
    "    os.makedirs(pasta,exist_ok=True)\n",
    "    entrada = f\"{pasta}/linhas_32.txt\"\n",
    "    saida = f\"{pasta}/somas_32.txt\"\n",
    "    transformacao = lambda x: sum(int(n) for n in x.split())\n",
    "    with open(entrada,\"w\",encoding=\"utf-8\") as arquivo:\n",
    "        arquivo.write(\"1 2 3\\n4 5 6\\ntexto\")\n",
    "    transformar_arquivo(entrada,saida,transformacao)\n",
    "except ValueError as v:\n",
    "    print(v)"
   ]
  },
  {
   "cell_type": "markdown",
   "id": "137c0eb9",
   "metadata": {},
   "source": [
    "### Questão 4: Filtrar Dicionário por Valores Recursivos (dict comprehension)\n",
    "##### Descrição: Crie uma função filtrar_valores(dic, limite) que receba um dicionário com valores possivelmente aninhados (ints, listas ou dicionários) e retorne um novo dicionário com as mesmas chaves, mas apenas valores numéricos maiores que limite, usando dict comprehension. Use uma função recursiva interna para processar aninhamento.\n",
    "Exemplo:\n",
    "- Entrada: {'a': 5, 'b': [1, 10, [3, 15]], 'c': {'x': 2, 'y': 8}}, 10\n",
    "\n",
    "- Saída: {'a': [], 'b': [10, [15]], 'c': {'y': 8}}\n",
    "'a': 5 < 10 → [].\n",
    "\n",
    "'b': [1, 10, [3, 15]] → [10, [15]] (filtra < 10).\n",
    "\n",
    "'c': {'x': 2, 'y': 8} → {'y': 8} (filtra < 10)."
   ]
  },
  {
   "cell_type": "code",
   "execution_count": 31,
   "id": "cb76a408",
   "metadata": {},
   "outputs": [
    {
     "name": "stdout",
     "output_type": "stream",
     "text": [
      "{'a': [], 'b': [[[15]]], 'c': {'x': [], 'y': []}}\n"
     ]
    }
   ],
   "source": [
    "def filtrar_valores(dicionario, limite):\n",
    "    \"\"\"\n",
    "    Filtra valores de um dicionário aninhado, mantendo apenas números maiores que o limite.\n",
    "    \n",
    "    Args:\n",
    "        dicionario (dict): Dicionário com valores possivelmente aninhados (int, list, dict).\n",
    "        limite (int): Valor mínimo para manter os números.\n",
    "    Returns:\n",
    "        dict: Novo dicionário com valores filtrados.\n",
    "    \"\"\"\n",
    "    def filtro_recursivo(valor):\n",
    "        if isinstance(valor,int):\n",
    "            return [valor] if valor > limite else []\n",
    "        elif isinstance(valor,list):\n",
    "            return [filtro_recursivo(item) for item in valor if filtro_recursivo(item)]\n",
    "        elif isinstance(valor,dict):\n",
    "            return {k: filtro_recursivo(v) for k, v in valor.items()}\n",
    "        \n",
    "    return {chave: filtro_recursivo(dicionario[chave]) for chave in dicionario}\n",
    "\n",
    "\n",
    "exemplo, limite = {'a': 5, 'b': [1, 10, [3, 15]], 'c': {'x': 2, 'y': 8}}, 10\n",
    "print(filtrar_valores(exemplo,limite))"
   ]
  },
  {
   "cell_type": "markdown",
   "id": "10cd3bb3",
   "metadata": {},
   "source": [
    "### Questão 5: Soma de Pares em Lista com Counter e Lambda\n",
    "##### Descrição: Escreva uma função soma_pares_counter(lista) que receba uma lista de inteiros e retorne a soma dos elementos que aparecem um número par de vezes, usando Counter e uma list comprehension com lambda.\n",
    "Exemplo:\n",
    "- Entrada: [1, 2, 2, 3, 3, 3, 4, 4]\n",
    "\n",
    "- Saída: 12\n",
    "Frequências: 1 (1x), 2 (2x), 3 (3x), 4 (2x).\n",
    "\n",
    "Pares: 2 (2x) + 4 (2x) = 4 + 8 = 12."
   ]
  },
  {
   "cell_type": "code",
   "execution_count": null,
   "id": "0946f6f5",
   "metadata": {},
   "outputs": [
    {
     "name": "stdout",
     "output_type": "stream",
     "text": [
      "12\n"
     ]
    }
   ],
   "source": [
    "from collections import Counter\n",
    "\n",
    "def soma_pares_counter(lista):\n",
    "    \"\"\"\n",
    "    Soma os elementos de uma lista que aparecem um número par de vezes, multiplicados por sua frequência.\n",
    "    \n",
    "    Args:\n",
    "        lista (list): Lista de inteiros.\n",
    "    Returns:\n",
    "        int: Soma total das aparições dos elementos com frequência par.\n",
    "    \"\"\"\n",
    "    repeticoes = Counter(lista)\n",
    "    return sum((n*repeticoes[n]) for n in repeticoes if repeticoes[n]%2 == 0)\n",
    "\n",
    "\n",
    "entrada = [1, 2, 2, 3, 3, 3, 4, 4]\n",
    "print(soma_pares_counter(entrada))"
   ]
  }
 ],
 "metadata": {
  "kernelspec": {
   "display_name": "Python 3",
   "language": "python",
   "name": "python3"
  },
  "language_info": {
   "codemirror_mode": {
    "name": "ipython",
    "version": 3
   },
   "file_extension": ".py",
   "mimetype": "text/x-python",
   "name": "python",
   "nbconvert_exporter": "python",
   "pygments_lexer": "ipython3",
   "version": "3.13.1"
  }
 },
 "nbformat": 4,
 "nbformat_minor": 5
}
