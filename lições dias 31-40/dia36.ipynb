{
 "cells": [
  {
   "cell_type": "markdown",
   "id": "72e93820",
   "metadata": {},
   "source": [
    "### Questão 1: Substituição Recursiva com Filtro de Vogais\n",
    "##### Escreva uma função recursiva substituir_vogais(texto) que receba uma string e substitua todas as vogais (a, e, i, o, u, maiúsculas ou minúsculas) por asteriscos (*), sem usar loops. A função deve ignorar palavras com menos de 3 letras.  \n",
    "Exemplo:  \n",
    "- Entrada: \"casa sol lua\"  \n",
    "\n",
    "- Saída: \"c*s* s*l l**\"  \n",
    "\"casa\" → \"c*s*\" (a substituído), \"sol\" → \"s*l\" (o substituído), \"lua\" → \"l*\" (u e a substituídos).\n",
    "\n",
    "Restrições: Levante ValueError se a string estiver vazia."
   ]
  },
  {
   "cell_type": "code",
   "execution_count": 7,
   "id": "90b8ac4a",
   "metadata": {},
   "outputs": [
    {
     "name": "stdout",
     "output_type": "stream",
     "text": [
      "c*s* s*l l** \n"
     ]
    }
   ],
   "source": [
    "def substituir_vogais(texto):\n",
    "    if texto == \"\":\n",
    "        raise ValueError(\"A variável está vazia\")\n",
    "    vogais = set(\"aeiou\")\n",
    "    asterisco = \"\"\n",
    "    for i in texto.split():\n",
    "        letras = [n for n in i]\n",
    "        for i in letras:\n",
    "            if i in vogais:\n",
    "                asterisco += \"*\"\n",
    "            else:\n",
    "                asterisco += i\n",
    "        asterisco += \" \"\n",
    "    return asterisco\n",
    "\n",
    "\n",
    "exemplo = \"casa sol lua\"\n",
    "print(substituir_vogais(exemplo))"
   ]
  },
  {
   "cell_type": "code",
   "execution_count": null,
   "id": "c515bc09",
   "metadata": {},
   "outputs": [
    {
     "name": "stdout",
     "output_type": "stream",
     "text": [
      "c*sl\n"
     ]
    }
   ],
   "source": [
    "def substituir_vogais(texto):\n",
    "    if texto == \"\":\n",
    "        raise ValueError(\"A variável está vazia\")\n",
    "    vogais = set(\"aeiou\")\n",
    "    return (\"*\" if texto[0].lower() in vogais else texto[0]) + substituir_vogais(texto[1:]) if texto else \"\"\n",
    "\n",
    "\n",
    "exemplo = \"casa sol lua\"\n",
    "print(substituir_vogais(exemplo))"
   ]
  },
  {
   "cell_type": "markdown",
   "id": "036549e6",
   "metadata": {},
   "source": [
    "### Questão 2: Dicionário de Pares com Gerador\n",
    "##### Escreva uma função pares_por_divisor(numeros) que receba uma lista de números inteiros e retorne um dicionário onde as chaves são divisores (de 2 a 5) e os valores são listas dos números divisíveis por cada divisor, usando um gerador para calcular os divisíveis. Use dict comprehension.  \n",
    "Exemplo:  \n",
    "- Entrada: [4, 6, 8, 10, 15]  \n",
    "\n",
    "- Saída: {2: [4, 6, 8, 10], 3: [6, 15], 4: [4, 8], 5: [10, 15]}\n",
    "\n",
    "Restrições: Ignore divisores sem números correspondentes no dicionário. Levante ValueError se a lista estiver vazia."
   ]
  },
  {
   "cell_type": "code",
   "execution_count": null,
   "id": "d0f9ad5b",
   "metadata": {},
   "outputs": [
    {
     "name": "stdout",
     "output_type": "stream",
     "text": [
      "{2: [4, 6, 8, 10], 3: [6, 15], 4: [4, 8], 5: [10, 15]}\n"
     ]
    }
   ],
   "source": [
    "def pares_por_divisor(numeros):\n",
    "    \"\"\"\n",
    "    Recebe uma lista de números inteiros, e retorna um dicionário com chaves de divisores e valores que são divididos pelas chaves\n",
    "\n",
    "    Args:\n",
    "        numeros(list): Lista de números inteiros\n",
    "    Returns:\n",
    "        dict: Dicionário com divisores nas chaves e divididos nos valores\n",
    "    \"\"\"\n",
    "    if not numeros:\n",
    "        raise ValueError(\"A lista está vazia\")\n",
    "    return {divisor: [n for n in numeros if n%divisor == 0] for divisor in set(x for x in range(2,6))}\n",
    "\n",
    "\n",
    "lista = [4, 6, 8, 10, 15]\n",
    "print(pares_por_divisor(lista))"
   ]
  },
  {
   "cell_type": "code",
   "execution_count": null,
   "id": "51f11a52",
   "metadata": {},
   "outputs": [
    {
     "name": "stdout",
     "output_type": "stream",
     "text": [
      "{2: [4, 6, 8, 10], 3: [6, 15], 4: [4, 8], 5: [10, 15]}\n"
     ]
    }
   ],
   "source": [
    "def pares_por_divisor(numeros):\n",
    "    \"\"\"\n",
    "    Recebe uma lista de números inteiros, e retorna um dicionário com chaves de divisores e valores que são divididos pelas chaves\n",
    "\n",
    "    Args:\n",
    "        numeros(list): Lista de números inteiros\n",
    "    Returns:\n",
    "        dict: Dicionário com divisores nas chaves e divididos nos valores\n",
    "    \"\"\"\n",
    "    if not numeros:\n",
    "        raise ValueError(\"A lista está vazia\")\n",
    "    def divisiveis(numeros, divisor):\n",
    "        for n in numeros:\n",
    "            if n % divisor == 0:\n",
    "                yield n\n",
    "    return {divisor: [n for n in divisiveis(numeros,divisor)] for divisor in set(x for x in range(2,6))}\n",
    "\n",
    "\n",
    "lista = [4, 6, 8, 10, 15]\n",
    "print(pares_por_divisor(lista))"
   ]
  },
  {
   "cell_type": "markdown",
   "id": "0f286951",
   "metadata": {},
   "source": [
    "### Questão 3: Transformação de Arquivo com Try-Except\n",
    "##### Escreva uma função numerar_palavras_arquivo(entrada, saida) que leia um arquivo de texto (entrada), adicione um número sequencial antes de cada palavra em cada linha e grave o resultado em outro arquivo (saida). Use try-except para tratar erros de arquivo.  \n",
    "Exemplo:  \n",
    "- Arquivo entrada.txt:  \n",
    "\n",
    "casa sol\n",
    "lua python\n",
    "\n",
    "- Arquivo saida.txt após execução:  \n",
    "\n",
    "1:casa 2:sol\n",
    "1:lua 2:python\n",
    "\n",
    "Restrições: Levante FileNotFoundError se o arquivo de entrada não existir."
   ]
  },
  {
   "cell_type": "code",
   "execution_count": null,
   "id": "53a4c447",
   "metadata": {},
   "outputs": [],
   "source": [
    "import os\n",
    "\n",
    "def numerar_palavras_arquivo(entrada,saida):\n",
    "    \"\"\"\n",
    "    Lê um arquivo e cria um novo numerando as palavras em cada frase por suas ordens de aparição\n",
    "\n",
    "    Args:\n",
    "        entrada (str): Caminho do arquivo de entrada.\n",
    "        saida (str): Caminho do arquivo de saída.\n",
    "    Raises:\n",
    "        FileNotFoundError: Se o arquivo não existir.\n",
    "    \"\"\"\n",
    "    try:\n",
    "        with open(entrada,\"r\",encoding=\"utf-8\")as arquivo:\n",
    "            texto = arquivo.read().splitlines()\n",
    "        with open(saida,\"w\",encoding=\"utf-8\") as contada:\n",
    "            for frase in texto:\n",
    "                numerador = 1\n",
    "                for p in frase.split():\n",
    "                    contada.write(f\"{numerador}:{p} \")\n",
    "                    numerador+=1\n",
    "                contada.write(\"\\n\")\n",
    "    except FileNotFoundError:\n",
    "        raise FileNotFoundError(\"Arquivo não encontrado\")\n",
    "\n",
    "pasta =\"C:/Users/Celso.O.C/PycharmProjects/progamation/Exercícios/Exerc-cios-do-grok-IA/arquivos_de_exercicios/arquivos_dias_31_40\"\n",
    "os.makedirs(pasta,exist_ok=True)\n",
    "entrada = f\"{pasta}/frase_36.txt\"\n",
    "saida = f\"{pasta}/contador_36.txt\"\n",
    "try:\n",
    "    with open(entrada,\"w\",encoding=\"utf-8\") as arquivo:\n",
    "        arquivo.write(\"casa sol\\nlua python\")\n",
    "    numerar_palavras_arquivo(entrada,saida)\n",
    "except PermissionError as e:\n",
    "    print(e)"
   ]
  },
  {
   "cell_type": "markdown",
   "id": "4eff0ddf",
   "metadata": {},
   "source": [
    "### Questão 4: Filtragem Recursiva de Tuplas por Soma\n",
    "##### Escreva uma função recursiva filtrar_tuplas_por_soma(tuplas, limite) que receba uma lista de tuplas de inteiros e retorne uma nova lista contendo apenas as tuplas cuja soma dos elementos é maior que limite, sem usar loops.  \n",
    "Exemplo:  \n",
    "Entrada: [(1, 2), (3, 4), (1, 1)], limite=3  \n",
    "\n",
    "Saída: [(3, 4)]  \n",
    "Soma de (1, 2) = 3, (3, 4) = 7, (1, 1) = 2; apenas (3, 4) tem soma > 3.\n",
    "\n",
    "Restrições: Retorne lista vazia se a entrada for vazia."
   ]
  },
  {
   "cell_type": "code",
   "execution_count": 40,
   "id": "72e257c3",
   "metadata": {},
   "outputs": [
    {
     "name": "stdout",
     "output_type": "stream",
     "text": [
      "[(3, 4)]\n"
     ]
    }
   ],
   "source": [
    "def filtrar_tuplas_por_soma(tupla,limite):\n",
    "    \"\"\"\n",
    "    Recebe uma lista de tuplas e um limite, retorna uma nova lista com as tuplas\n",
    "    com somatório maior que o limite\n",
    "\n",
    "    Arg:\n",
    "        tupla(list): Lista inicial com todas as tuplas\n",
    "        limit(int): Valor limite para a soma das tuplas\n",
    "    Returns:\n",
    "        somaveis(list): Lista com somente tuplas de soma maior que o limite\n",
    "    \"\"\"\n",
    "    somaveis = []\n",
    "    if tupla:\n",
    "        if sum(tupla[0]) > limite:\n",
    "            somaveis.append(tupla[0])\n",
    "    return somaveis + (filtrar_tuplas_por_soma(tupla[1:],limite) if tupla else [])\n",
    "\n",
    "\n",
    "exemplo = [(1, 2), (3, 4), (1, 1)]\n",
    "limite=3\n",
    "print(filtrar_tuplas_por_soma(exemplo,limite))"
   ]
  },
  {
   "cell_type": "code",
   "execution_count": 8,
   "id": "68f1e997",
   "metadata": {},
   "outputs": [
    {
     "name": "stdout",
     "output_type": "stream",
     "text": [
      "[(3, 4)]\n"
     ]
    }
   ],
   "source": [
    "def filtrar_tuplas_por_soma(tupla,limite):\n",
    "    \"\"\"\n",
    "    Recebe uma lista de tuplas e um limite, retorna uma nova lista com as tuplas\n",
    "    com somatório maior que o limite\n",
    "\n",
    "    Arg:\n",
    "        tupla(list): Lista inicial com todas as tuplas\n",
    "        limit(int): Valor limite para a soma das tuplas\n",
    "    Returns:\n",
    "        somaveis(list): Lista com somente tuplas de soma maior que o limite\n",
    "    \"\"\"\n",
    "    if not tupla:\n",
    "        return []\n",
    "    return [tupla[0]] + filtrar_tuplas_por_soma(tupla[1:],limite) if sum(tupla[0]) > limite else filtrar_tuplas_por_soma(tupla[1:],limite)\n",
    "\n",
    "\n",
    "exemplo = [(1, 2), (3, 4), (1, 1)]\n",
    "limite=3\n",
    "print(filtrar_tuplas_por_soma(exemplo,limite))"
   ]
  },
  {
   "cell_type": "markdown",
   "id": "71b705d2",
   "metadata": {},
   "source": [
    "### Questão 5: Contagem de Palavras com Gerador em Arquivo\n",
    "##### Escreva uma função contar_palavras_unicas(arquivo) que use um gerador para ler palavras únicas de um arquivo de texto e retorne um dicionário com a contagem de quantas vezes cada palavra aparece, ignorando palavras com menos de 4 letras. Use Counter para a contagem.  \n",
    "Exemplo:  \n",
    "- Arquivo texto.txt:  \n",
    "\n",
    "casa sol casa lua python sol\n",
    "\n",
    "- Saída: Counter({'casa': 2, 'python': 1})  \n",
    "\"sol\" e \"lua\" têm menos de 4 letras, então são ignorados.\n",
    "\n",
    "Restrições: Levante FileNotFoundError se o arquivo não existir."
   ]
  },
  {
   "cell_type": "code",
   "execution_count": null,
   "id": "68293e0b",
   "metadata": {},
   "outputs": [
    {
     "name": "stdout",
     "output_type": "stream",
     "text": [
      "{'casa': 2, 'python': 1}\n"
     ]
    }
   ],
   "source": [
    "import os\n",
    "from collections import Counter\n",
    "\n",
    "def contar_palavras_unicas(entrada):\n",
    "    \"\"\"\n",
    "    Lê um arquivo e cria um dicionário com chaves de palavras maiores que 4 caracteres e\n",
    "    valores de quantas vezes essas palavras aparecem\n",
    "\n",
    "    Args:\n",
    "        entrada (str): Caminho do arquivo de entrada.\n",
    "        saida (str): Caminho do arquivo de saída.\n",
    "    Returns:\n",
    "        dict: chaves são palavras com mais de 4 caracteres, valores são quantas vezes cada palavra aparece\n",
    "    Raises:\n",
    "        FileNotFoundError: Se o arquivo não existir.\n",
    "    \"\"\"\n",
    "    try:\n",
    "        with open(entrada,\"r\",encoding=\"utf-8\")as arquivo:\n",
    "            texto = Counter(arquivo.read().split())\n",
    "            return {plv: texto[plv] for plv in texto if len(plv)>=4}\n",
    "    except FileNotFoundError:\n",
    "        raise FileNotFoundError(\"Arquivo não encontrado\")\n",
    "\n",
    "pasta =\"C:/Users/Celso.O.C/PycharmProjects/progamation/Exercícios/Exerc-cios-do-grok-IA/arquivos_de_exercicios/arquivos_dias_31_40\"\n",
    "os.makedirs(pasta,exist_ok=True)\n",
    "entrada = f\"{pasta}/texto_p_dict_36.txt\"\n",
    "with open(entrada,\"w\",encoding=\"utf-8\") as arquivo:\n",
    "    arquivo.write(\"casa sol casa lua python sol\")\n",
    "print(contar_palavras_unicas(entrada))"
   ]
  },
  {
   "cell_type": "code",
   "execution_count": 6,
   "id": "7827b4dd",
   "metadata": {},
   "outputs": [
    {
     "name": "stdout",
     "output_type": "stream",
     "text": [
      "{'casa': 2, 'python': 1}\n"
     ]
    }
   ],
   "source": [
    "import os\n",
    "from collections import Counter\n",
    "\n",
    "def contar_palavras_unicas(entrada):\n",
    "    \"\"\"\n",
    "    Lê um arquivo e cria um dicionário com chaves de palavras maiores que 4 caracteres e\n",
    "    valores de quantas vezes essas palavras aparecem\n",
    "\n",
    "    Args:\n",
    "        entrada (str): Caminho do arquivo de entrada.\n",
    "        saida (str): Caminho do arquivo de saída.\n",
    "    Returns:\n",
    "        dict: chaves são palavras com mais de 4 caracteres, valores são quantas vezes cada palavra aparece\n",
    "    Raises:\n",
    "        FileNotFoundError: Se o arquivo não existir.\n",
    "    \"\"\"\n",
    "    def palavras_unicas(arquivo):\n",
    "        with open(arquivo, \"r\", encoding=\"utf-8\") as f:\n",
    "            for linha in f:\n",
    "                for palavra in linha.split():\n",
    "                    if len(palavra) >= 4:\n",
    "                        yield palavra\n",
    "    try:\n",
    "        with open(entrada,\"r\",encoding=\"utf-8\")as arquivo:\n",
    "            unicas = {}\n",
    "            texto = Counter(arquivo.read().split())\n",
    "            for n in palavras_unicas(entrada):\n",
    "                unicas[n] = texto[n]\n",
    "            return unicas\n",
    "    except FileNotFoundError:\n",
    "        raise FileNotFoundError(\"Arquivo não encontrado\")\n",
    "\n",
    "pasta =\"C:/Users/Celso.O.C/PycharmProjects/progamation/Exercícios/Exerc-cios-do-grok-IA/arquivos_de_exercicios/arquivos_dias_31_40\"\n",
    "os.makedirs(pasta,exist_ok=True)\n",
    "entrada = f\"{pasta}/texto_p_dict_36.txt\"\n",
    "with open(entrada,\"w\",encoding=\"utf-8\") as arquivo:\n",
    "    arquivo.write(\"casa sol casa lua python sol\")\n",
    "print(contar_palavras_unicas(entrada))"
   ]
  }
 ],
 "metadata": {
  "kernelspec": {
   "display_name": "Python 3",
   "language": "python",
   "name": "python3"
  },
  "language_info": {
   "codemirror_mode": {
    "name": "ipython",
    "version": 3
   },
   "file_extension": ".py",
   "mimetype": "text/x-python",
   "name": "python",
   "nbconvert_exporter": "python",
   "pygments_lexer": "ipython3",
   "version": "3.11.4"
  }
 },
 "nbformat": 4,
 "nbformat_minor": 5
}
