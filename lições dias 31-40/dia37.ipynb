{
 "cells": [
  {
   "cell_type": "markdown",
   "id": "c46dfeb4",
   "metadata": {},
   "source": [
    "### Questão 1: Inversão Recursiva de Palavras\n",
    "##### Escreva uma função recursiva inverter_palavras(texto) que inverta a ordem das palavras em uma string, sem usar loops, e retorne a string resultante com os mesmos espaços. A função deve levantar ValueError se a string estiver vazia.  \n",
    "Exemplo:  \n",
    "- Entrada: \"casa sol lua\"  \n",
    "\n",
    "- Saída: \"lua sol casa\"\n",
    "\n",
    "- Restrições:  \n",
    "Use recursão para processar as palavras.  \n",
    "\n",
    "Não use loops.  \n",
    "\n",
    "Considere que a entrada tem palavras separadas por um único espaço.  \n",
    "\n",
    "Levante ValueError se texto.strip() == \"\"."
   ]
  },
  {
   "cell_type": "code",
   "execution_count": 26,
   "id": "d11abf67",
   "metadata": {},
   "outputs": [
    {
     "name": "stdout",
     "output_type": "stream",
     "text": [
      "lua sol casa\n"
     ]
    }
   ],
   "source": [
    "def inverter_palavras(texto):\n",
    "    if texto.strip() == \"\":\n",
    "        raise ValueError(\"Texto vazio\")\n",
    "    palavras = texto.split()\n",
    "    if len(palavras) == 1:\n",
    "        return palavras[0]\n",
    "    return palavras[-1] + \" \" + (inverter_palavras(\" \".join(palavras[:-1])))\n",
    "\n",
    "\n",
    "\n",
    "try:\n",
    "    exemplo = \"casa sol lua\"\n",
    "    print(inverter_palavras(exemplo))\n",
    "except ValueError as v:\n",
    "    print(v)"
   ]
  },
  {
   "cell_type": "code",
   "execution_count": null,
   "id": "5ff7f60a",
   "metadata": {},
   "outputs": [
    {
     "name": "stdout",
     "output_type": "stream",
     "text": [
      "lua sol casa\n"
     ]
    }
   ],
   "source": [
    "def inverter_palavras(texto):\n",
    "    inversa = texto.split()[::-1]\n",
    "    return \" \".join(inversa)\n",
    "\n",
    "\n",
    "try:\n",
    "    exemplo = \"casa sol lua\"\n",
    "    print(inverter_palavras(exemplo))\n",
    "except ValueError as v:\n",
    "    print(v)"
   ]
  },
  {
   "cell_type": "markdown",
   "id": "2b609048",
   "metadata": {},
   "source": [
    "### Questão 2: Gerador de Números Primos\n",
    "##### Escreva uma função primos_ate_n(n) que use um gerador para produzir todos os números primos de 2 até n (inclusive), na ordem crescente. A função deve levantar ValueError se n < 2.  \n",
    "Exemplo:  \n",
    "- Entrada: n = 10  \n",
    "\n",
    "- Saída: [2, 3, 5, 7] (ao coletar o gerador em uma lista)\n",
    "\n",
    "- Restrições:  \n",
    "Use yield para gerar os primos um a um.  \n",
    "\n",
    "Um número primo é divisível apenas por 1 e por ele mesmo.  \n",
    "\n",
    "Teste a primalidade de forma eficiente (ex.: só verificar divisores até a raiz quadrada).  \n",
    "\n",
    "Levante ValueError se n < 2.\n",
    "\n"
   ]
  },
  {
   "cell_type": "code",
   "execution_count": null,
   "id": "62fb303a",
   "metadata": {},
   "outputs": [
    {
     "name": "stdout",
     "output_type": "stream",
     "text": [
      "[2, 3, 5]\n"
     ]
    }
   ],
   "source": [
    "def primos_ate_n(n):\n",
    "    if n < 2:\n",
    "        raise ValueError(\"Valor inválido!\")\n",
    "    def prime(prm):\n",
    "        p = int(prm**(1/2)+1)\n",
    "        for d in range(2,p):\n",
    "            if prm%d == 0:\n",
    "                return False\n",
    "        return True\n",
    "    for v in range(2,n+1):\n",
    "        if prime(v):\n",
    "            yield v\n",
    "\n",
    "\n",
    "n = 10\n",
    "try:\n",
    "    print(list(primos_ate_n(n)))\n",
    "except ValueError as v:\n",
    "    print(v)"
   ]
  },
  {
   "cell_type": "markdown",
   "id": "1f792623",
   "metadata": {},
   "source": [
    "### Questão 3: Contagem de Letras em Arquivo\n",
    "##### Escreva uma função contar_letras_arquivo(entrada, saida) que leia um arquivo de texto, conte a frequência de cada letra (ignorando espaços, números e caracteres especiais, considerando maiúsculas e minúsculas como iguais), e grave o resultado em outro arquivo como pares letra:contagem, um por linha, em ordem alfabética. Levante FileNotFoundError se o arquivo de entrada não existir.  \n",
    "Exemplo:  \n",
    "- Arquivo de entrada: \"casa sol\\nlua 123!\"  \n",
    "\n",
    "- Arquivo de saída:  \n",
    "\n",
    "a:3\n",
    "c:1\n",
    "l:3\n",
    "o:1\n",
    "s:2\n",
    "u:1\n",
    "\n",
    "- Restrições:  \n",
    "Use Counter para contagem.  \n",
    "\n",
    "Ignore qualquer caractere que não seja letra (a-z, A-Z).  \n",
    "\n",
    "Escreva no arquivo de saída em ordem alfabética.  \n",
    "\n",
    "Levante FileNotFoundError se o arquivo de entrada não existir.\n",
    "\n"
   ]
  },
  {
   "cell_type": "code",
   "execution_count": null,
   "id": "a3b6365d",
   "metadata": {},
   "outputs": [],
   "source": [
    "import os\n",
    "from collections import Counter\n",
    "\n",
    "def contar_letras_arquivo(entrada, saida):\n",
    "    try:\n",
    "        with open(entrada,\"r\",encoding=\"utf-8\") as fonte:\n",
    "            texto = fonte.read()\n",
    "    except FileNotFoundError as f:\n",
    "        raise FileNotFoundError(\"Arquivo de entrada não encontrado\")\n",
    "    with open(saida,\"w\",encoding=\"utf-8\") as contagem:\n",
    "        letras = [l for l in texto.lower() if l.isalpha()]\n",
    "        contador = Counter(letras)\n",
    "        for l,n in sorted(contador.items()):\n",
    "            contagem.write(f\"{l}:{n}\\n\")\n",
    "\n",
    "\n",
    "pasta = \"C:/Users/Celso.O.C/PycharmProjects/progamation/Exercícios/Exerc-cios-do-grok-IA/arquivos_de_exercicios/arquivos_dias_31_40\"\n",
    "os.makedirs(pasta, exist_ok=True)\n",
    "entrada = f\"{pasta}/texto_37.txt\"\n",
    "saida = f\"{pasta}/contagem_37.txt\"\n",
    "try:\n",
    "    with open(entrada, \"w\", encoding=\"utf-8\") as arquivo:\n",
    "        arquivo.write(\"casa sol\\nlua 123!\")\n",
    "    contar_letras_arquivo(entrada, saida)\n",
    "except FileNotFoundError as f:\n",
    "    print(f)"
   ]
  },
  {
   "cell_type": "markdown",
   "id": "43ef6f5b",
   "metadata": {},
   "source": [
    "### Questão 4: Filtragem Recursiva de Listas Aninhadas\n",
    "##### Escreva uma função recursiva filtrar_positivos(lista) que receba uma lista possivelmente aninhada (contendo números inteiros e/ou listas) e retorne uma nova lista com a mesma estrutura, mas contendo apenas números positivos. Não use loops.  \n",
    "Exemplo:  \n",
    "- Entrada: [1, -2, [3, -4, 5], [0, [6, -7]]]  \n",
    "\n",
    "- Saída: [1, [3, 5], [0, [6]]]\n",
    "\n",
    "- Restrições:  \n",
    "Use recursão para processar a lista e suas sublistas.  \n",
    "\n",
    "Não use loops.  \n",
    "\n",
    "Mantenha a estrutura original (sublistas nos mesmos níveis).  \n",
    "\n",
    "Considere que a lista pode estar vazia ([] retorna []).\n",
    "\n"
   ]
  },
  {
   "cell_type": "code",
   "execution_count": null,
   "id": "b06fa276",
   "metadata": {},
   "outputs": [
    {
     "name": "stdout",
     "output_type": "stream",
     "text": [
      "[1, 3, 5, 6]\n"
     ]
    }
   ],
   "source": [
    "def filtrar_positivos(lista):\n",
    "    if not lista:\n",
    "        return []\n",
    "    \n",
    "    def aninhada(termo):\n",
    "        if isinstance(termo,(int,float)):\n",
    "            return [termo] if termo > 0 else []\n",
    "        if isinstance(termo,list):\n",
    "            return aninhada(termo[0]) + aninhada(termo[1:]) if termo else []\n",
    "        return []\n",
    "\n",
    "    if isinstance(lista,(int,float)):\n",
    "        return[lista] if lista > 0 else []\n",
    "    return aninhada(lista)\n",
    "\n",
    "exemplo = [1, -2, [3, -4, 5], [0, [6, -7]]]\n",
    "print(filtrar_positivos(exemplo))"
   ]
  },
  {
   "cell_type": "markdown",
   "id": "e33a2fd0",
   "metadata": {},
   "source": [
    "### Questão 5: Decorador para Registro de Erros\n",
    "##### Escreva uma função contar_palavras(texto) que conte palavras únicas (ignorando maiúsculas/minúsculas) e retorne um dicionário com as palavras como chaves e suas contagens como valores. Use Counter. A função deve ser decorada com um decorador registrar_erro que grave em um arquivo erros_37.txt qualquer ValueError levantado (mensagem: \"Erro: {mensagem}\"), mas permita que o erro seja propagado. Levante ValueError se a string estiver vazia.  \n",
    "Exemplo:  \n",
    "- Entrada: \"Casa casa SOL sol\"  \n",
    "\n",
    "- Saída: {'casa': 2, 'sol': 2}  \n",
    "\n",
    "Se entrada: \"\", grava \"Erro: String vazia\" em erros_37.txt e levanta ValueError.\n",
    "\n",
    "- Restrições:  \n",
    "Use Counter para contagem.  \n",
    "\n",
    "Ignore maiúsculas/minúsculas (ex.: \"Casa\" = \"casa\").  \n",
    "\n",
    "O decorador deve registrar o erro em C:/Users/Celso.O.C/PycharmProjects/progamation/Exercícios/Exerc-cios-do-grok-IA/arquivos_de_exercicios/arquivos_dias_31_40/erros_37.txt.  \n",
    "\n",
    "Levante ValueError se texto.strip() == \"\"."
   ]
  },
  {
   "cell_type": "code",
   "execution_count": 39,
   "id": "8f08fa56",
   "metadata": {},
   "outputs": [
    {
     "name": "stdout",
     "output_type": "stream",
     "text": [
      "{'casa': 2, 'sol': 2}\n",
      "Erro capturado: Texto vazio\n"
     ]
    }
   ],
   "source": [
    "import os\n",
    "from collections import Counter\n",
    "\n",
    "def registrar_erro(funcao):\n",
    "    def wrapper(texto):\n",
    "        try:\n",
    "            return funcao(texto)\n",
    "        except ValueError as v:   \n",
    "            error = \"C:/Users/Celso.O.C/PycharmProjects/progamation/Exercícios/Exerc-cios-do-grok-IA/arquivos_de_exercicios/arquivos_dias_31_40/erros_5_37.txt\"\n",
    "            with open(error,\"a\",encoding=\"utf-8\") as erro:\n",
    "                erro.write(f\"Erro: {str(v)}\\n\")\n",
    "            raise\n",
    "    return wrapper\n",
    "\n",
    "@registrar_erro\n",
    "def contar_palavras(texto):\n",
    "    if texto.strip() == \"\":\n",
    "        raise ValueError(\"Texto vazio\")\n",
    "    return dict(Counter(texto.lower().split()))\n",
    "\n",
    "\n",
    "pasta = \"C:/Users/Celso.O.C/PycharmProjects/progamation/Exercícios/Exerc-cios-do-grok-IA/arquivos_de_exercicios/arquivos_dias_31_40\"\n",
    "os.makedirs(pasta, exist_ok=True)\n",
    "exemplo = \"Casa casa SOL sol\"\n",
    "try:\n",
    "    print(contar_palavras(exemplo))\n",
    "    contar_palavras(\"\")\n",
    "    contar_palavras(exemplo)\n",
    "except ValueError as e:\n",
    "    print(f\"Erro capturado: {e}\")\n",
    "except FileNotFoundError as f:\n",
    "    print(f)"
   ]
  }
 ],
 "metadata": {
  "kernelspec": {
   "display_name": "Python 3",
   "language": "python",
   "name": "python3"
  },
  "language_info": {
   "codemirror_mode": {
    "name": "ipython",
    "version": 3
   },
   "file_extension": ".py",
   "mimetype": "text/x-python",
   "name": "python",
   "nbconvert_exporter": "python",
   "pygments_lexer": "ipython3",
   "version": "3.11.4"
  }
 },
 "nbformat": 4,
 "nbformat_minor": 5
}
