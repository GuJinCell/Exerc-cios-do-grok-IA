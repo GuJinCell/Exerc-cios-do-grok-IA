{
 "cells": [
  {
   "cell_type": "markdown",
   "metadata": {},
   "source": [
    "### Questão 1: Strings e Manipulação\n",
    "##### Enunciado: Escreva um programa que receba uma frase como entrada e imprima a mesma frase, mas com cada palavra invertida. As palavras devem manter a ordem original na frase.\n",
    "Exemplo:\n",
    "- Entrada: \"Eu gosto de python\"\n",
    "\n",
    "- Saída: \"uE otsog ed nohtyp\"\n",
    "\n"
   ]
  },
  {
   "cell_type": "code",
   "execution_count": null,
   "metadata": {},
   "outputs": [
    {
     "name": "stdout",
     "output_type": "stream",
     "text": [
      "uE otsog ed nohtyp\n"
     ]
    }
   ],
   "source": [
    "frase = input(\"Escreva uma frase qualquer: \")\n",
    "docontra = \"\"\n",
    "for i in frase.split(\" \"):\n",
    "   docontra += i[-1::-1]+ \" \"\n",
    "print(docontra.strip())"
   ]
  },
  {
   "cell_type": "markdown",
   "metadata": {},
   "source": [
    "### Questão 2: Listas e Condições\n",
    "##### Enunciado: Escreva uma função tem_duplicados que receba uma lista de números inteiros como parâmetro e retorne True se houver pelo menos um número duplicado e False caso contrário. Use a função em um programa com uma lista fixa de 6 números e imprima o resultado.\n",
    "Exemplo:\n",
    "- Lista: [1, 5, 3, 5, 2, 8] → Saída: True (5 aparece duas vezes)\n",
    "\n",
    "- Lista: [4, 7, 2, 9, 1, 6] → Saída: False\n",
    "\n"
   ]
  },
  {
   "cell_type": "code",
   "execution_count": 11,
   "metadata": {},
   "outputs": [
    {
     "name": "stdout",
     "output_type": "stream",
     "text": [
      "True\n"
     ]
    }
   ],
   "source": [
    "def tem_duplicados(inteiros):\n",
    "    for i in range (len(inteiros)):\n",
    "        for j in range(len(inteiros)):\n",
    "            if inteiros[i] == inteiros[j] and i != j:\n",
    "                return True\n",
    "    return False\n",
    "\n",
    "lista_de_numeros = [1, 5, 3, 5, 2, 8]\n",
    "print(tem_duplicados(lista_de_numeros))\n",
    "\n"
   ]
  },
  {
   "cell_type": "markdown",
   "metadata": {},
   "source": [
    "### Questão 3: Loops e Funções\n",
    "##### Enunciado: Escreva uma função fatorial que receba um número inteiro positivo como parâmetro e retorne seu fatorial (ex.: 5! = 5 × 4 × 3 × 2 × 1). Use um loop for na função. No programa principal, peça um número ao usuário e imprima o fatorial, mas só se o número for maior ou igual a 0; caso contrário, imprima \"Número inválido!\".\n",
    "Exemplo:\n",
    "- Entrada: 5 → Saída: 120\n",
    "\n",
    "- Entrada: -3 → Saída: \"Número inválido!\"\n",
    "\n"
   ]
  },
  {
   "cell_type": "code",
   "execution_count": null,
   "metadata": {},
   "outputs": [
    {
     "data": {
      "text/plain": [
       "720"
      ]
     },
     "execution_count": 25,
     "metadata": {},
     "output_type": "execute_result"
    }
   ],
   "source": [
    "def fatorial(inteiro):\n",
    "    base = 1\n",
    "    for i in range (1, inteiro+1):\n",
    "        base *= i\n",
    "    return base\n",
    "\n",
    "valor = int(input(\"Digite um número inteiro maior que 0: \"))\n",
    "while valor < 1:\n",
    "    valor = int(input(\"Número inválido, digite um número inteiro maior que 0: \"))\n",
    "print(fatorial(valor))"
   ]
  },
  {
   "cell_type": "markdown",
   "metadata": {},
   "source": [
    "### Questão 4: Introdução a Dicionários\n",
    "##### Enunciado: Escreva um programa que receba 5 pares de entrada do usuário no formato \"nome,nota\" (ex.: \"Ana,8\"), um por linha, e armazene-os em um dicionário onde a chave é o nome e o valor é a nota (como inteiro). Depois, imprima o nome e a nota da pessoa com a maior nota.\n",
    "Exemplo:\n",
    "-Entradas:\n",
    "\n",
    "Ana,8\n",
    "João,7\n",
    "Maria,9\n",
    "Pedro,6\n",
    "Luiza,8\n",
    "\n",
    "- Saída: \"Maria: 9\""
   ]
  },
  {
   "cell_type": "code",
   "execution_count": null,
   "metadata": {},
   "outputs": [
    {
     "name": "stdout",
     "output_type": "stream",
     "text": [
      "Su:9\n"
     ]
    }
   ],
   "source": [
    "boletim = {}\n",
    "\n",
    "for i in range(5):\n",
    "    nome, nota = input(\"Escreva o nome do aluno\").capitalize(), input(\"Escreva a nota do aluno\")\n",
    "    boletim[nome] =int(nota)\n",
    "\n",
    "maior_nota = max(boletim, key=boletim.get)\n",
    "print(f\"{maior_nota}:{boletim[maior_nota]}\")"
   ]
  }
 ],
 "metadata": {
  "kernelspec": {
   "display_name": "Python 3",
   "language": "python",
   "name": "python3"
  },
  "language_info": {
   "codemirror_mode": {
    "name": "ipython",
    "version": 3
   },
   "file_extension": ".py",
   "mimetype": "text/x-python",
   "name": "python",
   "nbconvert_exporter": "python",
   "pygments_lexer": "ipython3",
   "version": "3.13.1"
  }
 },
 "nbformat": 4,
 "nbformat_minor": 2
}
