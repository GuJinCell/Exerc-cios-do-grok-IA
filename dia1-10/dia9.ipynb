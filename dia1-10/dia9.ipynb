{
 "cells": [
  {
   "cell_type": "markdown",
   "metadata": {},
   "source": [
    "### Questão 1: Strings e Filtros\n",
    "##### Enunciado: Escreva um programa que receba uma frase como entrada e imprima apenas as palavras que começam com uma consoante (qualquer letra que não seja a, e, i, o, u). Ignore maiúsculas/minúsculas.\n",
    "Exemplo:\n",
    "- Entrada: \"Eu gosto de ouvir musica\"\n",
    "\n",
    "- Saída: \"gosto musica\"\n",
    "\n"
   ]
  },
  {
   "cell_type": "code",
   "execution_count": null,
   "metadata": {},
   "outputs": [
    {
     "name": "stdout",
     "output_type": "stream",
     "text": [
      "['gosto', 'de', 'musica']\n"
     ]
    }
   ],
   "source": [
    "frase = input(\"\").lower()\n",
    "partido = frase.split()\n",
    "vogais = [\"a\",\"e\",\"i\",\"o\",\"u\"]\n",
    "comeca_v = [palavra for palavra in partido if palavra[0]  not in  vogais]\n",
    "print (*comeca_v)"
   ]
  },
  {
   "cell_type": "markdown",
   "metadata": {},
   "source": [
    "### Questão 2: Listas e Manipulação\n",
    "##### Enunciado: Escreva uma função inverter_parcial que receba uma lista de números inteiros e um número inteiro k como parâmetros. A função deve inverter os primeiros k elementos da lista e retornar a lista resultante (os elementos após k ficam como estão). Use a função em um programa com uma lista fixa de 6 números e k = 3, imprimindo o resultado.\n",
    "Exemplo:\n",
    "- Lista: [1, 2, 3, 4, 5, 6], k = 3\n",
    "\n",
    "- Saída: [3, 2, 1, 4, 5, 6]"
   ]
  },
  {
   "cell_type": "code",
   "execution_count": 35,
   "metadata": {},
   "outputs": [
    {
     "name": "stdout",
     "output_type": "stream",
     "text": [
      "[3, 2, 1, 4, 5, 6]\n"
     ]
    }
   ],
   "source": [
    "def inverter_parcial(lista_int, k):\n",
    "    revertido = lista_int[:k][::-1] + lista_int[k:]\n",
    "    return revertido\n",
    "\n",
    "Lista = [1, 2, 3, 4, 5, 6]\n",
    "k = 3\n",
    "print(inverter_parcial(Lista, k))"
   ]
  },
  {
   "cell_type": "markdown",
   "metadata": {},
   "source": [
    "### Questão 3: Dicionários e Transformação\n",
    "##### Enunciado: Escreva um programa que receba 5 pares \"nome,idade\" (ex.: \"Ana,25\") como entrada, um por linha, e armazene em um dicionário. Depois, crie um novo dicionário com os mesmos nomes, mas com as idades aumentadas em 10 anos, e imprima esse novo dicionário.\n",
    "Exemplo:\n",
    "- Entradas:\n",
    "\n",
    "Ana,25\n",
    "João,30\n",
    "Maria,22\n",
    "Pedro,28\n",
    "Luiza,19\n",
    "\n",
    "- Saída: {'Ana': 35, 'João': 40, 'Maria': 32, 'Pedro': 38, 'Luiza': 29}"
   ]
  },
  {
   "cell_type": "code",
   "execution_count": null,
   "metadata": {},
   "outputs": [],
   "source": [
    "idades = {}\n",
    "for i in range(5):\n",
    "    nome, idade = input(\"\").split(\",\")\n",
    "    idades[nome] = int(idade)\n",
    "mais_10_anos = {nome: idade + 10 for nome, idade in idades.items()}\n",
    "print (mais_10_anos)"
   ]
  },
  {
   "cell_type": "markdown",
   "metadata": {},
   "source": [
    "### Questão 4: Loops e Matemática\n",
    "##### Enunciado: Escreva um programa que receba um número inteiro positivo como entrada e imprima a soma dos seus divisores próprios (excluindo o próprio número). Use um loop for.\n",
    "Exemplo:\n",
    "- Entrada: 6\n",
    "\n",
    "- Saída: 6 (divisores próprios: 1, 2, 3 → 1 + 2 + 3 = 6)\n",
    "\n",
    "- Entrada: 8\n",
    "\n",
    "- Saída: 7 (divisores próprios: 1, 2, 4 → 1 + 2 + 4 = 7)"
   ]
  },
  {
   "cell_type": "code",
   "execution_count": 25,
   "metadata": {},
   "outputs": [
    {
     "name": "stdout",
     "output_type": "stream",
     "text": [
      "1\n"
     ]
    }
   ],
   "source": [
    "numero = int(input())\n",
    "soma_div = 0\n",
    "for i in range(1,numero):\n",
    "    if numero%i == 0:\n",
    "        soma_div += i\n",
    "print(soma_div)"
   ]
  }
 ],
 "metadata": {
  "kernelspec": {
   "display_name": "Python 3",
   "language": "python",
   "name": "python3"
  },
  "language_info": {
   "codemirror_mode": {
    "name": "ipython",
    "version": 3
   },
   "file_extension": ".py",
   "mimetype": "text/x-python",
   "name": "python",
   "nbconvert_exporter": "python",
   "pygments_lexer": "ipython3",
   "version": "3.11.4"
  }
 },
 "nbformat": 4,
 "nbformat_minor": 2
}
