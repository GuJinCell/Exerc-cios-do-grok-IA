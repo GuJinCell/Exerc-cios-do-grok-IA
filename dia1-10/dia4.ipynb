{
 "cells": [
  {
   "cell_type": "markdown",
   "metadata": {},
   "source": [
    "### Questão 1: Strings e Funções\n",
    "##### Enunciado: Escreva uma função chamada contar_letras que receba uma palavra como parâmetro e retorne a quantidade de letras (sem contar espaços ou caracteres especiais). Use a função em um programa que peça uma palavra ao usuário e imprima o resultado.\n",
    "Exemplo:\n",
    "- Entrada: \"python\"\n",
    "\n",
    "- Saída: 6\n",
    "\n",
    "- Entrada: \"oi mundo!\"\n",
    "\n",
    "- Saída: 7 (ignora o espaço e a exclamação)\n",
    "\n"
   ]
  },
  {
   "cell_type": "code",
   "execution_count": 47,
   "metadata": {},
   "outputs": [
    {
     "name": "stdout",
     "output_type": "stream",
     "text": [
      "0\n"
     ]
    }
   ],
   "source": [
    "def contar_letras(palavra):\n",
    "    palavra = palavra.strip(\" \")\n",
    "    soma = 0\n",
    "    for i in range(len(palavra)):\n",
    "        if palavra[i].isalpha():\n",
    "            soma += 1\n",
    "    return soma\n",
    "\n",
    "\n",
    "\n",
    "user_word = input(\"Escreva uma palavra\")\n",
    "print(contar_letras(user_word))\n"
   ]
  },
  {
   "cell_type": "markdown",
   "metadata": {},
   "source": [
    "### Questão 2: Listas e Condições\n",
    "##### Enunciado: Crie uma lista com 6 números inteiros quaisquer. Escreva um programa que verifique quantos números na lista são divisíveis por 3 e imprima esse total.\n",
    "Exemplo:\n",
    "- Lista: [3, 7, 12, 4, 9, 15]\n",
    "\n",
    "- Saída: 4 (3, 12, 9 e 15 são divisíveis por 3)\n",
    "\n"
   ]
  },
  {
   "cell_type": "code",
   "execution_count": 34,
   "metadata": {},
   "outputs": [
    {
     "name": "stdout",
     "output_type": "stream",
     "text": [
      "4\n"
     ]
    }
   ],
   "source": [
    "numeros = [3, 7, 12, 4, 9, 15]\n",
    "divisivel = 0\n",
    "for i in numeros:\n",
    "    if i%3 == 0:\n",
    "        divisivel += 1\n",
    "print(divisivel)"
   ]
  },
  {
   "cell_type": "markdown",
   "metadata": {},
   "source": [
    "### Questão 3: Loops e Matemática\n",
    "##### Enunciado: Escreva um programa que receba um número inteiro positivo como entrada e imprima todos os números de 1 até esse número (inclusive) que sejam múltiplos de 5 ou 7. Use um loop for.\n",
    "Exemplo:\n",
    "- Entrada: 15\n",
    "\n",
    "- Saída:\n",
    "5\n",
    "7\n",
    "10\n",
    "14\n",
    "15\n",
    "\n"
   ]
  },
  {
   "cell_type": "code",
   "execution_count": 33,
   "metadata": {},
   "outputs": [
    {
     "name": "stdout",
     "output_type": "stream",
     "text": [
      "5\n",
      "7\n",
      "10\n",
      "14\n",
      "15\n",
      "20\n",
      "21\n"
     ]
    }
   ],
   "source": [
    "numero = int(input(\"Digite um número: \"))\n",
    "divisiveis = []\n",
    "for i in range(1, numero + 1):\n",
    "    if i%5 == 0 or i%7 ==0:\n",
    "        divisiveis.append(i)\n",
    "for i in divisiveis:\n",
    "    print (i)"
   ]
  },
  {
   "cell_type": "markdown",
   "metadata": {},
   "source": [
    "### Questão 4: Funções e Booleanos\n",
    "##### Enunciado: Escreva uma função chamada eh_primo que receba um número inteiro como parâmetro e retorne True se ele for primo (divisível apenas por 1 e por ele mesmo) e False caso contrário. Use a função em um programa que peça um número ao usuário e imprima \"É primo!\" ou \"Não é primo!\" com base no resultado.\n",
    "Exemplo:\n",
    "- Entrada: 7\n",
    "\n",
    "- Saída: \"É primo!\"\n",
    "\n",
    "- Entrada: 12\n",
    "\n",
    "- Saída: \"Não é primo!\"\n",
    "\n"
   ]
  },
  {
   "cell_type": "code",
   "execution_count": 43,
   "metadata": {},
   "outputs": [
    {
     "name": "stdout",
     "output_type": "stream",
     "text": [
      "Não é primo!\n"
     ]
    }
   ],
   "source": [
    "def eh_primo(primo):\n",
    "    if primo < 2:\n",
    "        return False\n",
    "    for i in range(1,primo):\n",
    "        if primo%i == 0 and i != 1 and i != primo:\n",
    "            return False\n",
    "    return True\n",
    "        \n",
    "numero = int(input())\n",
    "valor = eh_primo(numero)\n",
    "if valor == False:\n",
    "    print(\"Não é primo!\")\n",
    "if valor == True:\n",
    "    print(\"É primo!\")"
   ]
  }
 ],
 "metadata": {
  "kernelspec": {
   "display_name": "base",
   "language": "python",
   "name": "python3"
  },
  "language_info": {
   "codemirror_mode": {
    "name": "ipython",
    "version": 3
   },
   "file_extension": ".py",
   "mimetype": "text/x-python",
   "name": "python",
   "nbconvert_exporter": "python",
   "pygments_lexer": "ipython3",
   "version": "3.9.12"
  }
 },
 "nbformat": 4,
 "nbformat_minor": 2
}
