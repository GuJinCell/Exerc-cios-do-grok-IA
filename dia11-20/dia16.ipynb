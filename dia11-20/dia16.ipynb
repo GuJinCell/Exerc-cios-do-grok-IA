{
 "cells": [
  {
   "cell_type": "markdown",
   "metadata": {},
   "source": [
    "### Questão 1: Strings e Substituição\n",
    "##### Enunciado: Escreva um programa que receba uma frase como entrada e substitua todas as palavras de 3 letras por \"XXX\", imprimindo o resultado. Considere palavras separadas por espaços.\n",
    "Exemplo:\n",
    "- Entrada: \"Eu sou um cara de bem\"\n",
    "\n",
    "- Saída: \"XXX sou XXX cara de XXX\"\n",
    "\n"
   ]
  },
  {
   "cell_type": "code",
   "execution_count": null,
   "metadata": {},
   "outputs": [
    {
     "name": "stdout",
     "output_type": "stream",
     "text": [
      "XXX te XXX XXX XXX tu e XXX\n"
     ]
    }
   ],
   "source": [
    "frase = input(\"Escreva uma frase:\")\n",
    "XXX = \"\"\n",
    "for i in frase.split():\n",
    "    if len(i) == 3:\n",
    "        XXX += \"XXX \"\n",
    "    else:\n",
    "        XXX += i + \" \"\n",
    "print(XXX.strip())"
   ]
  },
  {
   "cell_type": "code",
   "execution_count": 16,
   "metadata": {},
   "outputs": [
    {
     "name": "stdout",
     "output_type": "stream",
     "text": [
      "porra XXX tu ta de sacanagem comigo XXX\n"
     ]
    }
   ],
   "source": [
    "frase = input(\"Escreva uma frase:\")\n",
    "XXX = []\n",
    "for i in frase.split():\n",
    "    if len(i) == 3:\n",
    "        XXX.append(\"XXX\")\n",
    "    else:\n",
    "        XXX.append(i)\n",
    "print(*XXX)"
   ]
  },
  {
   "cell_type": "markdown",
   "metadata": {},
   "source": [
    "### Questão 2: Listas e Pares\n",
    "##### Enunciado: Escreva uma função soma_pares que receba uma lista de inteiros como parâmetro e retorne a soma de todos os elementos nas posições pares (índices 0, 2, 4, ...). Use a função em um programa com uma lista fixa de 6 números e imprima o resultado.\n",
    "Exemplo:\n",
    "- Lista: [1, 2, 3, 4, 5, 6]\n",
    "\n",
    "- Saída: 9 (1 + 3 + 5)\n",
    "\n"
   ]
  },
  {
   "cell_type": "code",
   "execution_count": 6,
   "metadata": {},
   "outputs": [
    {
     "name": "stdout",
     "output_type": "stream",
     "text": [
      "9\n"
     ]
    }
   ],
   "source": [
    "def soma_pares(numeros):\n",
    "    soma_par = 0\n",
    "    for i in range(len(numeros)):\n",
    "        if i%2 == 0:\n",
    "            soma_par += numeros[i]\n",
    "    return soma_par\n",
    "\n",
    "\n",
    "Lista= [1, 2, 3, 4, 5, 6]\n",
    "print(soma_pares(Lista))\n"
   ]
  },
  {
   "cell_type": "markdown",
   "metadata": {},
   "source": [
    "### Questão 3: Dicionários e Média\n",
    "##### Enunciado: Escreva um programa que receba 5 pares \"produto,preço\" (ex.: \"maçã,2.5\") como entrada, um por linha, e armazene em um dicionário (preço como float). Depois, peça ao usuário um número inteiro n e imprima os produtos cujo preço é maior que n vezes a média dos preços, em ordem alfabética, um por linha.\n",
    "Exemplo:\n",
    "- Entradas:\n",
    "\n",
    "maçã,2.5\n",
    "banana,1.5\n",
    "laranja,3.0\n",
    "uva,4.0\n",
    "pera,2.0\n",
    "\n",
    "- Entrada adicional: 2\n",
    "\n",
    "Média: 2.6\n",
    "\n",
    "- Saída:\n",
    "\n",
    "uva\n",
    "\n"
   ]
  },
  {
   "cell_type": "code",
   "execution_count": null,
   "metadata": {},
   "outputs": [],
   "source": [
    "super_merc_lista = {}\n",
    "for i in range(5):\n",
    "    produto,preço = input(\"\").split(\",\")\n",
    "    super_merc_lista[produto]= float(preço)\n",
    "media = sum(super_merc_lista.values())/len(super_merc_lista)\n",
    "valor_n = int(input(\"Escreva um inteiro aleatório: \"))\n",
    "maior_q_media = [produto for produto in super_merc_lista if super_merc_lista[produto]> (valor_n*media)]\n",
    "print(*sorted(maior_q_media),sep=\"\\n\")"
   ]
  },
  {
   "cell_type": "markdown",
   "metadata": {},
   "source": [
    "### Questão 4: Arquivos e Filtro\n",
    "##### Enunciado: Escreva um programa que leia um arquivo \"nomes.txt\" contendo nomes (um por linha). Se o arquivo não existir, crie-o pedindo 5 nomes ao usuário e salve-os. Depois, leia o arquivo e imprima apenas os nomes que começam com vogal (a, e, i, o, u), em ordem alfabética, um por linha. Use encoding=\"utf-8\".\n",
    "Exemplo:\n",
    "- Conteúdo de \"nomes.txt\":\n",
    "\n",
    "Ana\n",
    "Pedro\n",
    "Eva\n",
    "Igor\n",
    "Carlos\n",
    "\n",
    "- Saída:\n",
    "\n",
    "Ana\n",
    "Eva\n",
    "Igor\n",
    "\n"
   ]
  },
  {
   "cell_type": "code",
   "execution_count": null,
   "metadata": {},
   "outputs": [
    {
     "name": "stdout",
     "output_type": "stream",
     "text": [
      "igor\n",
      "\n",
      "eva\n",
      "\n",
      "oito\n",
      "\n"
     ]
    }
   ],
   "source": [
    "vogais = [\"a\",\"e\",\"i\",\"o\",\"u\",]\n",
    "with open(\"nomes.txt\",\"w\",encoding=\"utf-8\") as arquivo:\n",
    "    for i in range(5):\n",
    "        arquivo.write(input(f\"{i}- Nome:\")+\"\\n\")\n",
    "with open(\"nomes.txt\",\"r\",encoding=\"utf-8\") as arquivo:\n",
    "    nome_vogal = sorted([nome.strip() for nome in arquivo if nome[0].lower() in vogais])\n",
    "print(*nome_vogal,sep=\"\\n\")\n"
   ]
  },
  {
   "cell_type": "markdown",
   "metadata": {},
   "source": [
    "### Questão 5: Funções e Sequências\n",
    "##### Enunciado: Escreva uma função fibonacci que receba um número inteiro positivo n como parâmetro e retorne uma lista com os primeiros n termos da sequência de Fibonacci (começando com 0, 1). Use a função em um programa que peça um número ao usuário e imprima a lista.\n",
    "Exemplo:\n",
    "- Entrada: 6\n",
    "\n",
    "- Saída: [0, 1, 1, 2, 3, 5]\n",
    "\n"
   ]
  },
  {
   "cell_type": "code",
   "execution_count": null,
   "metadata": {},
   "outputs": [
    {
     "name": "stdout",
     "output_type": "stream",
     "text": [
      "[0, 1, 1, 2, 3, 5, 8, 13]\n"
     ]
    }
   ],
   "source": [
    "def fibonacci(n):\n",
    "    seq = [0, 1]\n",
    "    if n <= 1:\n",
    "        return seq[:n]\n",
    "    for i in range(n - 2):\n",
    "        seq.append((seq[-2]+seq[-1]))\n",
    "    return seq\n",
    "\n",
    "valor = int(input(\"Digite um número: \"))\n",
    "print(fibonacci(valor))"
   ]
  }
 ],
 "metadata": {
  "kernelspec": {
   "display_name": "Python 3",
   "language": "python",
   "name": "python3"
  },
  "language_info": {
   "codemirror_mode": {
    "name": "ipython",
    "version": 3
   },
   "file_extension": ".py",
   "mimetype": "text/x-python",
   "name": "python",
   "nbconvert_exporter": "python",
   "pygments_lexer": "ipython3",
   "version": "3.11.4"
  }
 },
 "nbformat": 4,
 "nbformat_minor": 2
}
