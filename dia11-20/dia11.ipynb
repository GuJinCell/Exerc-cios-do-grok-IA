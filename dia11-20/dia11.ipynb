{
 "cells": [
  {
   "cell_type": "markdown",
   "metadata": {},
   "source": [
    "### Questão 1: Strings e Contagem\n",
    "##### Enunciado: Escreva um programa que receba uma frase como entrada e imprima o número de vogais (a, e, i, o, u) nela, ignorando maiúsculas/minúsculas.\n",
    "Exemplo:\n",
    "- Entrada: \"Eu gosto de Python\"\n",
    "\n",
    "- Saída: 6 (\"e\", \"u\", \"o\", \"o\", \"e\", \"o\")"
   ]
  },
  {
   "cell_type": "code",
   "execution_count": 2,
   "metadata": {},
   "outputs": [
    {
     "name": "stdout",
     "output_type": "stream",
     "text": [
      "7\n"
     ]
    }
   ],
   "source": [
    "frase = input(\"Escreva uma frase\").lower()\n",
    "vogais = [\"a\",\"e\",\"i\",\"o\",\"u\",]\n",
    "numero_vogais = 0\n",
    "for i in frase:\n",
    "    if i in vogais:\n",
    "        numero_vogais += 1\n",
    "print(numero_vogais)"
   ]
  },
  {
   "cell_type": "markdown",
   "metadata": {},
   "source": [
    "### Questão 2: Listas e Transformação\n",
    "##### Enunciado: Escreva uma função dobrar_pares que receba uma lista de números inteiros como parâmetro e retorne uma nova lista onde os números pares são dobrados e os ímpares permanecem iguais. Use a função em um programa com uma lista fixa de 6 números e imprima o resultado.\n",
    "Exemplo:\n",
    "- Lista: [1, 2, 3, 4, 5, 6]\n",
    "\n",
    "- Saída: [1, 4, 3, 8, 5, 12]"
   ]
  },
  {
   "cell_type": "code",
   "execution_count": 43,
   "metadata": {},
   "outputs": [
    {
     "name": "stdout",
     "output_type": "stream",
     "text": [
      "[1, 4, 3, 8, 5, 12]\n"
     ]
    }
   ],
   "source": [
    "def dobra_pares(lista):\n",
    "    nova_par = []\n",
    "    while lista:\n",
    "        if lista[0]%2 == 0:\n",
    "            nova_par.append((2 * lista.pop(0)))\n",
    "        else:\n",
    "            nova_par.append(lista.pop(0))\n",
    "    return nova_par\n",
    "\n",
    "\n",
    "pares = [1, 2, 3, 4, 5, 6]\n",
    "print(dobra_pares(pares))"
   ]
  },
  {
   "cell_type": "markdown",
   "metadata": {},
   "source": [
    "### Questão 3: Dicionários e Média\n",
    "##### Enunciado: Escreva um programa que receba 4 pares \"aluno,nota\" (ex.: \"Ana,8.5\") como entrada, um por linha, e armazene em um dicionário (nota como float). Depois, imprima o nome do aluno com a maior nota e a média das notas.\n",
    "Exemplo:\n",
    "- Entradas:\n",
    "\n",
    "Ana,8.5\n",
    "João,7.0\n",
    "Maria,9.2\n",
    "Pedro,6.8\n",
    "\n",
    "- Saída:\n",
    "\n",
    "Aluno com maior nota: Maria\n",
    "Média das notas: 7.875"
   ]
  },
  {
   "cell_type": "code",
   "execution_count": null,
   "metadata": {},
   "outputs": [
    {
     "name": "stdout",
     "output_type": "stream",
     "text": [
      "{'a': 9.0, 'b': 3.0, 'c': 6.0, 'd': 8.0}\n",
      "Aluno com maior nota: 9.0 Média das nota: 6.5\n"
     ]
    }
   ],
   "source": [
    "boletim = {}\n",
    "soma = 0\n",
    "for i in range(4):\n",
    "    nome,nota = input(\"\").split(\",\")\n",
    "    boletim[nome] = float(nota)\n",
    "total = sum(boletim.values())\n",
    "media = (total) / (len(boletim))\n",
    "print(f\"Aluno com maior nota: {max(boletim, key=boletim.get)} Média das nota: {media}\")"
   ]
  },
  {
   "cell_type": "markdown",
   "metadata": {},
   "source": [
    "### Questão 4: Loops e Condições\n",
    "##### Enunciado: Escreva um programa que receba um número inteiro positivo como entrada e imprima todos os números primos de 2 até esse número (inclusive), um por linha. (Um número primo é divisível apenas por 1 e por ele mesmo.)\n",
    "Exemplo:\n",
    "- Entrada: 10\n",
    "\n",
    "- Saída:\n",
    "\n",
    "2\n",
    "3\n",
    "5\n",
    "7"
   ]
  },
  {
   "cell_type": "code",
   "execution_count": 54,
   "metadata": {},
   "outputs": [
    {
     "name": "stdout",
     "output_type": "stream",
     "text": [
      "2\n",
      "3\n",
      "5\n",
      "7\n"
     ]
    }
   ],
   "source": [
    "numero = int(input(\"numero\"))\n",
    "primos = []\n",
    "for i in range(2, numero + 1):\n",
    "    primo = True\n",
    "    for j in range(2, i):\n",
    "        if i%j == 0:\n",
    "            primo = False\n",
    "            break\n",
    "    if primo:\n",
    "        primos.append(i)\n",
    "print(*primos,sep=\"\\n\")"
   ]
  },
  {
   "cell_type": "markdown",
   "metadata": {},
   "source": [
    "### Questão 5: Funções e Lógica\n",
    "##### Enunciado: Escreva uma função soma_digitos que receba um número inteiro positivo como parâmetro e retorne a soma dos seus dígitos. Use a função em um programa que peça um número ao usuário e imprima o resultado.\n",
    "Exemplo:\n",
    "- Entrada: 123\n",
    "\n",
    "- Saída: 6 (1 + 2 + 3)"
   ]
  },
  {
   "cell_type": "code",
   "execution_count": 35,
   "metadata": {},
   "outputs": [
    {
     "name": "stdout",
     "output_type": "stream",
     "text": [
      "6\n"
     ]
    }
   ],
   "source": [
    "def soma_digitos(numero):\n",
    "    soma = 0\n",
    "    for i in numero:\n",
    "        soma += int(i)\n",
    "    return soma\n",
    "\n",
    "valor = input(\"Escreva um número: \")\n",
    "print(soma_digitos(valor))"
   ]
  }
 ],
 "metadata": {
  "kernelspec": {
   "display_name": "Python 3",
   "language": "python",
   "name": "python3"
  },
  "language_info": {
   "codemirror_mode": {
    "name": "ipython",
    "version": 3
   },
   "file_extension": ".py",
   "mimetype": "text/x-python",
   "name": "python",
   "nbconvert_exporter": "python",
   "pygments_lexer": "ipython3",
   "version": "3.11.4"
  }
 },
 "nbformat": 4,
 "nbformat_minor": 2
}
