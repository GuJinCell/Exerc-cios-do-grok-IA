{
 "cells": [
  {
   "cell_type": "markdown",
   "metadata": {},
   "source": [
    "### Questão 1: Strings e Inversão\n",
    "##### Enunciado: Escreva um programa que receba uma frase como entrada e imprima cada palavra da frase em ordem inversa, mantendo a ordem das palavras (ex.: \"eu gosto\" → \"ue otsog\").\n",
    "Exemplo:\n",
    "- Entrada: \"Eu gosto de Python\"\n",
    "\n",
    "- Saída: \"uE otsog ed nohtyP\"\n",
    "\n"
   ]
  },
  {
   "cell_type": "code",
   "execution_count": null,
   "metadata": {},
   "outputs": [
    {
     "name": "stdout",
     "output_type": "stream",
     "text": [
      "uE otsog ed nohtyP\n"
     ]
    }
   ],
   "source": [
    "frase = input(\"Escreva uma frase: \")\n",
    "contra = \"\"\n",
    "for i in frase.split(\" \"):\n",
    "    contra += (\"\").join(i[-1::-1]+\" \")\n",
    "print(contra.strip())"
   ]
  },
  {
   "cell_type": "code",
   "execution_count": 45,
   "metadata": {},
   "outputs": [
    {
     "name": "stdout",
     "output_type": "stream",
     "text": [
      "arrop aiem mu\n"
     ]
    }
   ],
   "source": [
    "frase = input(\"Escreva uma frase: \")\n",
    "contra = []\n",
    "for i in frase.split(\" \"):\n",
    "    contra.append(i[-1::-1])\n",
    "print(*contra)"
   ]
  },
  {
   "cell_type": "markdown",
   "metadata": {},
   "source": [
    "### Questão 2: Listas e Ordenação\n",
    "##### Enunciado: Escreva uma função ordena_par_impar que receba uma lista de números inteiros como parâmetro e retorne uma nova lista onde os números pares aparecem primeiro (em ordem crescente) seguidos pelos números ímpares (em ordem crescente). Use a função em um programa com uma lista fixa de 6 números e imprima o resultado.\n",
    "Exemplo:\n",
    "- Lista: [3, 1, 4, 6, 5, 2]\n",
    "\n",
    "- Saída: [2, 4, 6, 1, 3, 5]\n",
    "\n"
   ]
  },
  {
   "cell_type": "code",
   "execution_count": 35,
   "metadata": {},
   "outputs": [
    {
     "name": "stdout",
     "output_type": "stream",
     "text": [
      "[2, 4, 6, 1, 3, 5]\n"
     ]
    }
   ],
   "source": [
    "def ordena_par_impar(numeros):\n",
    "    arruma = sorted(numeros)\n",
    "    par, impar = [], []\n",
    "    while arruma:\n",
    "        if arruma[0]%2 ==0:\n",
    "            par.append(arruma.pop(0))\n",
    "        else:\n",
    "            impar.append(arruma.pop(0))\n",
    "    ordenada = par + impar\n",
    "    return ordenada\n",
    "\n",
    "\n",
    "\n",
    "exemplo = [3, 1, 4, 6, 5, 2]\n",
    "print(ordena_par_impar(exemplo))"
   ]
  },
  {
   "cell_type": "markdown",
   "metadata": {},
   "source": [
    "### Questão 3: Dicionários e Atualização\n",
    "##### Enunciado: Escreva um programa que receba 5 pares \"nome,idade\" (ex.: \"Ana,25\") como entrada, um por linha, e armazene em um dicionário (idade como inteiro). Depois, peça ao usuário um nome e um valor para adicionar à idade dessa pessoa, atualize o dicionário e imprima o dicionário atualizado.\n",
    "Exemplo:\n",
    "- Entradas iniciais:\n",
    "\n",
    "Ana,25\n",
    "João,30\n",
    "Maria,22\n",
    "Pedro,28\n",
    "Luiza,19\n",
    "\n",
    "- Entrada adicional: \"João 5\"\n",
    "\n",
    "- Saída: {'Ana': 25, 'João': 35, 'Maria': 22, 'Pedro': 28, 'Luiza': 19}\n",
    "\n"
   ]
  },
  {
   "cell_type": "code",
   "execution_count": null,
   "metadata": {},
   "outputs": [
    {
     "name": "stdout",
     "output_type": "stream",
     "text": [
      "{'ana': 25}\n"
     ]
    }
   ],
   "source": [
    "turma = {}\n",
    "for i in range(5):\n",
    "    nome, idade = input(\"Escreva o nome, adicione ',' e escreva a idade: \").split(\",\")\n",
    "    turma[nome] = int(idade)\n",
    "nome, exidade = input(\"Atualize o dicionário: \").split(\",\")\n",
    "turma[nome] += int(exidade)\n",
    "print(turma)\n"
   ]
  },
  {
   "cell_type": "markdown",
   "metadata": {},
   "source": [
    "### Questão 4: Loops e Sequências\n",
    "##### Enunciado: Escreva um programa que receba um número inteiro positivo n como entrada e imprima os primeiros n termos da sequência de números triangulares (1, 3, 6, 10, 15, ...), onde cada termo é a soma dos números naturais até aquele ponto (1, 1+2, 1+2+3, etc.), um por linha.\n",
    "Exemplo:\n",
    "- Entrada: 5\n",
    "\n",
    "- Saída:\n",
    "\n",
    "1\n",
    "3\n",
    "6\n",
    "10\n",
    "15\n",
    "\n"
   ]
  },
  {
   "cell_type": "code",
   "execution_count": 40,
   "metadata": {},
   "outputs": [
    {
     "name": "stdout",
     "output_type": "stream",
     "text": [
      "1\n",
      "3\n",
      "6\n",
      "10\n",
      "15\n"
     ]
    }
   ],
   "source": [
    "valor = int(input(\"Escreva um número: \"))\n",
    "soma = 0\n",
    "for i in range(1,valor+1):\n",
    "    soma += i\n",
    "    print(soma)\n"
   ]
  },
  {
   "cell_type": "markdown",
   "metadata": {},
   "source": [
    "### Questão 5: Funções e Validação\n",
    "##### Enunciado: Escreva uma função eh_perfeito que receba um número inteiro positivo como parâmetro e retorne True se ele for um número perfeito (a soma de seus divisores próprios, excluindo ele mesmo, é igual ao número) e False caso contrário. Use a função em um programa que peça um número ao usuário e imprima o resultado.\n",
    "Exemplo:\n",
    "- Entrada: 6 (divisores próprios: 1, 2, 3; soma = 6)\n",
    "\n",
    "- Saída: True\n",
    "\n",
    "- Entrada: 8 (divisores próprios: 1, 2, 4; soma = 7)\n",
    "\n",
    "- Saída: False\n",
    "\n"
   ]
  },
  {
   "cell_type": "code",
   "execution_count": 47,
   "metadata": {},
   "outputs": [
    {
     "name": "stdout",
     "output_type": "stream",
     "text": [
      "True\n"
     ]
    }
   ],
   "source": [
    "def eh_perfeito(inteiro):\n",
    "    divisores =[]\n",
    "    for i in range(1, (inteiro)):\n",
    "        if inteiro%i == 0:\n",
    "            divisores.append(i)\n",
    "    return sum(divisores) == inteiro\n",
    "\n",
    "valor = int(input(\"\"))\n",
    "print(eh_perfeito(valor))"
   ]
  },
  {
   "cell_type": "code",
   "execution_count": null,
   "metadata": {},
   "outputs": [],
   "source": [
    "def eh_perfeito(inteiro):\n",
    "    divisores = [i for i in range(1, inteiro) if inteiro % i == 0]\n",
    "    return sum(divisores) == inteiro\n",
    "\n",
    "valor = int(input(\"\"))\n",
    "print(eh_perfeito(valor))"
   ]
  }
 ],
 "metadata": {
  "kernelspec": {
   "display_name": "Python 3",
   "language": "python",
   "name": "python3"
  },
  "language_info": {
   "codemirror_mode": {
    "name": "ipython",
    "version": 3
   },
   "file_extension": ".py",
   "mimetype": "text/x-python",
   "name": "python",
   "nbconvert_exporter": "python",
   "pygments_lexer": "ipython3",
   "version": "3.11.4"
  }
 },
 "nbformat": 4,
 "nbformat_minor": 2
}
